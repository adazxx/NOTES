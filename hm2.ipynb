{
 "cells": [
  {
   "cell_type": "markdown",
   "metadata": {},
   "source": [
    "# HM2 - Ada Zhong"
   ]
  },
  {
   "cell_type": "code",
   "execution_count": 1,
   "metadata": {},
   "outputs": [],
   "source": [
    "import numpy as np\n",
    "import pandas as pd"
   ]
  },
  {
   "cell_type": "code",
   "execution_count": 2,
   "metadata": {},
   "outputs": [],
   "source": [
    "from sklearn.linear_model import LinearRegression\n",
    "from sklearn.metrics import mean_squared_error"
   ]
  },
  {
   "cell_type": "code",
   "execution_count": 3,
   "metadata": {},
   "outputs": [],
   "source": [
    "df = pd.read_csv('homes.csv')"
   ]
  },
  {
   "cell_type": "code",
   "execution_count": 4,
   "metadata": {},
   "outputs": [
    {
     "data": {
      "text/plain": [
       "Index(['price', 'area', 'beds', 'baths', 'garage', 'year', 'style', 'lotsize',\n",
       "       'ac', 'pool', 'quality', 'highway'],\n",
       "      dtype='object')"
      ]
     },
     "execution_count": 4,
     "metadata": {},
     "output_type": "execute_result"
    }
   ],
   "source": [
    "df.columns"
   ]
  },
  {
   "cell_type": "code",
   "execution_count": 5,
   "metadata": {},
   "outputs": [],
   "source": [
    "df['2001'] = 2001"
   ]
  },
  {
   "cell_type": "code",
   "execution_count": 6,
   "metadata": {},
   "outputs": [
    {
     "data": {
      "text/html": [
       "<div>\n",
       "<style scoped>\n",
       "    .dataframe tbody tr th:only-of-type {\n",
       "        vertical-align: middle;\n",
       "    }\n",
       "\n",
       "    .dataframe tbody tr th {\n",
       "        vertical-align: top;\n",
       "    }\n",
       "\n",
       "    .dataframe thead th {\n",
       "        text-align: right;\n",
       "    }\n",
       "</style>\n",
       "<table border=\"1\" class=\"dataframe\">\n",
       "  <thead>\n",
       "    <tr style=\"text-align: right;\">\n",
       "      <th></th>\n",
       "      <th>price</th>\n",
       "      <th>area</th>\n",
       "      <th>beds</th>\n",
       "      <th>baths</th>\n",
       "      <th>garage</th>\n",
       "      <th>age</th>\n",
       "      <th>style</th>\n",
       "      <th>lotsize</th>\n",
       "      <th>ac</th>\n",
       "      <th>pool</th>\n",
       "      <th>quality</th>\n",
       "      <th>highway</th>\n",
       "    </tr>\n",
       "  </thead>\n",
       "  <tbody>\n",
       "    <tr>\n",
       "      <th>0</th>\n",
       "      <td>360000</td>\n",
       "      <td>3032</td>\n",
       "      <td>4</td>\n",
       "      <td>4</td>\n",
       "      <td>2</td>\n",
       "      <td>29</td>\n",
       "      <td>1</td>\n",
       "      <td>22221</td>\n",
       "      <td>YES</td>\n",
       "      <td>NO</td>\n",
       "      <td>MEDIUM</td>\n",
       "      <td>NO</td>\n",
       "    </tr>\n",
       "    <tr>\n",
       "      <th>1</th>\n",
       "      <td>340000</td>\n",
       "      <td>2058</td>\n",
       "      <td>4</td>\n",
       "      <td>2</td>\n",
       "      <td>2</td>\n",
       "      <td>25</td>\n",
       "      <td>1</td>\n",
       "      <td>22912</td>\n",
       "      <td>YES</td>\n",
       "      <td>NO</td>\n",
       "      <td>MEDIUM</td>\n",
       "      <td>NO</td>\n",
       "    </tr>\n",
       "    <tr>\n",
       "      <th>2</th>\n",
       "      <td>250000</td>\n",
       "      <td>1780</td>\n",
       "      <td>4</td>\n",
       "      <td>3</td>\n",
       "      <td>2</td>\n",
       "      <td>21</td>\n",
       "      <td>1</td>\n",
       "      <td>21345</td>\n",
       "      <td>YES</td>\n",
       "      <td>NO</td>\n",
       "      <td>MEDIUM</td>\n",
       "      <td>NO</td>\n",
       "    </tr>\n",
       "    <tr>\n",
       "      <th>3</th>\n",
       "      <td>205500</td>\n",
       "      <td>1638</td>\n",
       "      <td>4</td>\n",
       "      <td>2</td>\n",
       "      <td>2</td>\n",
       "      <td>38</td>\n",
       "      <td>1</td>\n",
       "      <td>17342</td>\n",
       "      <td>YES</td>\n",
       "      <td>NO</td>\n",
       "      <td>MEDIUM</td>\n",
       "      <td>NO</td>\n",
       "    </tr>\n",
       "    <tr>\n",
       "      <th>4</th>\n",
       "      <td>275500</td>\n",
       "      <td>2196</td>\n",
       "      <td>4</td>\n",
       "      <td>3</td>\n",
       "      <td>2</td>\n",
       "      <td>33</td>\n",
       "      <td>7</td>\n",
       "      <td>21786</td>\n",
       "      <td>YES</td>\n",
       "      <td>NO</td>\n",
       "      <td>MEDIUM</td>\n",
       "      <td>NO</td>\n",
       "    </tr>\n",
       "  </tbody>\n",
       "</table>\n",
       "</div>"
      ],
      "text/plain": [
       "    price  area  beds  baths  garage  age  style  lotsize   ac pool quality  \\\n",
       "0  360000  3032     4      4       2   29      1    22221  YES   NO  MEDIUM   \n",
       "1  340000  2058     4      2       2   25      1    22912  YES   NO  MEDIUM   \n",
       "2  250000  1780     4      3       2   21      1    21345  YES   NO  MEDIUM   \n",
       "3  205500  1638     4      2       2   38      1    17342  YES   NO  MEDIUM   \n",
       "4  275500  2196     4      3       2   33      7    21786  YES   NO  MEDIUM   \n",
       "\n",
       "  highway  \n",
       "0      NO  \n",
       "1      NO  \n",
       "2      NO  \n",
       "3      NO  \n",
       "4      NO  "
      ]
     },
     "execution_count": 6,
     "metadata": {},
     "output_type": "execute_result"
    }
   ],
   "source": [
    "df['age'] = df.apply(lambda row: row['2001'] - row['year'],axis=1)\n",
    "df['year'] = df['age']\n",
    "df = df.drop(['age','2001'],axis = 1)\n",
    "df.rename(columns = {'year':'age'},inplace = True)\n",
    "df[:5]"
   ]
  },
  {
   "cell_type": "code",
   "execution_count": 7,
   "metadata": {},
   "outputs": [
    {
     "data": {
      "text/plain": [
       "['price', 'lotsize', 'area', 'beds', 'baths', 'age', 'garage']"
      ]
     },
     "execution_count": 7,
     "metadata": {},
     "output_type": "execute_result"
    }
   ],
   "source": [
    "list1 = ['price','lotsize','area','beds','baths','age','garage']\n",
    "list1"
   ]
  },
  {
   "cell_type": "code",
   "execution_count": 8,
   "metadata": {},
   "outputs": [
    {
     "data": {
      "text/html": [
       "<div>\n",
       "<style scoped>\n",
       "    .dataframe tbody tr th:only-of-type {\n",
       "        vertical-align: middle;\n",
       "    }\n",
       "\n",
       "    .dataframe tbody tr th {\n",
       "        vertical-align: top;\n",
       "    }\n",
       "\n",
       "    .dataframe thead th {\n",
       "        text-align: right;\n",
       "    }\n",
       "</style>\n",
       "<table border=\"1\" class=\"dataframe\">\n",
       "  <thead>\n",
       "    <tr style=\"text-align: right;\">\n",
       "      <th></th>\n",
       "      <th>price</th>\n",
       "      <th>lotsize</th>\n",
       "      <th>area</th>\n",
       "      <th>beds</th>\n",
       "      <th>baths</th>\n",
       "      <th>age</th>\n",
       "      <th>garage</th>\n",
       "    </tr>\n",
       "  </thead>\n",
       "  <tbody>\n",
       "    <tr>\n",
       "      <th>0</th>\n",
       "      <td>360000</td>\n",
       "      <td>22221</td>\n",
       "      <td>3032</td>\n",
       "      <td>4</td>\n",
       "      <td>4</td>\n",
       "      <td>29</td>\n",
       "      <td>2</td>\n",
       "    </tr>\n",
       "    <tr>\n",
       "      <th>1</th>\n",
       "      <td>340000</td>\n",
       "      <td>22912</td>\n",
       "      <td>2058</td>\n",
       "      <td>4</td>\n",
       "      <td>2</td>\n",
       "      <td>25</td>\n",
       "      <td>2</td>\n",
       "    </tr>\n",
       "    <tr>\n",
       "      <th>2</th>\n",
       "      <td>250000</td>\n",
       "      <td>21345</td>\n",
       "      <td>1780</td>\n",
       "      <td>4</td>\n",
       "      <td>3</td>\n",
       "      <td>21</td>\n",
       "      <td>2</td>\n",
       "    </tr>\n",
       "    <tr>\n",
       "      <th>3</th>\n",
       "      <td>205500</td>\n",
       "      <td>17342</td>\n",
       "      <td>1638</td>\n",
       "      <td>4</td>\n",
       "      <td>2</td>\n",
       "      <td>38</td>\n",
       "      <td>2</td>\n",
       "    </tr>\n",
       "    <tr>\n",
       "      <th>4</th>\n",
       "      <td>275500</td>\n",
       "      <td>21786</td>\n",
       "      <td>2196</td>\n",
       "      <td>4</td>\n",
       "      <td>3</td>\n",
       "      <td>33</td>\n",
       "      <td>2</td>\n",
       "    </tr>\n",
       "  </tbody>\n",
       "</table>\n",
       "</div>"
      ],
      "text/plain": [
       "    price  lotsize  area  beds  baths  age  garage\n",
       "0  360000    22221  3032     4      4   29       2\n",
       "1  340000    22912  2058     4      2   25       2\n",
       "2  250000    21345  1780     4      3   21       2\n",
       "3  205500    17342  1638     4      2   38       2\n",
       "4  275500    21786  2196     4      3   33       2"
      ]
     },
     "execution_count": 8,
     "metadata": {},
     "output_type": "execute_result"
    }
   ],
   "source": [
    "df1 = df[list1]\n",
    "df1[:5]"
   ]
  },
  {
   "cell_type": "code",
   "execution_count": 9,
   "metadata": {},
   "outputs": [
    {
     "name": "stdout",
     "output_type": "stream",
     "text": [
      "<class 'pandas.core.frame.DataFrame'>\n",
      "RangeIndex: 522 entries, 0 to 521\n",
      "Data columns (total 7 columns):\n",
      "price      522 non-null int64\n",
      "lotsize    522 non-null int64\n",
      "area       522 non-null int64\n",
      "beds       522 non-null int64\n",
      "baths      522 non-null int64\n",
      "age        522 non-null int64\n",
      "garage     522 non-null int64\n",
      "dtypes: int64(7)\n",
      "memory usage: 28.6 KB\n"
     ]
    }
   ],
   "source": [
    "df1.info()"
   ]
  },
  {
   "cell_type": "markdown",
   "metadata": {},
   "source": [
    "Question 1"
   ]
  },
  {
   "cell_type": "code",
   "execution_count": 10,
   "metadata": {},
   "outputs": [],
   "source": [
    "import statsmodels.api as sm"
   ]
  },
  {
   "cell_type": "code",
   "execution_count": 11,
   "metadata": {},
   "outputs": [
    {
     "data": {
      "text/plain": [
       "0    4\n",
       "1    4\n",
       "2    4\n",
       "3    4\n",
       "4    4\n",
       "Name: beds, dtype: int64"
      ]
     },
     "execution_count": 11,
     "metadata": {},
     "output_type": "execute_result"
    }
   ],
   "source": [
    "x0 = df1.iloc[:,3]\n",
    "x0[:5]"
   ]
  },
  {
   "cell_type": "code",
   "execution_count": 12,
   "metadata": {},
   "outputs": [
    {
     "data": {
      "text/plain": [
       "0    360000\n",
       "1    340000\n",
       "2    250000\n",
       "3    205500\n",
       "4    275500\n",
       "Name: price, dtype: int64"
      ]
     },
     "execution_count": 12,
     "metadata": {},
     "output_type": "execute_result"
    }
   ],
   "source": [
    "y0 = df1.iloc[:,0]\n",
    "y0[:5]"
   ]
  },
  {
   "cell_type": "code",
   "execution_count": 13,
   "metadata": {},
   "outputs": [],
   "source": [
    "x = x0.to_numpy()"
   ]
  },
  {
   "cell_type": "code",
   "execution_count": 14,
   "metadata": {},
   "outputs": [
    {
     "data": {
      "text/plain": [
       "array([[1., 4.],\n",
       "       [1., 4.],\n",
       "       [1., 4.],\n",
       "       [1., 4.],\n",
       "       [1., 4.]])"
      ]
     },
     "execution_count": 14,
     "metadata": {},
     "output_type": "execute_result"
    }
   ],
   "source": [
    "x1 = sm.add_constant(x)\n",
    "x1[:5]"
   ]
  },
  {
   "cell_type": "code",
   "execution_count": 15,
   "metadata": {},
   "outputs": [],
   "source": [
    "m1 = sm.OLS(y0,x1).fit()"
   ]
  },
  {
   "cell_type": "code",
   "execution_count": 16,
   "metadata": {},
   "outputs": [
    {
     "data": {
      "text/html": [
       "<table class=\"simpletable\">\n",
       "<caption>OLS Regression Results</caption>\n",
       "<tr>\n",
       "  <th>Dep. Variable:</th>          <td>price</td>      <th>  R-squared:         </th> <td>   0.171</td> \n",
       "</tr>\n",
       "<tr>\n",
       "  <th>Model:</th>                   <td>OLS</td>       <th>  Adj. R-squared:    </th> <td>   0.169</td> \n",
       "</tr>\n",
       "<tr>\n",
       "  <th>Method:</th>             <td>Least Squares</td>  <th>  F-statistic:       </th> <td>   107.1</td> \n",
       "</tr>\n",
       "<tr>\n",
       "  <th>Date:</th>             <td>Wed, 25 Sep 2019</td> <th>  Prob (F-statistic):</th> <td>5.89e-23</td> \n",
       "</tr>\n",
       "<tr>\n",
       "  <th>Time:</th>                 <td>16:47:10</td>     <th>  Log-Likelihood:    </th> <td> -6868.9</td> \n",
       "</tr>\n",
       "<tr>\n",
       "  <th>No. Observations:</th>      <td>   522</td>      <th>  AIC:               </th> <td>1.374e+04</td>\n",
       "</tr>\n",
       "<tr>\n",
       "  <th>Df Residuals:</th>          <td>   520</td>      <th>  BIC:               </th> <td>1.375e+04</td>\n",
       "</tr>\n",
       "<tr>\n",
       "  <th>Df Model:</th>              <td>     1</td>      <th>                     </th>     <td> </td>    \n",
       "</tr>\n",
       "<tr>\n",
       "  <th>Covariance Type:</th>      <td>nonrobust</td>    <th>                     </th>     <td> </td>    \n",
       "</tr>\n",
       "</table>\n",
       "<table class=\"simpletable\">\n",
       "<tr>\n",
       "    <td></td>       <th>coef</th>     <th>std err</th>      <th>t</th>      <th>P>|t|</th>  <th>[0.025</th>    <th>0.975]</th>  \n",
       "</tr>\n",
       "<tr>\n",
       "  <th>const</th> <td> 8.281e+04</td> <td> 1.96e+04</td> <td>    4.218</td> <td> 0.000</td> <td> 4.42e+04</td> <td> 1.21e+05</td>\n",
       "</tr>\n",
       "<tr>\n",
       "  <th>x1</th>    <td>  5.62e+04</td> <td> 5429.563</td> <td>   10.351</td> <td> 0.000</td> <td> 4.55e+04</td> <td> 6.69e+04</td>\n",
       "</tr>\n",
       "</table>\n",
       "<table class=\"simpletable\">\n",
       "<tr>\n",
       "  <th>Omnibus:</th>       <td>189.593</td> <th>  Durbin-Watson:     </th> <td>   0.557</td> \n",
       "</tr>\n",
       "<tr>\n",
       "  <th>Prob(Omnibus):</th> <td> 0.000</td>  <th>  Jarque-Bera (JB):  </th> <td> 565.334</td> \n",
       "</tr>\n",
       "<tr>\n",
       "  <th>Skew:</th>          <td> 1.767</td>  <th>  Prob(JB):          </th> <td>1.73e-123</td>\n",
       "</tr>\n",
       "<tr>\n",
       "  <th>Kurtosis:</th>      <td> 6.676</td>  <th>  Cond. No.          </th> <td>    13.8</td> \n",
       "</tr>\n",
       "</table><br/><br/>Warnings:<br/>[1] Standard Errors assume that the covariance matrix of the errors is correctly specified."
      ],
      "text/plain": [
       "<class 'statsmodels.iolib.summary.Summary'>\n",
       "\"\"\"\n",
       "                            OLS Regression Results                            \n",
       "==============================================================================\n",
       "Dep. Variable:                  price   R-squared:                       0.171\n",
       "Model:                            OLS   Adj. R-squared:                  0.169\n",
       "Method:                 Least Squares   F-statistic:                     107.1\n",
       "Date:                Wed, 25 Sep 2019   Prob (F-statistic):           5.89e-23\n",
       "Time:                        16:47:10   Log-Likelihood:                -6868.9\n",
       "No. Observations:                 522   AIC:                         1.374e+04\n",
       "Df Residuals:                     520   BIC:                         1.375e+04\n",
       "Df Model:                           1                                         \n",
       "Covariance Type:            nonrobust                                         \n",
       "==============================================================================\n",
       "                 coef    std err          t      P>|t|      [0.025      0.975]\n",
       "------------------------------------------------------------------------------\n",
       "const       8.281e+04   1.96e+04      4.218      0.000    4.42e+04    1.21e+05\n",
       "x1           5.62e+04   5429.563     10.351      0.000    4.55e+04    6.69e+04\n",
       "==============================================================================\n",
       "Omnibus:                      189.593   Durbin-Watson:                   0.557\n",
       "Prob(Omnibus):                  0.000   Jarque-Bera (JB):              565.334\n",
       "Skew:                           1.767   Prob(JB):                    1.73e-123\n",
       "Kurtosis:                       6.676   Cond. No.                         13.8\n",
       "==============================================================================\n",
       "\n",
       "Warnings:\n",
       "[1] Standard Errors assume that the covariance matrix of the errors is correctly specified.\n",
       "\"\"\""
      ]
     },
     "execution_count": 16,
     "metadata": {},
     "output_type": "execute_result"
    }
   ],
   "source": [
    "m1.summary()"
   ]
  },
  {
   "cell_type": "code",
   "execution_count": 17,
   "metadata": {},
   "outputs": [
    {
     "data": {
      "text/plain": [
       "const    82808.799613\n",
       "x1       56200.083666\n",
       "dtype: float64"
      ]
     },
     "execution_count": 17,
     "metadata": {},
     "output_type": "execute_result"
    }
   ],
   "source": [
    "m1.params"
   ]
  },
  {
   "cell_type": "code",
   "execution_count": 18,
   "metadata": {},
   "outputs": [],
   "source": [
    "# The estimated increase in price is $56,200 for each additional bedroom"
   ]
  },
  {
   "cell_type": "markdown",
   "metadata": {},
   "source": [
    "Question 2"
   ]
  },
  {
   "cell_type": "code",
   "execution_count": 19,
   "metadata": {},
   "outputs": [
    {
     "data": {
      "text/html": [
       "<div>\n",
       "<style scoped>\n",
       "    .dataframe tbody tr th:only-of-type {\n",
       "        vertical-align: middle;\n",
       "    }\n",
       "\n",
       "    .dataframe tbody tr th {\n",
       "        vertical-align: top;\n",
       "    }\n",
       "\n",
       "    .dataframe thead th {\n",
       "        text-align: right;\n",
       "    }\n",
       "</style>\n",
       "<table border=\"1\" class=\"dataframe\">\n",
       "  <thead>\n",
       "    <tr style=\"text-align: right;\">\n",
       "      <th></th>\n",
       "      <th>lotsize</th>\n",
       "      <th>area</th>\n",
       "      <th>beds</th>\n",
       "      <th>baths</th>\n",
       "      <th>age</th>\n",
       "      <th>garage</th>\n",
       "    </tr>\n",
       "  </thead>\n",
       "  <tbody>\n",
       "    <tr>\n",
       "      <th>0</th>\n",
       "      <td>22221</td>\n",
       "      <td>3032</td>\n",
       "      <td>4</td>\n",
       "      <td>4</td>\n",
       "      <td>29</td>\n",
       "      <td>2</td>\n",
       "    </tr>\n",
       "    <tr>\n",
       "      <th>1</th>\n",
       "      <td>22912</td>\n",
       "      <td>2058</td>\n",
       "      <td>4</td>\n",
       "      <td>2</td>\n",
       "      <td>25</td>\n",
       "      <td>2</td>\n",
       "    </tr>\n",
       "    <tr>\n",
       "      <th>2</th>\n",
       "      <td>21345</td>\n",
       "      <td>1780</td>\n",
       "      <td>4</td>\n",
       "      <td>3</td>\n",
       "      <td>21</td>\n",
       "      <td>2</td>\n",
       "    </tr>\n",
       "    <tr>\n",
       "      <th>3</th>\n",
       "      <td>17342</td>\n",
       "      <td>1638</td>\n",
       "      <td>4</td>\n",
       "      <td>2</td>\n",
       "      <td>38</td>\n",
       "      <td>2</td>\n",
       "    </tr>\n",
       "    <tr>\n",
       "      <th>4</th>\n",
       "      <td>21786</td>\n",
       "      <td>2196</td>\n",
       "      <td>4</td>\n",
       "      <td>3</td>\n",
       "      <td>33</td>\n",
       "      <td>2</td>\n",
       "    </tr>\n",
       "  </tbody>\n",
       "</table>\n",
       "</div>"
      ],
      "text/plain": [
       "   lotsize  area  beds  baths  age  garage\n",
       "0    22221  3032     4      4   29       2\n",
       "1    22912  2058     4      2   25       2\n",
       "2    21345  1780     4      3   21       2\n",
       "3    17342  1638     4      2   38       2\n",
       "4    21786  2196     4      3   33       2"
      ]
     },
     "execution_count": 19,
     "metadata": {},
     "output_type": "execute_result"
    }
   ],
   "source": [
    "X0 = df1.iloc[:,1:7]\n",
    "X0[:5]"
   ]
  },
  {
   "cell_type": "code",
   "execution_count": 20,
   "metadata": {},
   "outputs": [
    {
     "data": {
      "text/plain": [
       "array([[1.0000e+00, 2.2221e+04, 3.0320e+03, 4.0000e+00, 4.0000e+00,\n",
       "        2.9000e+01, 2.0000e+00],\n",
       "       [1.0000e+00, 2.2912e+04, 2.0580e+03, 4.0000e+00, 2.0000e+00,\n",
       "        2.5000e+01, 2.0000e+00],\n",
       "       [1.0000e+00, 2.1345e+04, 1.7800e+03, 4.0000e+00, 3.0000e+00,\n",
       "        2.1000e+01, 2.0000e+00],\n",
       "       [1.0000e+00, 1.7342e+04, 1.6380e+03, 4.0000e+00, 2.0000e+00,\n",
       "        3.8000e+01, 2.0000e+00],\n",
       "       [1.0000e+00, 2.1786e+04, 2.1960e+03, 4.0000e+00, 3.0000e+00,\n",
       "        3.3000e+01, 2.0000e+00]])"
      ]
     },
     "execution_count": 20,
     "metadata": {},
     "output_type": "execute_result"
    }
   ],
   "source": [
    "X = X0.to_numpy()\n",
    "X1 = sm.add_constant(X)\n",
    "X1[:5]"
   ]
  },
  {
   "cell_type": "code",
   "execution_count": 21,
   "metadata": {},
   "outputs": [
    {
     "data": {
      "text/html": [
       "<table class=\"simpletable\">\n",
       "<caption>OLS Regression Results</caption>\n",
       "<tr>\n",
       "  <th>Dep. Variable:</th>          <td>price</td>      <th>  R-squared:         </th> <td>   0.751</td> \n",
       "</tr>\n",
       "<tr>\n",
       "  <th>Model:</th>                   <td>OLS</td>       <th>  Adj. R-squared:    </th> <td>   0.748</td> \n",
       "</tr>\n",
       "<tr>\n",
       "  <th>Method:</th>             <td>Least Squares</td>  <th>  F-statistic:       </th> <td>   259.4</td> \n",
       "</tr>\n",
       "<tr>\n",
       "  <th>Date:</th>             <td>Wed, 25 Sep 2019</td> <th>  Prob (F-statistic):</th> <td>4.21e-152</td>\n",
       "</tr>\n",
       "<tr>\n",
       "  <th>Time:</th>                 <td>16:47:10</td>     <th>  Log-Likelihood:    </th> <td> -6554.5</td> \n",
       "</tr>\n",
       "<tr>\n",
       "  <th>No. Observations:</th>      <td>   522</td>      <th>  AIC:               </th> <td>1.312e+04</td>\n",
       "</tr>\n",
       "<tr>\n",
       "  <th>Df Residuals:</th>          <td>   515</td>      <th>  BIC:               </th> <td>1.315e+04</td>\n",
       "</tr>\n",
       "<tr>\n",
       "  <th>Df Model:</th>              <td>     6</td>      <th>                     </th>     <td> </td>    \n",
       "</tr>\n",
       "<tr>\n",
       "  <th>Covariance Type:</th>      <td>nonrobust</td>    <th>                     </th>     <td> </td>    \n",
       "</tr>\n",
       "</table>\n",
       "<table class=\"simpletable\">\n",
       "<tr>\n",
       "    <td></td>       <th>coef</th>     <th>std err</th>      <th>t</th>      <th>P>|t|</th>  <th>[0.025</th>    <th>0.975]</th>  \n",
       "</tr>\n",
       "<tr>\n",
       "  <th>const</th> <td>-6707.5382</td> <td> 1.88e+04</td> <td>   -0.356</td> <td> 0.722</td> <td>-4.37e+04</td> <td> 3.03e+04</td>\n",
       "</tr>\n",
       "<tr>\n",
       "  <th>x1</th>    <td>    1.5550</td> <td>    0.272</td> <td>    5.717</td> <td> 0.000</td> <td>    1.021</td> <td>    2.089</td>\n",
       "</tr>\n",
       "<tr>\n",
       "  <th>x2</th>    <td>  125.7386</td> <td>    6.963</td> <td>   18.057</td> <td> 0.000</td> <td>  112.059</td> <td>  139.419</td>\n",
       "</tr>\n",
       "<tr>\n",
       "  <th>x3</th>    <td>-1.304e+04</td> <td> 3780.397</td> <td>   -3.450</td> <td> 0.001</td> <td>-2.05e+04</td> <td>-5614.498</td>\n",
       "</tr>\n",
       "<tr>\n",
       "  <th>x4</th>    <td> 7987.5518</td> <td> 4818.957</td> <td>    1.658</td> <td> 0.098</td> <td>-1479.680</td> <td> 1.75e+04</td>\n",
       "</tr>\n",
       "<tr>\n",
       "  <th>x5</th>    <td>-1779.6108</td> <td>  215.487</td> <td>   -8.259</td> <td> 0.000</td> <td>-2202.953</td> <td>-1356.268</td>\n",
       "</tr>\n",
       "<tr>\n",
       "  <th>x6</th>    <td> 2.253e+04</td> <td> 5814.344</td> <td>    3.875</td> <td> 0.000</td> <td> 1.11e+04</td> <td>  3.4e+04</td>\n",
       "</tr>\n",
       "</table>\n",
       "<table class=\"simpletable\">\n",
       "<tr>\n",
       "  <th>Omnibus:</th>       <td>124.114</td> <th>  Durbin-Watson:     </th> <td>   1.327</td>\n",
       "</tr>\n",
       "<tr>\n",
       "  <th>Prob(Omnibus):</th> <td> 0.000</td>  <th>  Jarque-Bera (JB):  </th> <td> 384.582</td>\n",
       "</tr>\n",
       "<tr>\n",
       "  <th>Skew:</th>          <td> 1.110</td>  <th>  Prob(JB):          </th> <td>3.08e-84</td>\n",
       "</tr>\n",
       "<tr>\n",
       "  <th>Kurtosis:</th>      <td> 6.571</td>  <th>  Cond. No.          </th> <td>1.71e+05</td>\n",
       "</tr>\n",
       "</table><br/><br/>Warnings:<br/>[1] Standard Errors assume that the covariance matrix of the errors is correctly specified.<br/>[2] The condition number is large, 1.71e+05. This might indicate that there are<br/>strong multicollinearity or other numerical problems."
      ],
      "text/plain": [
       "<class 'statsmodels.iolib.summary.Summary'>\n",
       "\"\"\"\n",
       "                            OLS Regression Results                            \n",
       "==============================================================================\n",
       "Dep. Variable:                  price   R-squared:                       0.751\n",
       "Model:                            OLS   Adj. R-squared:                  0.748\n",
       "Method:                 Least Squares   F-statistic:                     259.4\n",
       "Date:                Wed, 25 Sep 2019   Prob (F-statistic):          4.21e-152\n",
       "Time:                        16:47:10   Log-Likelihood:                -6554.5\n",
       "No. Observations:                 522   AIC:                         1.312e+04\n",
       "Df Residuals:                     515   BIC:                         1.315e+04\n",
       "Df Model:                           6                                         \n",
       "Covariance Type:            nonrobust                                         \n",
       "==============================================================================\n",
       "                 coef    std err          t      P>|t|      [0.025      0.975]\n",
       "------------------------------------------------------------------------------\n",
       "const      -6707.5382   1.88e+04     -0.356      0.722   -4.37e+04    3.03e+04\n",
       "x1             1.5550      0.272      5.717      0.000       1.021       2.089\n",
       "x2           125.7386      6.963     18.057      0.000     112.059     139.419\n",
       "x3         -1.304e+04   3780.397     -3.450      0.001   -2.05e+04   -5614.498\n",
       "x4          7987.5518   4818.957      1.658      0.098   -1479.680    1.75e+04\n",
       "x5         -1779.6108    215.487     -8.259      0.000   -2202.953   -1356.268\n",
       "x6          2.253e+04   5814.344      3.875      0.000    1.11e+04     3.4e+04\n",
       "==============================================================================\n",
       "Omnibus:                      124.114   Durbin-Watson:                   1.327\n",
       "Prob(Omnibus):                  0.000   Jarque-Bera (JB):              384.582\n",
       "Skew:                           1.110   Prob(JB):                     3.08e-84\n",
       "Kurtosis:                       6.571   Cond. No.                     1.71e+05\n",
       "==============================================================================\n",
       "\n",
       "Warnings:\n",
       "[1] Standard Errors assume that the covariance matrix of the errors is correctly specified.\n",
       "[2] The condition number is large, 1.71e+05. This might indicate that there are\n",
       "strong multicollinearity or other numerical problems.\n",
       "\"\"\""
      ]
     },
     "execution_count": 21,
     "metadata": {},
     "output_type": "execute_result"
    }
   ],
   "source": [
    "m2 = sm.OLS(y0,X1).fit()\n",
    "m2.summary()"
   ]
  },
  {
   "cell_type": "code",
   "execution_count": 22,
   "metadata": {},
   "outputs": [
    {
     "data": {
      "text/plain": [
       "const    -6707.538167\n",
       "x1           1.554990\n",
       "x2         125.738603\n",
       "x3      -13041.394214\n",
       "x4        7987.551827\n",
       "x5       -1779.610838\n",
       "x6       22530.379289\n",
       "dtype: float64"
      ]
     },
     "execution_count": 22,
     "metadata": {},
     "output_type": "execute_result"
    }
   ],
   "source": [
    "m2.params"
   ]
  },
  {
   "cell_type": "markdown",
   "metadata": {},
   "source": [
    "2.a)"
   ]
  },
  {
   "cell_type": "code",
   "execution_count": 23,
   "metadata": {},
   "outputs": [],
   "source": [
    "# yhat = 9308.959377 + 1.554990 lotsize + 125.738603 area - 13041.394214 beds + 7987.551827 baths - 1779.610838 age + 22530.379289 garage "
   ]
  },
  {
   "cell_type": "code",
   "execution_count": 24,
   "metadata": {},
   "outputs": [],
   "source": [
    "# coefficients as shown in params"
   ]
  },
  {
   "cell_type": "markdown",
   "metadata": {},
   "source": [
    "2.b)"
   ]
  },
  {
   "cell_type": "code",
   "execution_count": 25,
   "metadata": {},
   "outputs": [
    {
     "data": {
      "text/plain": [
       "['price', 'lotsize', 'area', 'beds', 'baths', 'age', 'garage']"
      ]
     },
     "execution_count": 25,
     "metadata": {},
     "output_type": "execute_result"
    }
   ],
   "source": [
    "list1"
   ]
  },
  {
   "cell_type": "code",
   "execution_count": 26,
   "metadata": {},
   "outputs": [
    {
     "data": {
      "text/plain": [
       "['constant', 'lotsize', 'area', 'beds', 'baths', 'age', 'garage']"
      ]
     },
     "execution_count": 26,
     "metadata": {},
     "output_type": "execute_result"
    }
   ],
   "source": [
    "list1.remove('price')\n",
    "list1.insert(0,'constant')\n",
    "list1"
   ]
  },
  {
   "cell_type": "code",
   "execution_count": 27,
   "metadata": {},
   "outputs": [],
   "source": [
    "list_values = [1,24500,2650,3,3,11,2]"
   ]
  },
  {
   "cell_type": "code",
   "execution_count": 28,
   "metadata": {},
   "outputs": [
    {
     "data": {
      "text/html": [
       "<div>\n",
       "<style scoped>\n",
       "    .dataframe tbody tr th:only-of-type {\n",
       "        vertical-align: middle;\n",
       "    }\n",
       "\n",
       "    .dataframe tbody tr th {\n",
       "        vertical-align: top;\n",
       "    }\n",
       "\n",
       "    .dataframe thead th {\n",
       "        text-align: right;\n",
       "    }\n",
       "</style>\n",
       "<table border=\"1\" class=\"dataframe\">\n",
       "  <thead>\n",
       "    <tr style=\"text-align: right;\">\n",
       "      <th></th>\n",
       "      <th>constant</th>\n",
       "      <th>lotsize</th>\n",
       "      <th>area</th>\n",
       "      <th>beds</th>\n",
       "      <th>baths</th>\n",
       "      <th>age</th>\n",
       "      <th>garage</th>\n",
       "    </tr>\n",
       "  </thead>\n",
       "  <tbody>\n",
       "    <tr>\n",
       "      <th>0</th>\n",
       "      <td>1</td>\n",
       "      <td>24500</td>\n",
       "      <td>2650</td>\n",
       "      <td>3</td>\n",
       "      <td>3</td>\n",
       "      <td>11</td>\n",
       "      <td>2</td>\n",
       "    </tr>\n",
       "  </tbody>\n",
       "</table>\n",
       "</div>"
      ],
      "text/plain": [
       "   constant  lotsize  area  beds  baths  age  garage\n",
       "0         1    24500  2650     3      3   11       2"
      ]
     },
     "execution_count": 28,
     "metadata": {},
     "output_type": "execute_result"
    }
   ],
   "source": [
    "z = pd.DataFrame([list_values],columns = list1)\n",
    "z"
   ]
  },
  {
   "cell_type": "code",
   "execution_count": 29,
   "metadata": {},
   "outputs": [],
   "source": [
    "p = m2.get_prediction(z)"
   ]
  },
  {
   "cell_type": "code",
   "execution_count": 30,
   "metadata": {},
   "outputs": [
    {
     "data": {
      "text/html": [
       "<div>\n",
       "<style scoped>\n",
       "    .dataframe tbody tr th:only-of-type {\n",
       "        vertical-align: middle;\n",
       "    }\n",
       "\n",
       "    .dataframe tbody tr th {\n",
       "        vertical-align: top;\n",
       "    }\n",
       "\n",
       "    .dataframe thead th {\n",
       "        text-align: right;\n",
       "    }\n",
       "</style>\n",
       "<table border=\"1\" class=\"dataframe\">\n",
       "  <thead>\n",
       "    <tr style=\"text-align: right;\">\n",
       "      <th></th>\n",
       "      <th>mean</th>\n",
       "      <th>mean_se</th>\n",
       "      <th>mean_ci_lower</th>\n",
       "      <th>mean_ci_upper</th>\n",
       "      <th>obs_ci_lower</th>\n",
       "      <th>obs_ci_upper</th>\n",
       "    </tr>\n",
       "  </thead>\n",
       "  <tbody>\n",
       "    <tr>\n",
       "      <th>0</th>\n",
       "      <td>374920.532647</td>\n",
       "      <td>6511.365875</td>\n",
       "      <td>362128.426983</td>\n",
       "      <td>387712.63831</td>\n",
       "      <td>238431.17994</td>\n",
       "      <td>511409.885353</td>\n",
       "    </tr>\n",
       "  </tbody>\n",
       "</table>\n",
       "</div>"
      ],
      "text/plain": [
       "            mean      mean_se  mean_ci_lower  mean_ci_upper  obs_ci_lower  \\\n",
       "0  374920.532647  6511.365875  362128.426983   387712.63831  238431.17994   \n",
       "\n",
       "    obs_ci_upper  \n",
       "0  511409.885353  "
      ]
     },
     "execution_count": 30,
     "metadata": {},
     "output_type": "execute_result"
    }
   ],
   "source": [
    "p.summary_frame(alpha = 0.05)"
   ]
  },
  {
   "cell_type": "markdown",
   "metadata": {},
   "source": [
    "2.c)"
   ]
  },
  {
   "cell_type": "code",
   "execution_count": 31,
   "metadata": {},
   "outputs": [
    {
     "data": {
      "text/plain": [
       "array([2.299e+05, 2.220e+04, 2.061e+03, 3.000e+00, 3.000e+00, 3.500e+01,\n",
       "       2.000e+00])"
      ]
     },
     "execution_count": 31,
     "metadata": {},
     "output_type": "execute_result"
    }
   ],
   "source": [
    "np.median(df1,axis=0)"
   ]
  },
  {
   "cell_type": "code",
   "execution_count": 32,
   "metadata": {},
   "outputs": [],
   "source": [
    "median_values = [1, 2.220e+04, 2.061e+03, 3.000e+00, 3.000e+00, 3.500e+01,\n",
    "       2.000e+00]"
   ]
  },
  {
   "cell_type": "code",
   "execution_count": 33,
   "metadata": {},
   "outputs": [
    {
     "data": {
      "text/html": [
       "<div>\n",
       "<style scoped>\n",
       "    .dataframe tbody tr th:only-of-type {\n",
       "        vertical-align: middle;\n",
       "    }\n",
       "\n",
       "    .dataframe tbody tr th {\n",
       "        vertical-align: top;\n",
       "    }\n",
       "\n",
       "    .dataframe thead th {\n",
       "        text-align: right;\n",
       "    }\n",
       "</style>\n",
       "<table border=\"1\" class=\"dataframe\">\n",
       "  <thead>\n",
       "    <tr style=\"text-align: right;\">\n",
       "      <th></th>\n",
       "      <th>constant</th>\n",
       "      <th>lotsize</th>\n",
       "      <th>area</th>\n",
       "      <th>beds</th>\n",
       "      <th>baths</th>\n",
       "      <th>age</th>\n",
       "      <th>garage</th>\n",
       "    </tr>\n",
       "  </thead>\n",
       "  <tbody>\n",
       "    <tr>\n",
       "      <th>0</th>\n",
       "      <td>1</td>\n",
       "      <td>22200.0</td>\n",
       "      <td>2061.0</td>\n",
       "      <td>3.0</td>\n",
       "      <td>3.0</td>\n",
       "      <td>35.0</td>\n",
       "      <td>2.0</td>\n",
       "    </tr>\n",
       "  </tbody>\n",
       "</table>\n",
       "</div>"
      ],
      "text/plain": [
       "   constant  lotsize    area  beds  baths   age  garage\n",
       "0         1  22200.0  2061.0   3.0    3.0  35.0     2.0"
      ]
     },
     "execution_count": 33,
     "metadata": {},
     "output_type": "execute_result"
    }
   ],
   "source": [
    "m = pd.DataFrame([median_values],columns = list1)\n",
    "m"
   ]
  },
  {
   "cell_type": "code",
   "execution_count": 34,
   "metadata": {},
   "outputs": [],
   "source": [
    "q = m2.get_prediction(m)"
   ]
  },
  {
   "cell_type": "code",
   "execution_count": 35,
   "metadata": {},
   "outputs": [
    {
     "data": {
      "text/html": [
       "<div>\n",
       "<style scoped>\n",
       "    .dataframe tbody tr th:only-of-type {\n",
       "        vertical-align: middle;\n",
       "    }\n",
       "\n",
       "    .dataframe tbody tr th {\n",
       "        vertical-align: top;\n",
       "    }\n",
       "\n",
       "    .dataframe thead th {\n",
       "        text-align: right;\n",
       "    }\n",
       "</style>\n",
       "<table border=\"1\" class=\"dataframe\">\n",
       "  <thead>\n",
       "    <tr style=\"text-align: right;\">\n",
       "      <th></th>\n",
       "      <th>mean</th>\n",
       "      <th>mean_se</th>\n",
       "      <th>mean_ci_lower</th>\n",
       "      <th>mean_ci_upper</th>\n",
       "      <th>obs_ci_lower</th>\n",
       "      <th>obs_ci_upper</th>\n",
       "    </tr>\n",
       "  </thead>\n",
       "  <tbody>\n",
       "    <tr>\n",
       "      <th>0</th>\n",
       "      <td>254573.357919</td>\n",
       "      <td>4595.921615</td>\n",
       "      <td>245544.29765</td>\n",
       "      <td>263602.418187</td>\n",
       "      <td>118385.144904</td>\n",
       "      <td>390761.570933</td>\n",
       "    </tr>\n",
       "  </tbody>\n",
       "</table>\n",
       "</div>"
      ],
      "text/plain": [
       "            mean      mean_se  mean_ci_lower  mean_ci_upper   obs_ci_lower  \\\n",
       "0  254573.357919  4595.921615   245544.29765  263602.418187  118385.144904   \n",
       "\n",
       "    obs_ci_upper  \n",
       "0  390761.570933  "
      ]
     },
     "execution_count": 35,
     "metadata": {},
     "output_type": "execute_result"
    }
   ],
   "source": [
    "q.summary_frame()"
   ]
  },
  {
   "cell_type": "markdown",
   "metadata": {},
   "source": [
    "Question 3"
   ]
  },
  {
   "cell_type": "code",
   "execution_count": 36,
   "metadata": {},
   "outputs": [
    {
     "data": {
      "text/html": [
       "<div>\n",
       "<style scoped>\n",
       "    .dataframe tbody tr th:only-of-type {\n",
       "        vertical-align: middle;\n",
       "    }\n",
       "\n",
       "    .dataframe tbody tr th {\n",
       "        vertical-align: top;\n",
       "    }\n",
       "\n",
       "    .dataframe thead th {\n",
       "        text-align: right;\n",
       "    }\n",
       "</style>\n",
       "<table border=\"1\" class=\"dataframe\">\n",
       "  <thead>\n",
       "    <tr style=\"text-align: right;\">\n",
       "      <th></th>\n",
       "      <th>price</th>\n",
       "      <th>lotsize</th>\n",
       "      <th>area</th>\n",
       "      <th>beds</th>\n",
       "      <th>baths</th>\n",
       "      <th>age</th>\n",
       "      <th>garage</th>\n",
       "    </tr>\n",
       "  </thead>\n",
       "  <tbody>\n",
       "    <tr>\n",
       "      <th>price</th>\n",
       "      <td>1.000000</td>\n",
       "      <td>0.224169</td>\n",
       "      <td>0.819470</td>\n",
       "      <td>0.413324</td>\n",
       "      <td>0.683685</td>\n",
       "      <td>-0.555516</td>\n",
       "      <td>0.577786</td>\n",
       "    </tr>\n",
       "    <tr>\n",
       "      <th>lotsize</th>\n",
       "      <td>0.224169</td>\n",
       "      <td>1.000000</td>\n",
       "      <td>0.157525</td>\n",
       "      <td>0.126538</td>\n",
       "      <td>0.147007</td>\n",
       "      <td>0.100452</td>\n",
       "      <td>0.152219</td>\n",
       "    </tr>\n",
       "    <tr>\n",
       "      <th>area</th>\n",
       "      <td>0.819470</td>\n",
       "      <td>0.157525</td>\n",
       "      <td>1.000000</td>\n",
       "      <td>0.557838</td>\n",
       "      <td>0.755273</td>\n",
       "      <td>-0.441197</td>\n",
       "      <td>0.533766</td>\n",
       "    </tr>\n",
       "    <tr>\n",
       "      <th>beds</th>\n",
       "      <td>0.413324</td>\n",
       "      <td>0.126538</td>\n",
       "      <td>0.557838</td>\n",
       "      <td>1.000000</td>\n",
       "      <td>0.583447</td>\n",
       "      <td>-0.268692</td>\n",
       "      <td>0.316814</td>\n",
       "    </tr>\n",
       "    <tr>\n",
       "      <th>baths</th>\n",
       "      <td>0.683685</td>\n",
       "      <td>0.147007</td>\n",
       "      <td>0.755273</td>\n",
       "      <td>0.583447</td>\n",
       "      <td>1.000000</td>\n",
       "      <td>-0.512841</td>\n",
       "      <td>0.489898</td>\n",
       "    </tr>\n",
       "    <tr>\n",
       "      <th>age</th>\n",
       "      <td>-0.555516</td>\n",
       "      <td>0.100452</td>\n",
       "      <td>-0.441197</td>\n",
       "      <td>-0.268692</td>\n",
       "      <td>-0.512841</td>\n",
       "      <td>1.000000</td>\n",
       "      <td>-0.461760</td>\n",
       "    </tr>\n",
       "    <tr>\n",
       "      <th>garage</th>\n",
       "      <td>0.577786</td>\n",
       "      <td>0.152219</td>\n",
       "      <td>0.533766</td>\n",
       "      <td>0.316814</td>\n",
       "      <td>0.489898</td>\n",
       "      <td>-0.461760</td>\n",
       "      <td>1.000000</td>\n",
       "    </tr>\n",
       "  </tbody>\n",
       "</table>\n",
       "</div>"
      ],
      "text/plain": [
       "            price   lotsize      area      beds     baths       age    garage\n",
       "price    1.000000  0.224169  0.819470  0.413324  0.683685 -0.555516  0.577786\n",
       "lotsize  0.224169  1.000000  0.157525  0.126538  0.147007  0.100452  0.152219\n",
       "area     0.819470  0.157525  1.000000  0.557838  0.755273 -0.441197  0.533766\n",
       "beds     0.413324  0.126538  0.557838  1.000000  0.583447 -0.268692  0.316814\n",
       "baths    0.683685  0.147007  0.755273  0.583447  1.000000 -0.512841  0.489898\n",
       "age     -0.555516  0.100452 -0.441197 -0.268692 -0.512841  1.000000 -0.461760\n",
       "garage   0.577786  0.152219  0.533766  0.316814  0.489898 -0.461760  1.000000"
      ]
     },
     "execution_count": 36,
     "metadata": {},
     "output_type": "execute_result"
    }
   ],
   "source": [
    "df1.corr()"
   ]
  },
  {
   "cell_type": "code",
   "execution_count": 37,
   "metadata": {},
   "outputs": [],
   "source": [
    "# In terms of correlation with the house price, the best predictor is area and the worst is lot size."
   ]
  },
  {
   "cell_type": "code",
   "execution_count": 38,
   "metadata": {},
   "outputs": [
    {
     "data": {
      "text/html": [
       "<div>\n",
       "<style scoped>\n",
       "    .dataframe tbody tr th:only-of-type {\n",
       "        vertical-align: middle;\n",
       "    }\n",
       "\n",
       "    .dataframe tbody tr th {\n",
       "        vertical-align: top;\n",
       "    }\n",
       "\n",
       "    .dataframe thead th {\n",
       "        text-align: right;\n",
       "    }\n",
       "</style>\n",
       "<table border=\"1\" class=\"dataframe\">\n",
       "  <thead>\n",
       "    <tr style=\"text-align: right;\">\n",
       "      <th></th>\n",
       "      <th>price</th>\n",
       "      <th>area</th>\n",
       "      <th>beds</th>\n",
       "      <th>baths</th>\n",
       "      <th>garage</th>\n",
       "      <th>age</th>\n",
       "      <th>style</th>\n",
       "      <th>lotsize</th>\n",
       "      <th>ac</th>\n",
       "      <th>pool</th>\n",
       "      <th>quality</th>\n",
       "      <th>highway</th>\n",
       "    </tr>\n",
       "  </thead>\n",
       "  <tbody>\n",
       "    <tr>\n",
       "      <th>0</th>\n",
       "      <td>360000</td>\n",
       "      <td>3032</td>\n",
       "      <td>4</td>\n",
       "      <td>4</td>\n",
       "      <td>2</td>\n",
       "      <td>29</td>\n",
       "      <td>1</td>\n",
       "      <td>22221</td>\n",
       "      <td>YES</td>\n",
       "      <td>NO</td>\n",
       "      <td>MEDIUM</td>\n",
       "      <td>NO</td>\n",
       "    </tr>\n",
       "    <tr>\n",
       "      <th>1</th>\n",
       "      <td>340000</td>\n",
       "      <td>2058</td>\n",
       "      <td>4</td>\n",
       "      <td>2</td>\n",
       "      <td>2</td>\n",
       "      <td>25</td>\n",
       "      <td>1</td>\n",
       "      <td>22912</td>\n",
       "      <td>YES</td>\n",
       "      <td>NO</td>\n",
       "      <td>MEDIUM</td>\n",
       "      <td>NO</td>\n",
       "    </tr>\n",
       "    <tr>\n",
       "      <th>2</th>\n",
       "      <td>250000</td>\n",
       "      <td>1780</td>\n",
       "      <td>4</td>\n",
       "      <td>3</td>\n",
       "      <td>2</td>\n",
       "      <td>21</td>\n",
       "      <td>1</td>\n",
       "      <td>21345</td>\n",
       "      <td>YES</td>\n",
       "      <td>NO</td>\n",
       "      <td>MEDIUM</td>\n",
       "      <td>NO</td>\n",
       "    </tr>\n",
       "    <tr>\n",
       "      <th>3</th>\n",
       "      <td>205500</td>\n",
       "      <td>1638</td>\n",
       "      <td>4</td>\n",
       "      <td>2</td>\n",
       "      <td>2</td>\n",
       "      <td>38</td>\n",
       "      <td>1</td>\n",
       "      <td>17342</td>\n",
       "      <td>YES</td>\n",
       "      <td>NO</td>\n",
       "      <td>MEDIUM</td>\n",
       "      <td>NO</td>\n",
       "    </tr>\n",
       "    <tr>\n",
       "      <th>4</th>\n",
       "      <td>275500</td>\n",
       "      <td>2196</td>\n",
       "      <td>4</td>\n",
       "      <td>3</td>\n",
       "      <td>2</td>\n",
       "      <td>33</td>\n",
       "      <td>7</td>\n",
       "      <td>21786</td>\n",
       "      <td>YES</td>\n",
       "      <td>NO</td>\n",
       "      <td>MEDIUM</td>\n",
       "      <td>NO</td>\n",
       "    </tr>\n",
       "  </tbody>\n",
       "</table>\n",
       "</div>"
      ],
      "text/plain": [
       "    price  area  beds  baths  garage  age  style  lotsize   ac pool quality  \\\n",
       "0  360000  3032     4      4       2   29      1    22221  YES   NO  MEDIUM   \n",
       "1  340000  2058     4      2       2   25      1    22912  YES   NO  MEDIUM   \n",
       "2  250000  1780     4      3       2   21      1    21345  YES   NO  MEDIUM   \n",
       "3  205500  1638     4      2       2   38      1    17342  YES   NO  MEDIUM   \n",
       "4  275500  2196     4      3       2   33      7    21786  YES   NO  MEDIUM   \n",
       "\n",
       "  highway  \n",
       "0      NO  \n",
       "1      NO  \n",
       "2      NO  \n",
       "3      NO  \n",
       "4      NO  "
      ]
     },
     "execution_count": 38,
     "metadata": {},
     "output_type": "execute_result"
    }
   ],
   "source": [
    "df[:5]"
   ]
  },
  {
   "cell_type": "code",
   "execution_count": 39,
   "metadata": {},
   "outputs": [
    {
     "data": {
      "text/plain": [
       "array(['MEDIUM', 'LOW', 'HIGH'], dtype=object)"
      ]
     },
     "execution_count": 39,
     "metadata": {},
     "output_type": "execute_result"
    }
   ],
   "source": [
    "df.quality.unique()"
   ]
  },
  {
   "cell_type": "code",
   "execution_count": 40,
   "metadata": {},
   "outputs": [
    {
     "data": {
      "text/plain": [
       "MEDIUM    290\n",
       "LOW       164\n",
       "HIGH       68\n",
       "Name: quality, dtype: int64"
      ]
     },
     "execution_count": 40,
     "metadata": {},
     "output_type": "execute_result"
    }
   ],
   "source": [
    "pd.value_counts(df.quality)"
   ]
  },
  {
   "cell_type": "code",
   "execution_count": 41,
   "metadata": {},
   "outputs": [
    {
     "data": {
      "text/html": [
       "<div>\n",
       "<style scoped>\n",
       "    .dataframe tbody tr th:only-of-type {\n",
       "        vertical-align: middle;\n",
       "    }\n",
       "\n",
       "    .dataframe tbody tr th {\n",
       "        vertical-align: top;\n",
       "    }\n",
       "\n",
       "    .dataframe thead th {\n",
       "        text-align: right;\n",
       "    }\n",
       "</style>\n",
       "<table border=\"1\" class=\"dataframe\">\n",
       "  <thead>\n",
       "    <tr style=\"text-align: right;\">\n",
       "      <th></th>\n",
       "      <th>price</th>\n",
       "      <th>area</th>\n",
       "      <th>beds</th>\n",
       "      <th>baths</th>\n",
       "      <th>garage</th>\n",
       "      <th>age</th>\n",
       "      <th>lotsize</th>\n",
       "      <th>ac_YES</th>\n",
       "      <th>pool_YES</th>\n",
       "      <th>quality_LOW</th>\n",
       "      <th>...</th>\n",
       "      <th>highway_YES</th>\n",
       "      <th>style_2</th>\n",
       "      <th>style_3</th>\n",
       "      <th>style_4</th>\n",
       "      <th>style_5</th>\n",
       "      <th>style_6</th>\n",
       "      <th>style_7</th>\n",
       "      <th>style_9</th>\n",
       "      <th>style_10</th>\n",
       "      <th>style_11</th>\n",
       "    </tr>\n",
       "  </thead>\n",
       "  <tbody>\n",
       "    <tr>\n",
       "      <th>0</th>\n",
       "      <td>360000</td>\n",
       "      <td>3032</td>\n",
       "      <td>4</td>\n",
       "      <td>4</td>\n",
       "      <td>2</td>\n",
       "      <td>29</td>\n",
       "      <td>22221</td>\n",
       "      <td>1</td>\n",
       "      <td>0</td>\n",
       "      <td>0</td>\n",
       "      <td>...</td>\n",
       "      <td>0</td>\n",
       "      <td>0</td>\n",
       "      <td>0</td>\n",
       "      <td>0</td>\n",
       "      <td>0</td>\n",
       "      <td>0</td>\n",
       "      <td>0</td>\n",
       "      <td>0</td>\n",
       "      <td>0</td>\n",
       "      <td>0</td>\n",
       "    </tr>\n",
       "    <tr>\n",
       "      <th>1</th>\n",
       "      <td>340000</td>\n",
       "      <td>2058</td>\n",
       "      <td>4</td>\n",
       "      <td>2</td>\n",
       "      <td>2</td>\n",
       "      <td>25</td>\n",
       "      <td>22912</td>\n",
       "      <td>1</td>\n",
       "      <td>0</td>\n",
       "      <td>0</td>\n",
       "      <td>...</td>\n",
       "      <td>0</td>\n",
       "      <td>0</td>\n",
       "      <td>0</td>\n",
       "      <td>0</td>\n",
       "      <td>0</td>\n",
       "      <td>0</td>\n",
       "      <td>0</td>\n",
       "      <td>0</td>\n",
       "      <td>0</td>\n",
       "      <td>0</td>\n",
       "    </tr>\n",
       "    <tr>\n",
       "      <th>2</th>\n",
       "      <td>250000</td>\n",
       "      <td>1780</td>\n",
       "      <td>4</td>\n",
       "      <td>3</td>\n",
       "      <td>2</td>\n",
       "      <td>21</td>\n",
       "      <td>21345</td>\n",
       "      <td>1</td>\n",
       "      <td>0</td>\n",
       "      <td>0</td>\n",
       "      <td>...</td>\n",
       "      <td>0</td>\n",
       "      <td>0</td>\n",
       "      <td>0</td>\n",
       "      <td>0</td>\n",
       "      <td>0</td>\n",
       "      <td>0</td>\n",
       "      <td>0</td>\n",
       "      <td>0</td>\n",
       "      <td>0</td>\n",
       "      <td>0</td>\n",
       "    </tr>\n",
       "    <tr>\n",
       "      <th>3</th>\n",
       "      <td>205500</td>\n",
       "      <td>1638</td>\n",
       "      <td>4</td>\n",
       "      <td>2</td>\n",
       "      <td>2</td>\n",
       "      <td>38</td>\n",
       "      <td>17342</td>\n",
       "      <td>1</td>\n",
       "      <td>0</td>\n",
       "      <td>0</td>\n",
       "      <td>...</td>\n",
       "      <td>0</td>\n",
       "      <td>0</td>\n",
       "      <td>0</td>\n",
       "      <td>0</td>\n",
       "      <td>0</td>\n",
       "      <td>0</td>\n",
       "      <td>0</td>\n",
       "      <td>0</td>\n",
       "      <td>0</td>\n",
       "      <td>0</td>\n",
       "    </tr>\n",
       "    <tr>\n",
       "      <th>4</th>\n",
       "      <td>275500</td>\n",
       "      <td>2196</td>\n",
       "      <td>4</td>\n",
       "      <td>3</td>\n",
       "      <td>2</td>\n",
       "      <td>33</td>\n",
       "      <td>21786</td>\n",
       "      <td>1</td>\n",
       "      <td>0</td>\n",
       "      <td>0</td>\n",
       "      <td>...</td>\n",
       "      <td>0</td>\n",
       "      <td>0</td>\n",
       "      <td>0</td>\n",
       "      <td>0</td>\n",
       "      <td>0</td>\n",
       "      <td>0</td>\n",
       "      <td>1</td>\n",
       "      <td>0</td>\n",
       "      <td>0</td>\n",
       "      <td>0</td>\n",
       "    </tr>\n",
       "  </tbody>\n",
       "</table>\n",
       "<p>5 rows × 21 columns</p>\n",
       "</div>"
      ],
      "text/plain": [
       "    price  area  beds  baths  garage  age  lotsize  ac_YES  pool_YES  \\\n",
       "0  360000  3032     4      4       2   29    22221       1         0   \n",
       "1  340000  2058     4      2       2   25    22912       1         0   \n",
       "2  250000  1780     4      3       2   21    21345       1         0   \n",
       "3  205500  1638     4      2       2   38    17342       1         0   \n",
       "4  275500  2196     4      3       2   33    21786       1         0   \n",
       "\n",
       "   quality_LOW  ...  highway_YES  style_2  style_3  style_4  style_5  style_6  \\\n",
       "0            0  ...            0        0        0        0        0        0   \n",
       "1            0  ...            0        0        0        0        0        0   \n",
       "2            0  ...            0        0        0        0        0        0   \n",
       "3            0  ...            0        0        0        0        0        0   \n",
       "4            0  ...            0        0        0        0        0        0   \n",
       "\n",
       "   style_7  style_9  style_10  style_11  \n",
       "0        0        0         0         0  \n",
       "1        0        0         0         0  \n",
       "2        0        0         0         0  \n",
       "3        0        0         0         0  \n",
       "4        1        0         0         0  \n",
       "\n",
       "[5 rows x 21 columns]"
      ]
     },
     "execution_count": 41,
     "metadata": {},
     "output_type": "execute_result"
    }
   ],
   "source": [
    "df2 = pd.get_dummies(df,columns = ['ac','pool','quality','highway','style'], drop_first = True)\n",
    "df2[:5]"
   ]
  },
  {
   "cell_type": "code",
   "execution_count": 42,
   "metadata": {},
   "outputs": [],
   "source": [
    "df4 = df2"
   ]
  },
  {
   "cell_type": "markdown",
   "metadata": {},
   "source": [
    "Question 4"
   ]
  },
  {
   "cell_type": "code",
   "execution_count": 43,
   "metadata": {},
   "outputs": [],
   "source": [
    "R = df1.price\n",
    "P = df1.drop(columns = 'price', axis = 1)"
   ]
  },
  {
   "cell_type": "code",
   "execution_count": 44,
   "metadata": {},
   "outputs": [],
   "source": [
    "m3 = LinearRegression().fit(P,R)"
   ]
  },
  {
   "cell_type": "code",
   "execution_count": 45,
   "metadata": {},
   "outputs": [],
   "source": [
    "MSE = mean_squared_error(R,m3.predict(P))\n",
    "SSE = MSE * len(R)\n",
    "R_squared = m3.score(P,R)"
   ]
  },
  {
   "cell_type": "code",
   "execution_count": 46,
   "metadata": {},
   "outputs": [],
   "source": [
    "def get_sse(P, R):\n",
    "    model_k = LinearRegression().fit(P, R)\n",
    "    SSE = mean_squared_error(R,model_k.predict(P))*len(R)\n",
    "    R_squared = model_k.score(P,R)\n",
    "    return SSE, R_squared"
   ]
  },
  {
   "cell_type": "code",
   "execution_count": 47,
   "metadata": {},
   "outputs": [],
   "source": [
    "SSE, R_squared = get_sse(P,R)"
   ]
  },
  {
   "cell_type": "code",
   "execution_count": 48,
   "metadata": {},
   "outputs": [],
   "source": [
    "SSE_list, R2_list, feature_list, num_features = [],[],[],[]"
   ]
  },
  {
   "cell_type": "code",
   "execution_count": 49,
   "metadata": {},
   "outputs": [],
   "source": [
    "import itertools"
   ]
  },
  {
   "cell_type": "code",
   "execution_count": 50,
   "metadata": {},
   "outputs": [],
   "source": [
    "col = P.columns\n",
    "t = len(P.columns)"
   ]
  },
  {
   "cell_type": "code",
   "execution_count": 51,
   "metadata": {},
   "outputs": [
    {
     "data": {
      "text/plain": [
       "<itertools.combinations at 0x2a2605df368>"
      ]
     },
     "execution_count": 51,
     "metadata": {},
     "output_type": "execute_result"
    }
   ],
   "source": [
    "itertools.combinations(col,2)"
   ]
  },
  {
   "cell_type": "code",
   "execution_count": 52,
   "metadata": {},
   "outputs": [
    {
     "data": {
      "text/plain": [
       "[('lotsize', 'area'),\n",
       " ('lotsize', 'beds'),\n",
       " ('lotsize', 'baths'),\n",
       " ('lotsize', 'age'),\n",
       " ('lotsize', 'garage'),\n",
       " ('area', 'beds'),\n",
       " ('area', 'baths'),\n",
       " ('area', 'age'),\n",
       " ('area', 'garage'),\n",
       " ('beds', 'baths'),\n",
       " ('beds', 'age'),\n",
       " ('beds', 'garage'),\n",
       " ('baths', 'age'),\n",
       " ('baths', 'garage'),\n",
       " ('age', 'garage')]"
      ]
     },
     "execution_count": 52,
     "metadata": {},
     "output_type": "execute_result"
    }
   ],
   "source": [
    "list(itertools.combinations(col,2))"
   ]
  },
  {
   "cell_type": "code",
   "execution_count": 53,
   "metadata": {},
   "outputs": [
    {
     "data": {
      "text/plain": [
       "[1, 2, 3, 4, 5, 6]"
      ]
     },
     "execution_count": 53,
     "metadata": {},
     "output_type": "execute_result"
    }
   ],
   "source": [
    "list(range(1,t+1))"
   ]
  },
  {
   "cell_type": "code",
   "execution_count": 54,
   "metadata": {},
   "outputs": [],
   "source": [
    "for k in range (1, t+1):\n",
    "    for subset in itertools.combinations(P.columns,k):\n",
    "        \n",
    "        temp = get_sse(P[list(subset)],R)\n",
    "        \n",
    "        SSE_list.append(temp[0])\n",
    "        R2_list.append(temp[1])\n",
    "        feature_list.append(subset)\n",
    "        num_features.append(len(subset))"
   ]
  },
  {
   "cell_type": "code",
   "execution_count": 55,
   "metadata": {},
   "outputs": [],
   "source": [
    "df1 = pd.DataFrame(num_features, columns = ['n_features'])"
   ]
  },
  {
   "cell_type": "code",
   "execution_count": 56,
   "metadata": {},
   "outputs": [],
   "source": [
    "df1['features'] = feature_list\n",
    "df1['R-squared'] = R2_list"
   ]
  },
  {
   "cell_type": "code",
   "execution_count": 57,
   "metadata": {},
   "outputs": [],
   "source": [
    "SSE_list2 = np.round(SSE_list,0)\n",
    "df1['SSE'] = SSE_list2"
   ]
  },
  {
   "cell_type": "code",
   "execution_count": 58,
   "metadata": {},
   "outputs": [
    {
     "data": {
      "text/plain": [
       "(63, 4)"
      ]
     },
     "execution_count": 58,
     "metadata": {},
     "output_type": "execute_result"
    }
   ],
   "source": [
    "df1.shape"
   ]
  },
  {
   "cell_type": "code",
   "execution_count": 59,
   "metadata": {},
   "outputs": [
    {
     "data": {
      "text/plain": [
       "64"
      ]
     },
     "execution_count": 59,
     "metadata": {},
     "output_type": "execute_result"
    }
   ],
   "source": [
    "2**6"
   ]
  },
  {
   "cell_type": "code",
   "execution_count": 60,
   "metadata": {},
   "outputs": [
    {
     "data": {
      "text/html": [
       "<div>\n",
       "<style scoped>\n",
       "    .dataframe tbody tr th:only-of-type {\n",
       "        vertical-align: middle;\n",
       "    }\n",
       "\n",
       "    .dataframe tbody tr th {\n",
       "        vertical-align: top;\n",
       "    }\n",
       "\n",
       "    .dataframe thead th {\n",
       "        text-align: right;\n",
       "    }\n",
       "</style>\n",
       "<table border=\"1\" class=\"dataframe\">\n",
       "  <thead>\n",
       "    <tr style=\"text-align: right;\">\n",
       "      <th></th>\n",
       "      <th>n_features</th>\n",
       "      <th>features</th>\n",
       "      <th>R-squared</th>\n",
       "      <th>SSE</th>\n",
       "    </tr>\n",
       "  </thead>\n",
       "  <tbody>\n",
       "    <tr>\n",
       "      <th>0</th>\n",
       "      <td>1</td>\n",
       "      <td>(lotsize,)</td>\n",
       "      <td>0.050252</td>\n",
       "      <td>9.412873e+12</td>\n",
       "    </tr>\n",
       "    <tr>\n",
       "      <th>1</th>\n",
       "      <td>1</td>\n",
       "      <td>(area,)</td>\n",
       "      <td>0.671531</td>\n",
       "      <td>3.255426e+12</td>\n",
       "    </tr>\n",
       "    <tr>\n",
       "      <th>2</th>\n",
       "      <td>1</td>\n",
       "      <td>(beds,)</td>\n",
       "      <td>0.170837</td>\n",
       "      <td>8.217765e+12</td>\n",
       "    </tr>\n",
       "    <tr>\n",
       "      <th>3</th>\n",
       "      <td>1</td>\n",
       "      <td>(baths,)</td>\n",
       "      <td>0.467426</td>\n",
       "      <td>5.278297e+12</td>\n",
       "    </tr>\n",
       "    <tr>\n",
       "      <th>4</th>\n",
       "      <td>1</td>\n",
       "      <td>(age,)</td>\n",
       "      <td>0.308599</td>\n",
       "      <td>6.852419e+12</td>\n",
       "    </tr>\n",
       "    <tr>\n",
       "      <th>5</th>\n",
       "      <td>1</td>\n",
       "      <td>(garage,)</td>\n",
       "      <td>0.333837</td>\n",
       "      <td>6.602283e+12</td>\n",
       "    </tr>\n",
       "    <tr>\n",
       "      <th>6</th>\n",
       "      <td>2</td>\n",
       "      <td>(lotsize, area)</td>\n",
       "      <td>0.680802</td>\n",
       "      <td>3.163546e+12</td>\n",
       "    </tr>\n",
       "    <tr>\n",
       "      <th>7</th>\n",
       "      <td>2</td>\n",
       "      <td>(lotsize, beds)</td>\n",
       "      <td>0.200856</td>\n",
       "      <td>7.920250e+12</td>\n",
       "    </tr>\n",
       "    <tr>\n",
       "      <th>8</th>\n",
       "      <td>2</td>\n",
       "      <td>(lotsize, baths)</td>\n",
       "      <td>0.483056</td>\n",
       "      <td>5.123388e+12</td>\n",
       "    </tr>\n",
       "    <tr>\n",
       "      <th>9</th>\n",
       "      <td>2</td>\n",
       "      <td>(lotsize, age)</td>\n",
       "      <td>0.387781</td>\n",
       "      <td>6.067645e+12</td>\n",
       "    </tr>\n",
       "  </tbody>\n",
       "</table>\n",
       "</div>"
      ],
      "text/plain": [
       "   n_features          features  R-squared           SSE\n",
       "0           1        (lotsize,)   0.050252  9.412873e+12\n",
       "1           1           (area,)   0.671531  3.255426e+12\n",
       "2           1           (beds,)   0.170837  8.217765e+12\n",
       "3           1          (baths,)   0.467426  5.278297e+12\n",
       "4           1            (age,)   0.308599  6.852419e+12\n",
       "5           1         (garage,)   0.333837  6.602283e+12\n",
       "6           2   (lotsize, area)   0.680802  3.163546e+12\n",
       "7           2   (lotsize, beds)   0.200856  7.920250e+12\n",
       "8           2  (lotsize, baths)   0.483056  5.123388e+12\n",
       "9           2    (lotsize, age)   0.387781  6.067645e+12"
      ]
     },
     "execution_count": 60,
     "metadata": {},
     "output_type": "execute_result"
    }
   ],
   "source": [
    "df1[:10]"
   ]
  },
  {
   "cell_type": "code",
   "execution_count": 61,
   "metadata": {},
   "outputs": [],
   "source": [
    "best_r2 = df1.groupby(['n_features'])['R-squared'].max()\n",
    "worst_r2 = df1.groupby(['n_features'])['R-squared'].min()"
   ]
  },
  {
   "cell_type": "code",
   "execution_count": 62,
   "metadata": {},
   "outputs": [
    {
     "data": {
      "text/html": [
       "<div>\n",
       "<style scoped>\n",
       "    .dataframe tbody tr th:only-of-type {\n",
       "        vertical-align: middle;\n",
       "    }\n",
       "\n",
       "    .dataframe tbody tr th {\n",
       "        vertical-align: top;\n",
       "    }\n",
       "\n",
       "    .dataframe thead th {\n",
       "        text-align: right;\n",
       "    }\n",
       "</style>\n",
       "<table border=\"1\" class=\"dataframe\">\n",
       "  <thead>\n",
       "    <tr style=\"text-align: right;\">\n",
       "      <th></th>\n",
       "      <th>n_features</th>\n",
       "      <th>features</th>\n",
       "      <th>R-squared</th>\n",
       "      <th>SSE</th>\n",
       "    </tr>\n",
       "  </thead>\n",
       "  <tbody>\n",
       "    <tr>\n",
       "      <th>1</th>\n",
       "      <td>1</td>\n",
       "      <td>(area,)</td>\n",
       "      <td>0.671531</td>\n",
       "      <td>3.255426e+12</td>\n",
       "    </tr>\n",
       "  </tbody>\n",
       "</table>\n",
       "</div>"
      ],
      "text/plain": [
       "   n_features features  R-squared           SSE\n",
       "1           1  (area,)   0.671531  3.255426e+12"
      ]
     },
     "execution_count": 62,
     "metadata": {},
     "output_type": "execute_result"
    }
   ],
   "source": [
    "df3 = df1[df1['R-squared'] == best_r2[1]]\n",
    "df3"
   ]
  },
  {
   "cell_type": "code",
   "execution_count": 63,
   "metadata": {},
   "outputs": [
    {
     "data": {
      "text/html": [
       "<div>\n",
       "<style scoped>\n",
       "    .dataframe tbody tr th:only-of-type {\n",
       "        vertical-align: middle;\n",
       "    }\n",
       "\n",
       "    .dataframe tbody tr th {\n",
       "        vertical-align: top;\n",
       "    }\n",
       "\n",
       "    .dataframe thead th {\n",
       "        text-align: right;\n",
       "    }\n",
       "</style>\n",
       "<table border=\"1\" class=\"dataframe\">\n",
       "  <thead>\n",
       "    <tr style=\"text-align: right;\">\n",
       "      <th></th>\n",
       "      <th>n_features</th>\n",
       "      <th>features</th>\n",
       "      <th>R-squared</th>\n",
       "      <th>SSE</th>\n",
       "    </tr>\n",
       "  </thead>\n",
       "  <tbody>\n",
       "    <tr>\n",
       "      <th>0</th>\n",
       "      <td>1</td>\n",
       "      <td>(lotsize,)</td>\n",
       "      <td>0.050252</td>\n",
       "      <td>9.412873e+12</td>\n",
       "    </tr>\n",
       "  </tbody>\n",
       "</table>\n",
       "</div>"
      ],
      "text/plain": [
       "   n_features    features  R-squared           SSE\n",
       "0           1  (lotsize,)   0.050252  9.412873e+12"
      ]
     },
     "execution_count": 63,
     "metadata": {},
     "output_type": "execute_result"
    }
   ],
   "source": [
    "df3 = df1[df1['R-squared'] == worst_r2[1]]\n",
    "df3"
   ]
  },
  {
   "cell_type": "code",
   "execution_count": 64,
   "metadata": {},
   "outputs": [],
   "source": [
    "# In terms of R^2, the best predictor is area and the worst is quality"
   ]
  },
  {
   "cell_type": "markdown",
   "metadata": {},
   "source": [
    "Question 5"
   ]
  },
  {
   "cell_type": "code",
   "execution_count": 65,
   "metadata": {},
   "outputs": [
    {
     "data": {
      "text/html": [
       "<div>\n",
       "<style scoped>\n",
       "    .dataframe tbody tr th:only-of-type {\n",
       "        vertical-align: middle;\n",
       "    }\n",
       "\n",
       "    .dataframe tbody tr th {\n",
       "        vertical-align: top;\n",
       "    }\n",
       "\n",
       "    .dataframe thead th {\n",
       "        text-align: right;\n",
       "    }\n",
       "</style>\n",
       "<table border=\"1\" class=\"dataframe\">\n",
       "  <thead>\n",
       "    <tr style=\"text-align: right;\">\n",
       "      <th></th>\n",
       "      <th>n_features</th>\n",
       "      <th>features</th>\n",
       "      <th>R-squared</th>\n",
       "      <th>SSE</th>\n",
       "    </tr>\n",
       "  </thead>\n",
       "  <tbody>\n",
       "    <tr>\n",
       "      <th>13</th>\n",
       "      <td>2</td>\n",
       "      <td>(area, age)</td>\n",
       "      <td>0.718249</td>\n",
       "      <td>2.792410e+12</td>\n",
       "    </tr>\n",
       "  </tbody>\n",
       "</table>\n",
       "</div>"
      ],
      "text/plain": [
       "    n_features     features  R-squared           SSE\n",
       "13           2  (area, age)   0.718249  2.792410e+12"
      ]
     },
     "execution_count": 65,
     "metadata": {},
     "output_type": "execute_result"
    }
   ],
   "source": [
    "df3 = df1[df1['R-squared'] == best_r2[2]]\n",
    "df3"
   ]
  },
  {
   "cell_type": "code",
   "execution_count": 66,
   "metadata": {},
   "outputs": [],
   "source": [
    "df3 = df1[df1['R-squared'] == best_r2[1]]"
   ]
  },
  {
   "cell_type": "code",
   "execution_count": 67,
   "metadata": {},
   "outputs": [],
   "source": [
    "for i in range (2,7):\n",
    "    df3 = df3.append(df1[df1['R-squared'] == best_r2[i]])"
   ]
  },
  {
   "cell_type": "code",
   "execution_count": 68,
   "metadata": {},
   "outputs": [
    {
     "data": {
      "text/plain": [
       "(522, 12)"
      ]
     },
     "execution_count": 68,
     "metadata": {},
     "output_type": "execute_result"
    }
   ],
   "source": [
    "df.shape"
   ]
  },
  {
   "cell_type": "code",
   "execution_count": 69,
   "metadata": {},
   "outputs": [],
   "source": [
    "n = 522"
   ]
  },
  {
   "cell_type": "code",
   "execution_count": 70,
   "metadata": {
    "scrolled": true
   },
   "outputs": [],
   "source": [
    "df3['AIC'] = n * np.log(df3['SSE']/n) + 2*df3['n_features']"
   ]
  },
  {
   "cell_type": "code",
   "execution_count": 71,
   "metadata": {},
   "outputs": [],
   "source": [
    "df3['adj_R-squared'] = 1 - ((1 - df3['R-squared'])*(n-1)/(n - df3['n_features'] - 1))"
   ]
  },
  {
   "cell_type": "code",
   "execution_count": 72,
   "metadata": {},
   "outputs": [
    {
     "data": {
      "text/html": [
       "<div>\n",
       "<style scoped>\n",
       "    .dataframe tbody tr th:only-of-type {\n",
       "        vertical-align: middle;\n",
       "    }\n",
       "\n",
       "    .dataframe tbody tr th {\n",
       "        vertical-align: top;\n",
       "    }\n",
       "\n",
       "    .dataframe thead th {\n",
       "        text-align: right;\n",
       "    }\n",
       "</style>\n",
       "<table border=\"1\" class=\"dataframe\">\n",
       "  <thead>\n",
       "    <tr style=\"text-align: right;\">\n",
       "      <th></th>\n",
       "      <th>n_features</th>\n",
       "      <th>features</th>\n",
       "      <th>R-squared</th>\n",
       "      <th>SSE</th>\n",
       "      <th>AIC</th>\n",
       "      <th>adj_R-squared</th>\n",
       "    </tr>\n",
       "  </thead>\n",
       "  <tbody>\n",
       "    <tr>\n",
       "      <th>1</th>\n",
       "      <td>1</td>\n",
       "      <td>(area,)</td>\n",
       "      <td>0.671531</td>\n",
       "      <td>3.255426e+12</td>\n",
       "      <td>11775.019159</td>\n",
       "      <td>0.670900</td>\n",
       "    </tr>\n",
       "    <tr>\n",
       "      <th>13</th>\n",
       "      <td>2</td>\n",
       "      <td>(area, age)</td>\n",
       "      <td>0.718249</td>\n",
       "      <td>2.792410e+12</td>\n",
       "      <td>11696.934938</td>\n",
       "      <td>0.717163</td>\n",
       "    </tr>\n",
       "    <tr>\n",
       "      <th>23</th>\n",
       "      <td>3</td>\n",
       "      <td>(lotsize, area, age)</td>\n",
       "      <td>0.737944</td>\n",
       "      <td>2.597213e+12</td>\n",
       "      <td>11661.107762</td>\n",
       "      <td>0.736426</td>\n",
       "    </tr>\n",
       "    <tr>\n",
       "      <th>46</th>\n",
       "      <td>4</td>\n",
       "      <td>(lotsize, area, age, garage)</td>\n",
       "      <td>0.745438</td>\n",
       "      <td>2.522941e+12</td>\n",
       "      <td>11647.962610</td>\n",
       "      <td>0.743468</td>\n",
       "    </tr>\n",
       "    <tr>\n",
       "      <th>58</th>\n",
       "      <td>5</td>\n",
       "      <td>(lotsize, area, beds, age, garage)</td>\n",
       "      <td>0.750063</td>\n",
       "      <td>2.477102e+12</td>\n",
       "      <td>11640.391242</td>\n",
       "      <td>0.747641</td>\n",
       "    </tr>\n",
       "    <tr>\n",
       "      <th>62</th>\n",
       "      <td>6</td>\n",
       "      <td>(lotsize, area, beds, baths, age, garage)</td>\n",
       "      <td>0.751389</td>\n",
       "      <td>2.463958e+12</td>\n",
       "      <td>11639.613904</td>\n",
       "      <td>0.748493</td>\n",
       "    </tr>\n",
       "  </tbody>\n",
       "</table>\n",
       "</div>"
      ],
      "text/plain": [
       "    n_features                                   features  R-squared  \\\n",
       "1            1                                    (area,)   0.671531   \n",
       "13           2                                (area, age)   0.718249   \n",
       "23           3                       (lotsize, area, age)   0.737944   \n",
       "46           4               (lotsize, area, age, garage)   0.745438   \n",
       "58           5         (lotsize, area, beds, age, garage)   0.750063   \n",
       "62           6  (lotsize, area, beds, baths, age, garage)   0.751389   \n",
       "\n",
       "             SSE           AIC  adj_R-squared  \n",
       "1   3.255426e+12  11775.019159       0.670900  \n",
       "13  2.792410e+12  11696.934938       0.717163  \n",
       "23  2.597213e+12  11661.107762       0.736426  \n",
       "46  2.522941e+12  11647.962610       0.743468  \n",
       "58  2.477102e+12  11640.391242       0.747641  \n",
       "62  2.463958e+12  11639.613904       0.748493  "
      ]
     },
     "execution_count": 72,
     "metadata": {},
     "output_type": "execute_result"
    }
   ],
   "source": [
    "df3"
   ]
  },
  {
   "cell_type": "code",
   "execution_count": 73,
   "metadata": {},
   "outputs": [
    {
     "data": {
      "text/plain": [
       "11639.613904336478"
      ]
     },
     "execution_count": 73,
     "metadata": {},
     "output_type": "execute_result"
    }
   ],
   "source": [
    "df3.AIC.min()"
   ]
  },
  {
   "cell_type": "code",
   "execution_count": 74,
   "metadata": {},
   "outputs": [
    {
     "data": {
      "text/html": [
       "<div>\n",
       "<style scoped>\n",
       "    .dataframe tbody tr th:only-of-type {\n",
       "        vertical-align: middle;\n",
       "    }\n",
       "\n",
       "    .dataframe tbody tr th {\n",
       "        vertical-align: top;\n",
       "    }\n",
       "\n",
       "    .dataframe thead th {\n",
       "        text-align: right;\n",
       "    }\n",
       "</style>\n",
       "<table border=\"1\" class=\"dataframe\">\n",
       "  <thead>\n",
       "    <tr style=\"text-align: right;\">\n",
       "      <th></th>\n",
       "      <th>n_features</th>\n",
       "      <th>features</th>\n",
       "      <th>R-squared</th>\n",
       "      <th>SSE</th>\n",
       "      <th>AIC</th>\n",
       "      <th>adj_R-squared</th>\n",
       "    </tr>\n",
       "  </thead>\n",
       "  <tbody>\n",
       "    <tr>\n",
       "      <th>62</th>\n",
       "      <td>6</td>\n",
       "      <td>(lotsize, area, beds, baths, age, garage)</td>\n",
       "      <td>0.751389</td>\n",
       "      <td>2.463958e+12</td>\n",
       "      <td>11639.613904</td>\n",
       "      <td>0.748493</td>\n",
       "    </tr>\n",
       "  </tbody>\n",
       "</table>\n",
       "</div>"
      ],
      "text/plain": [
       "    n_features                                   features  R-squared  \\\n",
       "62           6  (lotsize, area, beds, baths, age, garage)   0.751389   \n",
       "\n",
       "             SSE           AIC  adj_R-squared  \n",
       "62  2.463958e+12  11639.613904       0.748493  "
      ]
     },
     "execution_count": 74,
     "metadata": {},
     "output_type": "execute_result"
    }
   ],
   "source": [
    "df3[df3.AIC == df3.AIC.min()]"
   ]
  },
  {
   "cell_type": "code",
   "execution_count": 75,
   "metadata": {},
   "outputs": [],
   "source": [
    "# Best model in terms of AIC"
   ]
  },
  {
   "cell_type": "code",
   "execution_count": 76,
   "metadata": {},
   "outputs": [],
   "source": [
    "# yhat = 9308.959377 + 1.554990 lotsize + 125.738603 area - 13041.394214 beds + 7987.551827 baths - 1779.610838 age + 22530.379289 garage "
   ]
  },
  {
   "cell_type": "markdown",
   "metadata": {},
   "source": [
    "Question 6"
   ]
  },
  {
   "cell_type": "code",
   "execution_count": 77,
   "metadata": {
    "scrolled": true
   },
   "outputs": [
    {
     "data": {
      "text/html": [
       "<div>\n",
       "<style scoped>\n",
       "    .dataframe tbody tr th:only-of-type {\n",
       "        vertical-align: middle;\n",
       "    }\n",
       "\n",
       "    .dataframe tbody tr th {\n",
       "        vertical-align: top;\n",
       "    }\n",
       "\n",
       "    .dataframe thead th {\n",
       "        text-align: right;\n",
       "    }\n",
       "</style>\n",
       "<table border=\"1\" class=\"dataframe\">\n",
       "  <thead>\n",
       "    <tr style=\"text-align: right;\">\n",
       "      <th></th>\n",
       "      <th>price</th>\n",
       "      <th>area</th>\n",
       "      <th>beds</th>\n",
       "      <th>baths</th>\n",
       "      <th>garage</th>\n",
       "      <th>age</th>\n",
       "      <th>lotsize</th>\n",
       "      <th>ac_YES</th>\n",
       "      <th>pool_YES</th>\n",
       "      <th>quality_LOW</th>\n",
       "      <th>...</th>\n",
       "      <th>highway_YES</th>\n",
       "      <th>style_2</th>\n",
       "      <th>style_3</th>\n",
       "      <th>style_4</th>\n",
       "      <th>style_5</th>\n",
       "      <th>style_6</th>\n",
       "      <th>style_7</th>\n",
       "      <th>style_9</th>\n",
       "      <th>style_10</th>\n",
       "      <th>style_11</th>\n",
       "    </tr>\n",
       "  </thead>\n",
       "  <tbody>\n",
       "    <tr>\n",
       "      <th>0</th>\n",
       "      <td>360000</td>\n",
       "      <td>3032</td>\n",
       "      <td>4</td>\n",
       "      <td>4</td>\n",
       "      <td>2</td>\n",
       "      <td>29</td>\n",
       "      <td>22221</td>\n",
       "      <td>1</td>\n",
       "      <td>0</td>\n",
       "      <td>0</td>\n",
       "      <td>...</td>\n",
       "      <td>0</td>\n",
       "      <td>0</td>\n",
       "      <td>0</td>\n",
       "      <td>0</td>\n",
       "      <td>0</td>\n",
       "      <td>0</td>\n",
       "      <td>0</td>\n",
       "      <td>0</td>\n",
       "      <td>0</td>\n",
       "      <td>0</td>\n",
       "    </tr>\n",
       "    <tr>\n",
       "      <th>1</th>\n",
       "      <td>340000</td>\n",
       "      <td>2058</td>\n",
       "      <td>4</td>\n",
       "      <td>2</td>\n",
       "      <td>2</td>\n",
       "      <td>25</td>\n",
       "      <td>22912</td>\n",
       "      <td>1</td>\n",
       "      <td>0</td>\n",
       "      <td>0</td>\n",
       "      <td>...</td>\n",
       "      <td>0</td>\n",
       "      <td>0</td>\n",
       "      <td>0</td>\n",
       "      <td>0</td>\n",
       "      <td>0</td>\n",
       "      <td>0</td>\n",
       "      <td>0</td>\n",
       "      <td>0</td>\n",
       "      <td>0</td>\n",
       "      <td>0</td>\n",
       "    </tr>\n",
       "    <tr>\n",
       "      <th>2</th>\n",
       "      <td>250000</td>\n",
       "      <td>1780</td>\n",
       "      <td>4</td>\n",
       "      <td>3</td>\n",
       "      <td>2</td>\n",
       "      <td>21</td>\n",
       "      <td>21345</td>\n",
       "      <td>1</td>\n",
       "      <td>0</td>\n",
       "      <td>0</td>\n",
       "      <td>...</td>\n",
       "      <td>0</td>\n",
       "      <td>0</td>\n",
       "      <td>0</td>\n",
       "      <td>0</td>\n",
       "      <td>0</td>\n",
       "      <td>0</td>\n",
       "      <td>0</td>\n",
       "      <td>0</td>\n",
       "      <td>0</td>\n",
       "      <td>0</td>\n",
       "    </tr>\n",
       "    <tr>\n",
       "      <th>3</th>\n",
       "      <td>205500</td>\n",
       "      <td>1638</td>\n",
       "      <td>4</td>\n",
       "      <td>2</td>\n",
       "      <td>2</td>\n",
       "      <td>38</td>\n",
       "      <td>17342</td>\n",
       "      <td>1</td>\n",
       "      <td>0</td>\n",
       "      <td>0</td>\n",
       "      <td>...</td>\n",
       "      <td>0</td>\n",
       "      <td>0</td>\n",
       "      <td>0</td>\n",
       "      <td>0</td>\n",
       "      <td>0</td>\n",
       "      <td>0</td>\n",
       "      <td>0</td>\n",
       "      <td>0</td>\n",
       "      <td>0</td>\n",
       "      <td>0</td>\n",
       "    </tr>\n",
       "    <tr>\n",
       "      <th>4</th>\n",
       "      <td>275500</td>\n",
       "      <td>2196</td>\n",
       "      <td>4</td>\n",
       "      <td>3</td>\n",
       "      <td>2</td>\n",
       "      <td>33</td>\n",
       "      <td>21786</td>\n",
       "      <td>1</td>\n",
       "      <td>0</td>\n",
       "      <td>0</td>\n",
       "      <td>...</td>\n",
       "      <td>0</td>\n",
       "      <td>0</td>\n",
       "      <td>0</td>\n",
       "      <td>0</td>\n",
       "      <td>0</td>\n",
       "      <td>0</td>\n",
       "      <td>1</td>\n",
       "      <td>0</td>\n",
       "      <td>0</td>\n",
       "      <td>0</td>\n",
       "    </tr>\n",
       "  </tbody>\n",
       "</table>\n",
       "<p>5 rows × 21 columns</p>\n",
       "</div>"
      ],
      "text/plain": [
       "    price  area  beds  baths  garage  age  lotsize  ac_YES  pool_YES  \\\n",
       "0  360000  3032     4      4       2   29    22221       1         0   \n",
       "1  340000  2058     4      2       2   25    22912       1         0   \n",
       "2  250000  1780     4      3       2   21    21345       1         0   \n",
       "3  205500  1638     4      2       2   38    17342       1         0   \n",
       "4  275500  2196     4      3       2   33    21786       1         0   \n",
       "\n",
       "   quality_LOW  ...  highway_YES  style_2  style_3  style_4  style_5  style_6  \\\n",
       "0            0  ...            0        0        0        0        0        0   \n",
       "1            0  ...            0        0        0        0        0        0   \n",
       "2            0  ...            0        0        0        0        0        0   \n",
       "3            0  ...            0        0        0        0        0        0   \n",
       "4            0  ...            0        0        0        0        0        0   \n",
       "\n",
       "   style_7  style_9  style_10  style_11  \n",
       "0        0        0         0         0  \n",
       "1        0        0         0         0  \n",
       "2        0        0         0         0  \n",
       "3        0        0         0         0  \n",
       "4        1        0         0         0  \n",
       "\n",
       "[5 rows x 21 columns]"
      ]
     },
     "execution_count": 77,
     "metadata": {},
     "output_type": "execute_result"
    }
   ],
   "source": [
    "df4[:5]"
   ]
  },
  {
   "cell_type": "code",
   "execution_count": 78,
   "metadata": {},
   "outputs": [
    {
     "data": {
      "text/plain": [
       "['price', 'lotsize', 'quality_LOW', 'quality_MEDIUM']"
      ]
     },
     "execution_count": 78,
     "metadata": {},
     "output_type": "execute_result"
    }
   ],
   "source": [
    "list2 = ['price','lotsize','quality_LOW','quality_MEDIUM']\n",
    "list2"
   ]
  },
  {
   "cell_type": "code",
   "execution_count": 79,
   "metadata": {},
   "outputs": [
    {
     "data": {
      "text/html": [
       "<div>\n",
       "<style scoped>\n",
       "    .dataframe tbody tr th:only-of-type {\n",
       "        vertical-align: middle;\n",
       "    }\n",
       "\n",
       "    .dataframe tbody tr th {\n",
       "        vertical-align: top;\n",
       "    }\n",
       "\n",
       "    .dataframe thead th {\n",
       "        text-align: right;\n",
       "    }\n",
       "</style>\n",
       "<table border=\"1\" class=\"dataframe\">\n",
       "  <thead>\n",
       "    <tr style=\"text-align: right;\">\n",
       "      <th></th>\n",
       "      <th>price</th>\n",
       "      <th>lotsize</th>\n",
       "      <th>quality_LOW</th>\n",
       "      <th>quality_MEDIUM</th>\n",
       "    </tr>\n",
       "  </thead>\n",
       "  <tbody>\n",
       "    <tr>\n",
       "      <th>0</th>\n",
       "      <td>360000</td>\n",
       "      <td>22221</td>\n",
       "      <td>0</td>\n",
       "      <td>1</td>\n",
       "    </tr>\n",
       "    <tr>\n",
       "      <th>1</th>\n",
       "      <td>340000</td>\n",
       "      <td>22912</td>\n",
       "      <td>0</td>\n",
       "      <td>1</td>\n",
       "    </tr>\n",
       "    <tr>\n",
       "      <th>2</th>\n",
       "      <td>250000</td>\n",
       "      <td>21345</td>\n",
       "      <td>0</td>\n",
       "      <td>1</td>\n",
       "    </tr>\n",
       "    <tr>\n",
       "      <th>3</th>\n",
       "      <td>205500</td>\n",
       "      <td>17342</td>\n",
       "      <td>0</td>\n",
       "      <td>1</td>\n",
       "    </tr>\n",
       "    <tr>\n",
       "      <th>4</th>\n",
       "      <td>275500</td>\n",
       "      <td>21786</td>\n",
       "      <td>0</td>\n",
       "      <td>1</td>\n",
       "    </tr>\n",
       "  </tbody>\n",
       "</table>\n",
       "</div>"
      ],
      "text/plain": [
       "    price  lotsize  quality_LOW  quality_MEDIUM\n",
       "0  360000    22221            0               1\n",
       "1  340000    22912            0               1\n",
       "2  250000    21345            0               1\n",
       "3  205500    17342            0               1\n",
       "4  275500    21786            0               1"
      ]
     },
     "execution_count": 79,
     "metadata": {},
     "output_type": "execute_result"
    }
   ],
   "source": [
    "df5 = df4[list2]\n",
    "df5[:5]"
   ]
  },
  {
   "cell_type": "code",
   "execution_count": 80,
   "metadata": {},
   "outputs": [],
   "source": [
    "P1 = df5.iloc[:,1:4]\n",
    "R1 = df5.iloc[:,0]"
   ]
  },
  {
   "cell_type": "code",
   "execution_count": 81,
   "metadata": {},
   "outputs": [],
   "source": [
    "P0 = P1.to_numpy()\n",
    "P1 = sm.add_constant(P0)"
   ]
  },
  {
   "cell_type": "code",
   "execution_count": 82,
   "metadata": {},
   "outputs": [],
   "source": [
    "m4 = sm.OLS(R1,P1).fit()"
   ]
  },
  {
   "cell_type": "code",
   "execution_count": 83,
   "metadata": {},
   "outputs": [
    {
     "data": {
      "text/html": [
       "<table class=\"simpletable\">\n",
       "<caption>OLS Regression Results</caption>\n",
       "<tr>\n",
       "  <th>Dep. Variable:</th>          <td>price</td>      <th>  R-squared:         </th> <td>   0.679</td> \n",
       "</tr>\n",
       "<tr>\n",
       "  <th>Model:</th>                   <td>OLS</td>       <th>  Adj. R-squared:    </th> <td>   0.677</td> \n",
       "</tr>\n",
       "<tr>\n",
       "  <th>Method:</th>             <td>Least Squares</td>  <th>  F-statistic:       </th> <td>   365.5</td> \n",
       "</tr>\n",
       "<tr>\n",
       "  <th>Date:</th>             <td>Wed, 25 Sep 2019</td> <th>  Prob (F-statistic):</th> <td>2.04e-127</td>\n",
       "</tr>\n",
       "<tr>\n",
       "  <th>Time:</th>                 <td>16:47:12</td>     <th>  Log-Likelihood:    </th> <td> -6621.1</td> \n",
       "</tr>\n",
       "<tr>\n",
       "  <th>No. Observations:</th>      <td>   522</td>      <th>  AIC:               </th> <td>1.325e+04</td>\n",
       "</tr>\n",
       "<tr>\n",
       "  <th>Df Residuals:</th>          <td>   518</td>      <th>  BIC:               </th> <td>1.327e+04</td>\n",
       "</tr>\n",
       "<tr>\n",
       "  <th>Df Model:</th>              <td>     3</td>      <th>                     </th>     <td> </td>    \n",
       "</tr>\n",
       "<tr>\n",
       "  <th>Covariance Type:</th>      <td>nonrobust</td>    <th>                     </th>     <td> </td>    \n",
       "</tr>\n",
       "</table>\n",
       "<table class=\"simpletable\">\n",
       "<tr>\n",
       "    <td></td>       <th>coef</th>     <th>std err</th>      <th>t</th>      <th>P>|t|</th>  <th>[0.025</th>    <th>0.975]</th>  \n",
       "</tr>\n",
       "<tr>\n",
       "  <th>const</th> <td> 4.996e+05</td> <td> 1.24e+04</td> <td>   40.377</td> <td> 0.000</td> <td> 4.75e+05</td> <td> 5.24e+05</td>\n",
       "</tr>\n",
       "<tr>\n",
       "  <th>x1</th>    <td>    1.6421</td> <td>    0.296</td> <td>    5.551</td> <td> 0.000</td> <td>    1.061</td> <td>    2.223</td>\n",
       "</tr>\n",
       "<tr>\n",
       "  <th>x2</th>    <td>-3.617e+05</td> <td> 1.14e+04</td> <td>  -31.818</td> <td> 0.000</td> <td>-3.84e+05</td> <td>-3.39e+05</td>\n",
       "</tr>\n",
       "<tr>\n",
       "  <th>x3</th>    <td>-2.666e+05</td> <td> 1.06e+04</td> <td>  -25.210</td> <td> 0.000</td> <td>-2.87e+05</td> <td>-2.46e+05</td>\n",
       "</tr>\n",
       "</table>\n",
       "<table class=\"simpletable\">\n",
       "<tr>\n",
       "  <th>Omnibus:</th>       <td>114.013</td> <th>  Durbin-Watson:     </th> <td>   0.924</td>\n",
       "</tr>\n",
       "<tr>\n",
       "  <th>Prob(Omnibus):</th> <td> 0.000</td>  <th>  Jarque-Bera (JB):  </th> <td> 285.522</td>\n",
       "</tr>\n",
       "<tr>\n",
       "  <th>Skew:</th>          <td> 1.097</td>  <th>  Prob(JB):          </th> <td>9.99e-63</td>\n",
       "</tr>\n",
       "<tr>\n",
       "  <th>Kurtosis:</th>      <td> 5.883</td>  <th>  Cond. No.          </th> <td>1.42e+05</td>\n",
       "</tr>\n",
       "</table><br/><br/>Warnings:<br/>[1] Standard Errors assume that the covariance matrix of the errors is correctly specified.<br/>[2] The condition number is large, 1.42e+05. This might indicate that there are<br/>strong multicollinearity or other numerical problems."
      ],
      "text/plain": [
       "<class 'statsmodels.iolib.summary.Summary'>\n",
       "\"\"\"\n",
       "                            OLS Regression Results                            \n",
       "==============================================================================\n",
       "Dep. Variable:                  price   R-squared:                       0.679\n",
       "Model:                            OLS   Adj. R-squared:                  0.677\n",
       "Method:                 Least Squares   F-statistic:                     365.5\n",
       "Date:                Wed, 25 Sep 2019   Prob (F-statistic):          2.04e-127\n",
       "Time:                        16:47:12   Log-Likelihood:                -6621.1\n",
       "No. Observations:                 522   AIC:                         1.325e+04\n",
       "Df Residuals:                     518   BIC:                         1.327e+04\n",
       "Df Model:                           3                                         \n",
       "Covariance Type:            nonrobust                                         \n",
       "==============================================================================\n",
       "                 coef    std err          t      P>|t|      [0.025      0.975]\n",
       "------------------------------------------------------------------------------\n",
       "const       4.996e+05   1.24e+04     40.377      0.000    4.75e+05    5.24e+05\n",
       "x1             1.6421      0.296      5.551      0.000       1.061       2.223\n",
       "x2         -3.617e+05   1.14e+04    -31.818      0.000   -3.84e+05   -3.39e+05\n",
       "x3         -2.666e+05   1.06e+04    -25.210      0.000   -2.87e+05   -2.46e+05\n",
       "==============================================================================\n",
       "Omnibus:                      114.013   Durbin-Watson:                   0.924\n",
       "Prob(Omnibus):                  0.000   Jarque-Bera (JB):              285.522\n",
       "Skew:                           1.097   Prob(JB):                     9.99e-63\n",
       "Kurtosis:                       5.883   Cond. No.                     1.42e+05\n",
       "==============================================================================\n",
       "\n",
       "Warnings:\n",
       "[1] Standard Errors assume that the covariance matrix of the errors is correctly specified.\n",
       "[2] The condition number is large, 1.42e+05. This might indicate that there are\n",
       "strong multicollinearity or other numerical problems.\n",
       "\"\"\""
      ]
     },
     "execution_count": 83,
     "metadata": {},
     "output_type": "execute_result"
    }
   ],
   "source": [
    "m4.summary()"
   ]
  },
  {
   "cell_type": "code",
   "execution_count": 84,
   "metadata": {},
   "outputs": [
    {
     "data": {
      "text/plain": [
       "const    499607.815886\n",
       "x1            1.642053\n",
       "x2      -361721.638336\n",
       "x3      -266554.185858\n",
       "dtype: float64"
      ]
     },
     "execution_count": 84,
     "metadata": {},
     "output_type": "execute_result"
    }
   ],
   "source": [
    "m4.params"
   ]
  },
  {
   "cell_type": "code",
   "execution_count": 85,
   "metadata": {},
   "outputs": [],
   "source": [
    "# yhat = 499607.815886 +  1.642053 lotsize - 361721.638336 quality_LOW - 266554.185858 quality_MEDIUM"
   ]
  },
  {
   "cell_type": "markdown",
   "metadata": {},
   "source": [
    "Question 7"
   ]
  },
  {
   "cell_type": "code",
   "execution_count": 86,
   "metadata": {},
   "outputs": [
    {
     "data": {
      "text/plain": [
       "298735.75002800004"
      ]
     },
     "execution_count": 86,
     "metadata": {},
     "output_type": "execute_result"
    }
   ],
   "source": [
    "price = 499607.815886 +  1.642053 * 40000 - 361721.638336 * 0 - 266554.185858 * 1\n",
    "price"
   ]
  },
  {
   "cell_type": "markdown",
   "metadata": {},
   "source": [
    "Question 8"
   ]
  },
  {
   "cell_type": "code",
   "execution_count": 87,
   "metadata": {},
   "outputs": [],
   "source": [
    "df4 = df4[(df4.beds >= 2) & (df.beds <= 4)]"
   ]
  },
  {
   "cell_type": "code",
   "execution_count": 88,
   "metadata": {},
   "outputs": [],
   "source": [
    "P2 = df4.iloc[:,1:22]\n",
    "R2 = df4.iloc[:,0]"
   ]
  },
  {
   "cell_type": "code",
   "execution_count": 89,
   "metadata": {},
   "outputs": [
    {
     "data": {
      "text/plain": [
       "array([[1.0000e+00, 3.0320e+03, 4.0000e+00, 4.0000e+00, 2.0000e+00,\n",
       "        2.9000e+01, 2.2221e+04, 1.0000e+00, 0.0000e+00, 0.0000e+00,\n",
       "        1.0000e+00, 0.0000e+00, 0.0000e+00, 0.0000e+00, 0.0000e+00,\n",
       "        0.0000e+00, 0.0000e+00, 0.0000e+00, 0.0000e+00, 0.0000e+00,\n",
       "        0.0000e+00],\n",
       "       [1.0000e+00, 2.0580e+03, 4.0000e+00, 2.0000e+00, 2.0000e+00,\n",
       "        2.5000e+01, 2.2912e+04, 1.0000e+00, 0.0000e+00, 0.0000e+00,\n",
       "        1.0000e+00, 0.0000e+00, 0.0000e+00, 0.0000e+00, 0.0000e+00,\n",
       "        0.0000e+00, 0.0000e+00, 0.0000e+00, 0.0000e+00, 0.0000e+00,\n",
       "        0.0000e+00],\n",
       "       [1.0000e+00, 1.7800e+03, 4.0000e+00, 3.0000e+00, 2.0000e+00,\n",
       "        2.1000e+01, 2.1345e+04, 1.0000e+00, 0.0000e+00, 0.0000e+00,\n",
       "        1.0000e+00, 0.0000e+00, 0.0000e+00, 0.0000e+00, 0.0000e+00,\n",
       "        0.0000e+00, 0.0000e+00, 0.0000e+00, 0.0000e+00, 0.0000e+00,\n",
       "        0.0000e+00],\n",
       "       [1.0000e+00, 1.6380e+03, 4.0000e+00, 2.0000e+00, 2.0000e+00,\n",
       "        3.8000e+01, 1.7342e+04, 1.0000e+00, 0.0000e+00, 0.0000e+00,\n",
       "        1.0000e+00, 0.0000e+00, 0.0000e+00, 0.0000e+00, 0.0000e+00,\n",
       "        0.0000e+00, 0.0000e+00, 0.0000e+00, 0.0000e+00, 0.0000e+00,\n",
       "        0.0000e+00],\n",
       "       [1.0000e+00, 2.1960e+03, 4.0000e+00, 3.0000e+00, 2.0000e+00,\n",
       "        3.3000e+01, 2.1786e+04, 1.0000e+00, 0.0000e+00, 0.0000e+00,\n",
       "        1.0000e+00, 0.0000e+00, 0.0000e+00, 0.0000e+00, 0.0000e+00,\n",
       "        0.0000e+00, 0.0000e+00, 1.0000e+00, 0.0000e+00, 0.0000e+00,\n",
       "        0.0000e+00]])"
      ]
     },
     "execution_count": 89,
     "metadata": {},
     "output_type": "execute_result"
    }
   ],
   "source": [
    "P3 = P2.to_numpy()\n",
    "P4 = sm.add_constant(P3)\n",
    "P4[:5]"
   ]
  },
  {
   "cell_type": "code",
   "execution_count": 99,
   "metadata": {},
   "outputs": [
    {
     "data": {
      "text/html": [
       "<table class=\"simpletable\">\n",
       "<caption>OLS Regression Results</caption>\n",
       "<tr>\n",
       "  <th>Dep. Variable:</th>          <td>price</td>      <th>  R-squared:         </th> <td>   0.852</td> \n",
       "</tr>\n",
       "<tr>\n",
       "  <th>Model:</th>                   <td>OLS</td>       <th>  Adj. R-squared:    </th> <td>   0.845</td> \n",
       "</tr>\n",
       "<tr>\n",
       "  <th>Method:</th>             <td>Least Squares</td>  <th>  F-statistic:       </th> <td>   135.9</td> \n",
       "</tr>\n",
       "<tr>\n",
       "  <th>Date:</th>             <td>Wed, 25 Sep 2019</td> <th>  Prob (F-statistic):</th> <td>1.08e-163</td>\n",
       "</tr>\n",
       "<tr>\n",
       "  <th>Time:</th>                 <td>16:47:23</td>     <th>  Log-Likelihood:    </th> <td> -5451.8</td> \n",
       "</tr>\n",
       "<tr>\n",
       "  <th>No. Observations:</th>      <td>   445</td>      <th>  AIC:               </th> <td>1.094e+04</td>\n",
       "</tr>\n",
       "<tr>\n",
       "  <th>Df Residuals:</th>          <td>   426</td>      <th>  BIC:               </th> <td>1.102e+04</td>\n",
       "</tr>\n",
       "<tr>\n",
       "  <th>Df Model:</th>              <td>    18</td>      <th>                     </th>     <td> </td>    \n",
       "</tr>\n",
       "<tr>\n",
       "  <th>Covariance Type:</th>      <td>nonrobust</td>    <th>                     </th>     <td> </td>    \n",
       "</tr>\n",
       "</table>\n",
       "<table class=\"simpletable\">\n",
       "<tr>\n",
       "    <td></td>       <th>coef</th>     <th>std err</th>      <th>t</th>      <th>P>|t|</th>  <th>[0.025</th>    <th>0.975]</th>  \n",
       "</tr>\n",
       "<tr>\n",
       "  <th>const</th> <td> 1.296e+05</td> <td> 2.67e+04</td> <td>    4.848</td> <td> 0.000</td> <td> 7.71e+04</td> <td> 1.82e+05</td>\n",
       "</tr>\n",
       "<tr>\n",
       "  <th>x1</th>    <td>  117.2176</td> <td>    7.739</td> <td>   15.146</td> <td> 0.000</td> <td>  102.006</td> <td>  132.429</td>\n",
       "</tr>\n",
       "<tr>\n",
       "  <th>x2</th>    <td>-2222.9820</td> <td> 4148.594</td> <td>   -0.536</td> <td> 0.592</td> <td>-1.04e+04</td> <td> 5931.279</td>\n",
       "</tr>\n",
       "<tr>\n",
       "  <th>x3</th>    <td> 9246.5631</td> <td> 4285.513</td> <td>    2.158</td> <td> 0.032</td> <td>  823.180</td> <td> 1.77e+04</td>\n",
       "</tr>\n",
       "<tr>\n",
       "  <th>x4</th>    <td> 7423.7368</td> <td> 4914.563</td> <td>    1.511</td> <td> 0.132</td> <td>-2236.074</td> <td> 1.71e+04</td>\n",
       "</tr>\n",
       "<tr>\n",
       "  <th>x5</th>    <td>-1300.6190</td> <td>  199.782</td> <td>   -6.510</td> <td> 0.000</td> <td>-1693.300</td> <td> -907.938</td>\n",
       "</tr>\n",
       "<tr>\n",
       "  <th>x6</th>    <td>    1.3283</td> <td>    0.238</td> <td>    5.584</td> <td> 0.000</td> <td>    0.861</td> <td>    1.796</td>\n",
       "</tr>\n",
       "<tr>\n",
       "  <th>x7</th>    <td>-1075.0761</td> <td> 7501.411</td> <td>   -0.143</td> <td> 0.886</td> <td>-1.58e+04</td> <td> 1.37e+04</td>\n",
       "</tr>\n",
       "<tr>\n",
       "  <th>x8</th>    <td> 2.163e+04</td> <td> 1.06e+04</td> <td>    2.042</td> <td> 0.042</td> <td>  813.263</td> <td> 4.25e+04</td>\n",
       "</tr>\n",
       "<tr>\n",
       "  <th>x9</th>    <td>-1.368e+05</td> <td> 1.45e+04</td> <td>   -9.433</td> <td> 0.000</td> <td>-1.65e+05</td> <td>-1.08e+05</td>\n",
       "</tr>\n",
       "<tr>\n",
       "  <th>x10</th>   <td>-1.363e+05</td> <td> 1.08e+04</td> <td>  -12.640</td> <td> 0.000</td> <td>-1.58e+05</td> <td>-1.15e+05</td>\n",
       "</tr>\n",
       "<tr>\n",
       "  <th>x11</th>   <td> -3.18e+04</td> <td> 1.69e+04</td> <td>   -1.884</td> <td> 0.060</td> <td> -6.5e+04</td> <td> 1380.295</td>\n",
       "</tr>\n",
       "<tr>\n",
       "  <th>x12</th>   <td>-2.006e+04</td> <td> 8638.441</td> <td>   -2.322</td> <td> 0.021</td> <td> -3.7e+04</td> <td>-3080.425</td>\n",
       "</tr>\n",
       "<tr>\n",
       "  <th>x13</th>   <td>-1.151e+04</td> <td> 8251.632</td> <td>   -1.395</td> <td> 0.164</td> <td>-2.77e+04</td> <td> 4707.107</td>\n",
       "</tr>\n",
       "<tr>\n",
       "  <th>x14</th>   <td>  2.31e+04</td> <td> 1.72e+04</td> <td>    1.346</td> <td> 0.179</td> <td>-1.06e+04</td> <td> 5.68e+04</td>\n",
       "</tr>\n",
       "<tr>\n",
       "  <th>x15</th>   <td>-7407.6304</td> <td> 1.55e+04</td> <td>   -0.479</td> <td> 0.632</td> <td>-3.78e+04</td> <td>  2.3e+04</td>\n",
       "</tr>\n",
       "<tr>\n",
       "  <th>x16</th>   <td> -3.06e+04</td> <td> 1.51e+04</td> <td>   -2.029</td> <td> 0.043</td> <td>-6.02e+04</td> <td> -951.905</td>\n",
       "</tr>\n",
       "<tr>\n",
       "  <th>x17</th>   <td>-4.664e+04</td> <td> 8514.836</td> <td>   -5.477</td> <td> 0.000</td> <td>-6.34e+04</td> <td>-2.99e+04</td>\n",
       "</tr>\n",
       "<tr>\n",
       "  <th>x18</th>   <td>-9.094e+04</td> <td> 5.26e+04</td> <td>   -1.728</td> <td> 0.085</td> <td>-1.94e+05</td> <td> 1.25e+04</td>\n",
       "</tr>\n",
       "<tr>\n",
       "  <th>x19</th>   <td>         0</td> <td>        0</td> <td>      nan</td> <td>   nan</td> <td>        0</td> <td>        0</td>\n",
       "</tr>\n",
       "<tr>\n",
       "  <th>x20</th>   <td>         0</td> <td>        0</td> <td>      nan</td> <td>   nan</td> <td>        0</td> <td>        0</td>\n",
       "</tr>\n",
       "</table>\n",
       "<table class=\"simpletable\">\n",
       "<tr>\n",
       "  <th>Omnibus:</th>       <td>58.445</td> <th>  Durbin-Watson:     </th> <td>   1.344</td>\n",
       "</tr>\n",
       "<tr>\n",
       "  <th>Prob(Omnibus):</th> <td> 0.000</td> <th>  Jarque-Bera (JB):  </th> <td> 269.978</td>\n",
       "</tr>\n",
       "<tr>\n",
       "  <th>Skew:</th>          <td> 0.449</td> <th>  Prob(JB):          </th> <td>2.37e-59</td>\n",
       "</tr>\n",
       "<tr>\n",
       "  <th>Kurtosis:</th>      <td> 6.709</td> <th>  Cond. No.          </th> <td>     inf</td>\n",
       "</tr>\n",
       "</table><br/><br/>Warnings:<br/>[1] Standard Errors assume that the covariance matrix of the errors is correctly specified.<br/>[2] The smallest eigenvalue is      0. This might indicate that there are<br/>strong multicollinearity problems or that the design matrix is singular."
      ],
      "text/plain": [
       "<class 'statsmodels.iolib.summary.Summary'>\n",
       "\"\"\"\n",
       "                            OLS Regression Results                            \n",
       "==============================================================================\n",
       "Dep. Variable:                  price   R-squared:                       0.852\n",
       "Model:                            OLS   Adj. R-squared:                  0.845\n",
       "Method:                 Least Squares   F-statistic:                     135.9\n",
       "Date:                Wed, 25 Sep 2019   Prob (F-statistic):          1.08e-163\n",
       "Time:                        16:47:23   Log-Likelihood:                -5451.8\n",
       "No. Observations:                 445   AIC:                         1.094e+04\n",
       "Df Residuals:                     426   BIC:                         1.102e+04\n",
       "Df Model:                          18                                         \n",
       "Covariance Type:            nonrobust                                         \n",
       "==============================================================================\n",
       "                 coef    std err          t      P>|t|      [0.025      0.975]\n",
       "------------------------------------------------------------------------------\n",
       "const       1.296e+05   2.67e+04      4.848      0.000    7.71e+04    1.82e+05\n",
       "x1           117.2176      7.739     15.146      0.000     102.006     132.429\n",
       "x2         -2222.9820   4148.594     -0.536      0.592   -1.04e+04    5931.279\n",
       "x3          9246.5631   4285.513      2.158      0.032     823.180    1.77e+04\n",
       "x4          7423.7368   4914.563      1.511      0.132   -2236.074    1.71e+04\n",
       "x5         -1300.6190    199.782     -6.510      0.000   -1693.300    -907.938\n",
       "x6             1.3283      0.238      5.584      0.000       0.861       1.796\n",
       "x7         -1075.0761   7501.411     -0.143      0.886   -1.58e+04    1.37e+04\n",
       "x8          2.163e+04   1.06e+04      2.042      0.042     813.263    4.25e+04\n",
       "x9         -1.368e+05   1.45e+04     -9.433      0.000   -1.65e+05   -1.08e+05\n",
       "x10        -1.363e+05   1.08e+04    -12.640      0.000   -1.58e+05   -1.15e+05\n",
       "x11         -3.18e+04   1.69e+04     -1.884      0.060    -6.5e+04    1380.295\n",
       "x12        -2.006e+04   8638.441     -2.322      0.021    -3.7e+04   -3080.425\n",
       "x13        -1.151e+04   8251.632     -1.395      0.164   -2.77e+04    4707.107\n",
       "x14          2.31e+04   1.72e+04      1.346      0.179   -1.06e+04    5.68e+04\n",
       "x15        -7407.6304   1.55e+04     -0.479      0.632   -3.78e+04     2.3e+04\n",
       "x16         -3.06e+04   1.51e+04     -2.029      0.043   -6.02e+04    -951.905\n",
       "x17        -4.664e+04   8514.836     -5.477      0.000   -6.34e+04   -2.99e+04\n",
       "x18        -9.094e+04   5.26e+04     -1.728      0.085   -1.94e+05    1.25e+04\n",
       "x19                 0          0        nan        nan           0           0\n",
       "x20                 0          0        nan        nan           0           0\n",
       "==============================================================================\n",
       "Omnibus:                       58.445   Durbin-Watson:                   1.344\n",
       "Prob(Omnibus):                  0.000   Jarque-Bera (JB):              269.978\n",
       "Skew:                           0.449   Prob(JB):                     2.37e-59\n",
       "Kurtosis:                       6.709   Cond. No.                          inf\n",
       "==============================================================================\n",
       "\n",
       "Warnings:\n",
       "[1] Standard Errors assume that the covariance matrix of the errors is correctly specified.\n",
       "[2] The smallest eigenvalue is      0. This might indicate that there are\n",
       "strong multicollinearity problems or that the design matrix is singular.\n",
       "\"\"\""
      ]
     },
     "execution_count": 99,
     "metadata": {},
     "output_type": "execute_result"
    }
   ],
   "source": [
    "m5 = sm.OLS(R2,P4).fit()\n",
    "m5.summary()"
   ]
  },
  {
   "cell_type": "code",
   "execution_count": 91,
   "metadata": {},
   "outputs": [
    {
     "data": {
      "text/plain": [
       "const    129624.625814\n",
       "x1          117.217570\n",
       "x2        -2222.982001\n",
       "x3         9246.563083\n",
       "x4         7423.736755\n",
       "x5        -1300.618978\n",
       "x6            1.328298\n",
       "x7        -1075.076122\n",
       "x8        21631.695378\n",
       "x9      -136786.651074\n",
       "x10     -136349.569750\n",
       "x11      -31800.514325\n",
       "x12      -20059.697192\n",
       "x13      -11511.873749\n",
       "x14       23097.272898\n",
       "x15       -7407.630425\n",
       "x16      -30595.698404\n",
       "x17      -46636.802875\n",
       "x18      -90937.907311\n",
       "x19           0.000000\n",
       "x20           0.000000\n",
       "dtype: float64"
      ]
     },
     "execution_count": 91,
     "metadata": {},
     "output_type": "execute_result"
    }
   ],
   "source": [
    "m5.params"
   ]
  },
  {
   "cell_type": "code",
   "execution_count": 92,
   "metadata": {},
   "outputs": [
    {
     "data": {
      "text/plain": [
       "Index(['price', 'area', 'beds', 'baths', 'garage', 'age', 'lotsize', 'ac_YES',\n",
       "       'pool_YES', 'quality_LOW', 'quality_MEDIUM', 'highway_YES', 'style_2',\n",
       "       'style_3', 'style_4', 'style_5', 'style_6', 'style_7', 'style_9',\n",
       "       'style_10', 'style_11'],\n",
       "      dtype='object')"
      ]
     },
     "execution_count": 92,
     "metadata": {},
     "output_type": "execute_result"
    }
   ],
   "source": [
    "df4.columns"
   ]
  },
  {
   "cell_type": "code",
   "execution_count": 93,
   "metadata": {},
   "outputs": [],
   "source": [
    "list3 = ['price', 'area', 'beds', 'baths', 'garage', 'age', 'lotsize',\n",
    "       'ac_YES', 'pool_YES', 'quality_LOW', 'quality_MEDIUM', 'highway_YES', 'style_2',\n",
    "       'style_3', 'style_4', 'style_5', 'style_6', 'style_7', 'style_9',\n",
    "       'style_10', 'style_11']"
   ]
  },
  {
   "cell_type": "code",
   "execution_count": 94,
   "metadata": {},
   "outputs": [
    {
     "data": {
      "text/plain": [
       "['constant',\n",
       " 'area',\n",
       " 'beds',\n",
       " 'baths',\n",
       " 'garage',\n",
       " 'age',\n",
       " 'lotsize',\n",
       " 'ac_YES',\n",
       " 'pool_YES',\n",
       " 'quality_LOW',\n",
       " 'quality_MEDIUM',\n",
       " 'highway_YES',\n",
       " 'style_2',\n",
       " 'style_3',\n",
       " 'style_4',\n",
       " 'style_5',\n",
       " 'style_6',\n",
       " 'style_7',\n",
       " 'style_9',\n",
       " 'style_10',\n",
       " 'style_11']"
      ]
     },
     "execution_count": 94,
     "metadata": {},
     "output_type": "execute_result"
    }
   ],
   "source": [
    "list3.remove('price')\n",
    "list3.insert(0,'constant')\n",
    "list3"
   ]
  },
  {
   "cell_type": "code",
   "execution_count": 95,
   "metadata": {},
   "outputs": [],
   "source": [
    "list_values1 = [1, 3150, 2, 3, 2, 5, 26250, 1, 1, 0, 0, 0, 0, 0, 0, 0, 0, 0, 0, 0, 0]"
   ]
  },
  {
   "cell_type": "code",
   "execution_count": 96,
   "metadata": {},
   "outputs": [
    {
     "data": {
      "text/html": [
       "<div>\n",
       "<style scoped>\n",
       "    .dataframe tbody tr th:only-of-type {\n",
       "        vertical-align: middle;\n",
       "    }\n",
       "\n",
       "    .dataframe tbody tr th {\n",
       "        vertical-align: top;\n",
       "    }\n",
       "\n",
       "    .dataframe thead th {\n",
       "        text-align: right;\n",
       "    }\n",
       "</style>\n",
       "<table border=\"1\" class=\"dataframe\">\n",
       "  <thead>\n",
       "    <tr style=\"text-align: right;\">\n",
       "      <th></th>\n",
       "      <th>constant</th>\n",
       "      <th>area</th>\n",
       "      <th>beds</th>\n",
       "      <th>baths</th>\n",
       "      <th>garage</th>\n",
       "      <th>age</th>\n",
       "      <th>lotsize</th>\n",
       "      <th>ac_YES</th>\n",
       "      <th>pool_YES</th>\n",
       "      <th>quality_LOW</th>\n",
       "      <th>...</th>\n",
       "      <th>highway_YES</th>\n",
       "      <th>style_2</th>\n",
       "      <th>style_3</th>\n",
       "      <th>style_4</th>\n",
       "      <th>style_5</th>\n",
       "      <th>style_6</th>\n",
       "      <th>style_7</th>\n",
       "      <th>style_9</th>\n",
       "      <th>style_10</th>\n",
       "      <th>style_11</th>\n",
       "    </tr>\n",
       "  </thead>\n",
       "  <tbody>\n",
       "    <tr>\n",
       "      <th>0</th>\n",
       "      <td>1</td>\n",
       "      <td>3150</td>\n",
       "      <td>2</td>\n",
       "      <td>3</td>\n",
       "      <td>2</td>\n",
       "      <td>5</td>\n",
       "      <td>26250</td>\n",
       "      <td>1</td>\n",
       "      <td>1</td>\n",
       "      <td>0</td>\n",
       "      <td>...</td>\n",
       "      <td>0</td>\n",
       "      <td>0</td>\n",
       "      <td>0</td>\n",
       "      <td>0</td>\n",
       "      <td>0</td>\n",
       "      <td>0</td>\n",
       "      <td>0</td>\n",
       "      <td>0</td>\n",
       "      <td>0</td>\n",
       "      <td>0</td>\n",
       "    </tr>\n",
       "  </tbody>\n",
       "</table>\n",
       "<p>1 rows × 21 columns</p>\n",
       "</div>"
      ],
      "text/plain": [
       "   constant  area  beds  baths  garage  age  lotsize  ac_YES  pool_YES  \\\n",
       "0         1  3150     2      3       2    5    26250       1         1   \n",
       "\n",
       "   quality_LOW  ...  highway_YES  style_2  style_3  style_4  style_5  style_6  \\\n",
       "0            0  ...            0        0        0        0        0        0   \n",
       "\n",
       "   style_7  style_9  style_10  style_11  \n",
       "0        0        0         0         0  \n",
       "\n",
       "[1 rows x 21 columns]"
      ]
     },
     "execution_count": 96,
     "metadata": {},
     "output_type": "execute_result"
    }
   ],
   "source": [
    "z1 = pd.DataFrame([list_values1],columns = list3)\n",
    "z1"
   ]
  },
  {
   "cell_type": "code",
   "execution_count": 97,
   "metadata": {},
   "outputs": [],
   "source": [
    "c = m5.get_prediction(z1)"
   ]
  },
  {
   "cell_type": "code",
   "execution_count": 98,
   "metadata": {},
   "outputs": [
    {
     "data": {
      "text/html": [
       "<div>\n",
       "<style scoped>\n",
       "    .dataframe tbody tr th:only-of-type {\n",
       "        vertical-align: middle;\n",
       "    }\n",
       "\n",
       "    .dataframe tbody tr th {\n",
       "        vertical-align: top;\n",
       "    }\n",
       "\n",
       "    .dataframe thead th {\n",
       "        text-align: right;\n",
       "    }\n",
       "</style>\n",
       "<table border=\"1\" class=\"dataframe\">\n",
       "  <thead>\n",
       "    <tr style=\"text-align: right;\">\n",
       "      <th></th>\n",
       "      <th>mean</th>\n",
       "      <th>mean_se</th>\n",
       "      <th>mean_ci_lower</th>\n",
       "      <th>mean_ci_upper</th>\n",
       "      <th>obs_ci_lower</th>\n",
       "      <th>obs_ci_upper</th>\n",
       "    </tr>\n",
       "  </thead>\n",
       "  <tbody>\n",
       "    <tr>\n",
       "      <th>0</th>\n",
       "      <td>585922.526796</td>\n",
       "      <td>15323.494616</td>\n",
       "      <td>555803.458271</td>\n",
       "      <td>616041.595321</td>\n",
       "      <td>479849.693761</td>\n",
       "      <td>691995.359832</td>\n",
       "    </tr>\n",
       "  </tbody>\n",
       "</table>\n",
       "</div>"
      ],
      "text/plain": [
       "            mean       mean_se  mean_ci_lower  mean_ci_upper   obs_ci_lower  \\\n",
       "0  585922.526796  15323.494616  555803.458271  616041.595321  479849.693761   \n",
       "\n",
       "    obs_ci_upper  \n",
       "0  691995.359832  "
      ]
     },
     "execution_count": 98,
     "metadata": {},
     "output_type": "execute_result"
    }
   ],
   "source": [
    "c.summary_frame(alpha = 0.05)"
   ]
  },
  {
   "cell_type": "code",
   "execution_count": null,
   "metadata": {},
   "outputs": [],
   "source": []
  }
 ],
 "metadata": {
  "kernelspec": {
   "display_name": "Python 3",
   "language": "python",
   "name": "python3"
  },
  "language_info": {
   "codemirror_mode": {
    "name": "ipython",
    "version": 3
   },
   "file_extension": ".py",
   "mimetype": "text/x-python",
   "name": "python",
   "nbconvert_exporter": "python",
   "pygments_lexer": "ipython3",
   "version": "3.7.3"
  }
 },
 "nbformat": 4,
 "nbformat_minor": 2
}
