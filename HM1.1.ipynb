{
 "cells": [
  {
   "cell_type": "markdown",
   "metadata": {},
   "source": [
    "# ADA (XUAN) ZHONG - HM 1.1"
   ]
  },
  {
   "cell_type": "code",
   "execution_count": 81,
   "metadata": {},
   "outputs": [],
   "source": [
    "import numpy as np\n",
    "import pandas as pd\n",
    "import matplotlib.pyplot as plt"
   ]
  },
  {
   "cell_type": "code",
   "execution_count": 82,
   "metadata": {},
   "outputs": [],
   "source": [
    "df = pd.read_csv('vitoria2006.csv')"
   ]
  },
  {
   "cell_type": "code",
   "execution_count": 83,
   "metadata": {},
   "outputs": [],
   "source": [
    "# 1.a"
   ]
  },
  {
   "cell_type": "code",
   "execution_count": 84,
   "metadata": {},
   "outputs": [
    {
     "data": {
      "text/html": [
       "<div>\n",
       "<style scoped>\n",
       "    .dataframe tbody tr th:only-of-type {\n",
       "        vertical-align: middle;\n",
       "    }\n",
       "\n",
       "    .dataframe tbody tr th {\n",
       "        vertical-align: top;\n",
       "    }\n",
       "\n",
       "    .dataframe thead th {\n",
       "        text-align: right;\n",
       "    }\n",
       "</style>\n",
       "<table border=\"1\" class=\"dataframe\">\n",
       "  <thead>\n",
       "    <tr style=\"text-align: right;\">\n",
       "      <th></th>\n",
       "      <th>totalprice</th>\n",
       "      <th>garage</th>\n",
       "    </tr>\n",
       "  </thead>\n",
       "  <tbody>\n",
       "    <tr>\n",
       "      <th>1</th>\n",
       "      <td>409000.0</td>\n",
       "      <td>1</td>\n",
       "    </tr>\n",
       "    <tr>\n",
       "      <th>12</th>\n",
       "      <td>560000.0</td>\n",
       "      <td>1</td>\n",
       "    </tr>\n",
       "    <tr>\n",
       "      <th>33</th>\n",
       "      <td>403000.0</td>\n",
       "      <td>1</td>\n",
       "    </tr>\n",
       "    <tr>\n",
       "      <th>47</th>\n",
       "      <td>426200.0</td>\n",
       "      <td>1</td>\n",
       "    </tr>\n",
       "    <tr>\n",
       "      <th>132</th>\n",
       "      <td>457000.0</td>\n",
       "      <td>1</td>\n",
       "    </tr>\n",
       "    <tr>\n",
       "      <th>185</th>\n",
       "      <td>433500.0</td>\n",
       "      <td>1</td>\n",
       "    </tr>\n",
       "  </tbody>\n",
       "</table>\n",
       "</div>"
      ],
      "text/plain": [
       "     totalprice  garage\n",
       "1      409000.0       1\n",
       "12     560000.0       1\n",
       "33     403000.0       1\n",
       "47     426200.0       1\n",
       "132    457000.0       1\n",
       "185    433500.0       1"
      ]
     },
     "execution_count": 84,
     "metadata": {},
     "output_type": "execute_result"
    }
   ],
   "source": [
    "df[(df.totalprice > 400000) & (df.garage == 1)][['totalprice','garage']]"
   ]
  },
  {
   "cell_type": "code",
   "execution_count": 85,
   "metadata": {},
   "outputs": [
    {
     "data": {
      "text/plain": [
       "totalprice    6\n",
       "garage        6\n",
       "dtype: int64"
      ]
     },
     "execution_count": 85,
     "metadata": {},
     "output_type": "execute_result"
    }
   ],
   "source": [
    "df[(df.totalprice > 400000) & (df.garage == 1)][['totalprice','garage']].count()"
   ]
  },
  {
   "cell_type": "code",
   "execution_count": 86,
   "metadata": {},
   "outputs": [],
   "source": [
    "# 1.b"
   ]
  },
  {
   "cell_type": "code",
   "execution_count": 87,
   "metadata": {},
   "outputs": [],
   "source": [
    "from scipy.stats import norm"
   ]
  },
  {
   "cell_type": "code",
   "execution_count": 104,
   "metadata": {
    "scrolled": true
   },
   "outputs": [],
   "source": [
    "mu,sigma = norm.fit(df['totalprice'])"
   ]
  },
  {
   "cell_type": "code",
   "execution_count": 105,
   "metadata": {},
   "outputs": [],
   "source": [
    "rf = stats.relfreq(df['totalprice'], numbins = 30)"
   ]
  },
  {
   "cell_type": "code",
   "execution_count": 106,
   "metadata": {},
   "outputs": [],
   "source": [
    "x_wid = rf.binsize"
   ]
  },
  {
   "cell_type": "code",
   "execution_count": 107,
   "metadata": {},
   "outputs": [],
   "source": [
    "x = rf.lowerlimit + np.linspace(0, x_wid*30, 30)"
   ]
  },
  {
   "cell_type": "code",
   "execution_count": 108,
   "metadata": {},
   "outputs": [],
   "source": [
    "y = stats.norm.pdf(x, mu, sigma)"
   ]
  },
  {
   "cell_type": "code",
   "execution_count": 153,
   "metadata": {
    "scrolled": true
   },
   "outputs": [
    {
     "data": {
      "image/png": "[encoded data removed]",
      "text/plain": [
       "<Figure size 432x288 with 2 Axes>"
      ]
     },
     "metadata": {
      "needs_background": "light"
     },
     "output_type": "display_data"
    }
   ],
   "source": [
    "fig = plt.figure()\n",
    "ax = fig.add_subplot(1, 1, 1)\n",
    "ax.bar(x, rf.frequency, width = x_wid)\n",
    "ax.set_title('Relative Frequency')\n",
    "ax.set_xlim([x.min(), x.max()])\n",
    "ax2 = ax.twinx()\n",
    "ax2.plot(x, y)\n",
    "plt.show()"
   ]
  },
  {
   "cell_type": "code",
   "execution_count": 151,
   "metadata": {},
   "outputs": [
    {
     "name": "stdout",
     "output_type": "stream",
     "text": [
      "0.390296680500422\n"
     ]
    }
   ],
   "source": [
    "prob = 1 - norm.cdf((300000 - mu)/sigma)\n",
    "print(prob)"
   ]
  },
  {
   "cell_type": "code",
   "execution_count": 17,
   "metadata": {},
   "outputs": [],
   "source": [
    "# 1.c"
   ]
  },
  {
   "cell_type": "code",
   "execution_count": 18,
   "metadata": {},
   "outputs": [],
   "source": [
    "dfnum = df._get_numeric_data()"
   ]
  },
  {
   "cell_type": "code",
   "execution_count": 19,
   "metadata": {},
   "outputs": [
    {
     "data": {
      "text/html": [
       "<div>\n",
       "<style scoped>\n",
       "    .dataframe tbody tr th:only-of-type {\n",
       "        vertical-align: middle;\n",
       "    }\n",
       "\n",
       "    .dataframe tbody tr th {\n",
       "        vertical-align: top;\n",
       "    }\n",
       "\n",
       "    .dataframe thead th {\n",
       "        text-align: right;\n",
       "    }\n",
       "</style>\n",
       "<table border=\"1\" class=\"dataframe\">\n",
       "  <thead>\n",
       "    <tr style=\"text-align: right;\">\n",
       "      <th></th>\n",
       "      <th>totalprice</th>\n",
       "      <th>area</th>\n",
       "      <th>age</th>\n",
       "      <th>floor</th>\n",
       "      <th>rooms</th>\n",
       "      <th>toilets</th>\n",
       "      <th>garage</th>\n",
       "      <th>elevator</th>\n",
       "      <th>storage</th>\n",
       "    </tr>\n",
       "  </thead>\n",
       "  <tbody>\n",
       "    <tr>\n",
       "      <th>totalprice</th>\n",
       "      <td>4.802276e+09</td>\n",
       "      <td>1.162639e+06</td>\n",
       "      <td>-275569.809042</td>\n",
       "      <td>4306.929479</td>\n",
       "      <td>23103.901095</td>\n",
       "      <td>23829.329737</td>\n",
       "      <td>16364.512574</td>\n",
       "      <td>14244.123620</td>\n",
       "      <td>7536.746579</td>\n",
       "    </tr>\n",
       "    <tr>\n",
       "      <th>area</th>\n",
       "      <td>1.162639e+06</td>\n",
       "      <td>4.298508e+02</td>\n",
       "      <td>-15.815009</td>\n",
       "      <td>3.600908</td>\n",
       "      <td>8.392216</td>\n",
       "      <td>6.484930</td>\n",
       "      <td>3.286218</td>\n",
       "      <td>3.291590</td>\n",
       "      <td>1.274237</td>\n",
       "    </tr>\n",
       "    <tr>\n",
       "      <th>age</th>\n",
       "      <td>-2.755698e+05</td>\n",
       "      <td>-1.581501e+01</td>\n",
       "      <td>213.031243</td>\n",
       "      <td>-2.522175</td>\n",
       "      <td>-0.766034</td>\n",
       "      <td>-2.049338</td>\n",
       "      <td>-1.408532</td>\n",
       "      <td>-2.402951</td>\n",
       "      <td>-1.581744</td>\n",
       "    </tr>\n",
       "    <tr>\n",
       "      <th>floor</th>\n",
       "      <td>4.306929e+03</td>\n",
       "      <td>3.600908e+00</td>\n",
       "      <td>-2.522175</td>\n",
       "      <td>4.524077</td>\n",
       "      <td>0.175538</td>\n",
       "      <td>0.110980</td>\n",
       "      <td>-0.029214</td>\n",
       "      <td>0.172240</td>\n",
       "      <td>-0.103708</td>\n",
       "    </tr>\n",
       "    <tr>\n",
       "      <th>rooms</th>\n",
       "      <td>2.310390e+04</td>\n",
       "      <td>8.392216e+00</td>\n",
       "      <td>-0.766034</td>\n",
       "      <td>0.175538</td>\n",
       "      <td>0.402317</td>\n",
       "      <td>0.133514</td>\n",
       "      <td>0.058893</td>\n",
       "      <td>0.090052</td>\n",
       "      <td>0.008456</td>\n",
       "    </tr>\n",
       "    <tr>\n",
       "      <th>toilets</th>\n",
       "      <td>2.382933e+04</td>\n",
       "      <td>6.484930e+00</td>\n",
       "      <td>-2.049338</td>\n",
       "      <td>0.110980</td>\n",
       "      <td>0.133514</td>\n",
       "      <td>0.250116</td>\n",
       "      <td>0.102313</td>\n",
       "      <td>0.090263</td>\n",
       "      <td>0.044476</td>\n",
       "    </tr>\n",
       "    <tr>\n",
       "      <th>garage</th>\n",
       "      <td>1.636451e+04</td>\n",
       "      <td>3.286218e+00</td>\n",
       "      <td>-1.408532</td>\n",
       "      <td>-0.029214</td>\n",
       "      <td>0.058893</td>\n",
       "      <td>0.102313</td>\n",
       "      <td>0.203293</td>\n",
       "      <td>0.049296</td>\n",
       "      <td>0.028622</td>\n",
       "    </tr>\n",
       "    <tr>\n",
       "      <th>elevator</th>\n",
       "      <td>1.424412e+04</td>\n",
       "      <td>3.291590e+00</td>\n",
       "      <td>-2.402951</td>\n",
       "      <td>0.172240</td>\n",
       "      <td>0.090052</td>\n",
       "      <td>0.090263</td>\n",
       "      <td>0.049296</td>\n",
       "      <td>0.161840</td>\n",
       "      <td>0.034668</td>\n",
       "    </tr>\n",
       "    <tr>\n",
       "      <th>storage</th>\n",
       "      <td>7.536747e+03</td>\n",
       "      <td>1.274237e+00</td>\n",
       "      <td>-1.581744</td>\n",
       "      <td>-0.103708</td>\n",
       "      <td>0.008456</td>\n",
       "      <td>0.044476</td>\n",
       "      <td>0.028622</td>\n",
       "      <td>0.034668</td>\n",
       "      <td>0.165476</td>\n",
       "    </tr>\n",
       "  </tbody>\n",
       "</table>\n",
       "</div>"
      ],
      "text/plain": [
       "              totalprice          area            age        floor  \\\n",
       "totalprice  4.802276e+09  1.162639e+06 -275569.809042  4306.929479   \n",
       "area        1.162639e+06  4.298508e+02     -15.815009     3.600908   \n",
       "age        -2.755698e+05 -1.581501e+01     213.031243    -2.522175   \n",
       "floor       4.306929e+03  3.600908e+00      -2.522175     4.524077   \n",
       "rooms       2.310390e+04  8.392216e+00      -0.766034     0.175538   \n",
       "toilets     2.382933e+04  6.484930e+00      -2.049338     0.110980   \n",
       "garage      1.636451e+04  3.286218e+00      -1.408532    -0.029214   \n",
       "elevator    1.424412e+04  3.291590e+00      -2.402951     0.172240   \n",
       "storage     7.536747e+03  1.274237e+00      -1.581744    -0.103708   \n",
       "\n",
       "                   rooms       toilets        garage      elevator  \\\n",
       "totalprice  23103.901095  23829.329737  16364.512574  14244.123620   \n",
       "area            8.392216      6.484930      3.286218      3.291590   \n",
       "age            -0.766034     -2.049338     -1.408532     -2.402951   \n",
       "floor           0.175538      0.110980     -0.029214      0.172240   \n",
       "rooms           0.402317      0.133514      0.058893      0.090052   \n",
       "toilets         0.133514      0.250116      0.102313      0.090263   \n",
       "garage          0.058893      0.102313      0.203293      0.049296   \n",
       "elevator        0.090052      0.090263      0.049296      0.161840   \n",
       "storage         0.008456      0.044476      0.028622      0.034668   \n",
       "\n",
       "                storage  \n",
       "totalprice  7536.746579  \n",
       "area           1.274237  \n",
       "age           -1.581744  \n",
       "floor         -0.103708  \n",
       "rooms          0.008456  \n",
       "toilets        0.044476  \n",
       "garage         0.028622  \n",
       "elevator       0.034668  \n",
       "storage        0.165476  "
      ]
     },
     "execution_count": 19,
     "metadata": {},
     "output_type": "execute_result"
    }
   ],
   "source": [
    "covs = dfnum.cov()\n",
    "covs"
   ]
  },
  {
   "cell_type": "code",
   "execution_count": 20,
   "metadata": {},
   "outputs": [
    {
     "data": {
      "text/html": [
       "<div>\n",
       "<style scoped>\n",
       "    .dataframe tbody tr th:only-of-type {\n",
       "        vertical-align: middle;\n",
       "    }\n",
       "\n",
       "    .dataframe tbody tr th {\n",
       "        vertical-align: top;\n",
       "    }\n",
       "\n",
       "    .dataframe thead th {\n",
       "        text-align: right;\n",
       "    }\n",
       "</style>\n",
       "<table border=\"1\" class=\"dataframe\">\n",
       "  <thead>\n",
       "    <tr style=\"text-align: right;\">\n",
       "      <th></th>\n",
       "      <th>totalprice</th>\n",
       "      <th>area</th>\n",
       "      <th>age</th>\n",
       "      <th>floor</th>\n",
       "      <th>rooms</th>\n",
       "      <th>toilets</th>\n",
       "      <th>garage</th>\n",
       "      <th>elevator</th>\n",
       "      <th>storage</th>\n",
       "    </tr>\n",
       "  </thead>\n",
       "  <tbody>\n",
       "    <tr>\n",
       "      <th>totalprice</th>\n",
       "      <td>1.000000</td>\n",
       "      <td>0.809213</td>\n",
       "      <td>-0.272450</td>\n",
       "      <td>0.029220</td>\n",
       "      <td>0.525627</td>\n",
       "      <td>0.687571</td>\n",
       "      <td>0.523742</td>\n",
       "      <td>0.510939</td>\n",
       "      <td>0.267358</td>\n",
       "    </tr>\n",
       "    <tr>\n",
       "      <th>area</th>\n",
       "      <td>0.809213</td>\n",
       "      <td>1.000000</td>\n",
       "      <td>-0.052262</td>\n",
       "      <td>0.081656</td>\n",
       "      <td>0.638166</td>\n",
       "      <td>0.625425</td>\n",
       "      <td>0.351541</td>\n",
       "      <td>0.394643</td>\n",
       "      <td>0.151086</td>\n",
       "    </tr>\n",
       "    <tr>\n",
       "      <th>age</th>\n",
       "      <td>-0.272450</td>\n",
       "      <td>-0.052262</td>\n",
       "      <td>1.000000</td>\n",
       "      <td>-0.081243</td>\n",
       "      <td>-0.082745</td>\n",
       "      <td>-0.280751</td>\n",
       "      <td>-0.214034</td>\n",
       "      <td>-0.409242</td>\n",
       "      <td>-0.266408</td>\n",
       "    </tr>\n",
       "    <tr>\n",
       "      <th>floor</th>\n",
       "      <td>0.029220</td>\n",
       "      <td>0.081656</td>\n",
       "      <td>-0.081243</td>\n",
       "      <td>1.000000</td>\n",
       "      <td>0.130113</td>\n",
       "      <td>0.104329</td>\n",
       "      <td>-0.030462</td>\n",
       "      <td>0.201292</td>\n",
       "      <td>-0.119861</td>\n",
       "    </tr>\n",
       "    <tr>\n",
       "      <th>rooms</th>\n",
       "      <td>0.525627</td>\n",
       "      <td>0.638166</td>\n",
       "      <td>-0.082745</td>\n",
       "      <td>0.130113</td>\n",
       "      <td>1.000000</td>\n",
       "      <td>0.420892</td>\n",
       "      <td>0.205930</td>\n",
       "      <td>0.352912</td>\n",
       "      <td>0.032771</td>\n",
       "    </tr>\n",
       "    <tr>\n",
       "      <th>toilets</th>\n",
       "      <td>0.687571</td>\n",
       "      <td>0.625425</td>\n",
       "      <td>-0.280751</td>\n",
       "      <td>0.104329</td>\n",
       "      <td>0.420892</td>\n",
       "      <td>1.000000</td>\n",
       "      <td>0.453729</td>\n",
       "      <td>0.448640</td>\n",
       "      <td>0.218621</td>\n",
       "    </tr>\n",
       "    <tr>\n",
       "      <th>garage</th>\n",
       "      <td>0.523742</td>\n",
       "      <td>0.351541</td>\n",
       "      <td>-0.214034</td>\n",
       "      <td>-0.030462</td>\n",
       "      <td>0.205930</td>\n",
       "      <td>0.453729</td>\n",
       "      <td>1.000000</td>\n",
       "      <td>0.271774</td>\n",
       "      <td>0.156053</td>\n",
       "    </tr>\n",
       "    <tr>\n",
       "      <th>elevator</th>\n",
       "      <td>0.510939</td>\n",
       "      <td>0.394643</td>\n",
       "      <td>-0.409242</td>\n",
       "      <td>0.201292</td>\n",
       "      <td>0.352912</td>\n",
       "      <td>0.448640</td>\n",
       "      <td>0.271774</td>\n",
       "      <td>1.000000</td>\n",
       "      <td>0.211845</td>\n",
       "    </tr>\n",
       "    <tr>\n",
       "      <th>storage</th>\n",
       "      <td>0.267358</td>\n",
       "      <td>0.151086</td>\n",
       "      <td>-0.266408</td>\n",
       "      <td>-0.119861</td>\n",
       "      <td>0.032771</td>\n",
       "      <td>0.218621</td>\n",
       "      <td>0.156053</td>\n",
       "      <td>0.211845</td>\n",
       "      <td>1.000000</td>\n",
       "    </tr>\n",
       "  </tbody>\n",
       "</table>\n",
       "</div>"
      ],
      "text/plain": [
       "            totalprice      area       age     floor     rooms   toilets  \\\n",
       "totalprice    1.000000  0.809213 -0.272450  0.029220  0.525627  0.687571   \n",
       "area          0.809213  1.000000 -0.052262  0.081656  0.638166  0.625425   \n",
       "age          -0.272450 -0.052262  1.000000 -0.081243 -0.082745 -0.280751   \n",
       "floor         0.029220  0.081656 -0.081243  1.000000  0.130113  0.104329   \n",
       "rooms         0.525627  0.638166 -0.082745  0.130113  1.000000  0.420892   \n",
       "toilets       0.687571  0.625425 -0.280751  0.104329  0.420892  1.000000   \n",
       "garage        0.523742  0.351541 -0.214034 -0.030462  0.205930  0.453729   \n",
       "elevator      0.510939  0.394643 -0.409242  0.201292  0.352912  0.448640   \n",
       "storage       0.267358  0.151086 -0.266408 -0.119861  0.032771  0.218621   \n",
       "\n",
       "              garage  elevator   storage  \n",
       "totalprice  0.523742  0.510939  0.267358  \n",
       "area        0.351541  0.394643  0.151086  \n",
       "age        -0.214034 -0.409242 -0.266408  \n",
       "floor      -0.030462  0.201292 -0.119861  \n",
       "rooms       0.205930  0.352912  0.032771  \n",
       "toilets     0.453729  0.448640  0.218621  \n",
       "garage      1.000000  0.271774  0.156053  \n",
       "elevator    0.271774  1.000000  0.211845  \n",
       "storage     0.156053  0.211845  1.000000  "
      ]
     },
     "execution_count": 20,
     "metadata": {},
     "output_type": "execute_result"
    }
   ],
   "source": [
    "corrs = dfnum.corr()\n",
    "corrs"
   ]
  },
  {
   "cell_type": "code",
   "execution_count": 154,
   "metadata": {},
   "outputs": [],
   "source": [
    "# 1.d"
   ]
  },
  {
   "cell_type": "code",
   "execution_count": 155,
   "metadata": {},
   "outputs": [
    {
     "data": {
      "text/plain": [
       "Text(0, 0.5, 'Area')"
      ]
     },
     "execution_count": 155,
     "metadata": {},
     "output_type": "execute_result"
    },
    {
     "data": {
      "image/png": "[encoded data removed]",
      "text/plain": [
       "<Figure size 432x288 with 1 Axes>"
      ]
     },
     "metadata": {
      "needs_background": "light"
     },
     "output_type": "display_data"
    }
   ],
   "source": [
    "plt.scatter(df['totalprice'],df['area'])\n",
    "plt.grid()\n",
    "plt.xlabel('Total Price')\n",
    "plt.ylabel('Area')"
   ]
  },
  {
   "cell_type": "code",
   "execution_count": 158,
   "metadata": {},
   "outputs": [
    {
     "data": {
      "image/png": "[encoded data removed]",
      "text/plain": [
       "<Figure size 432x288 with 1 Axes>"
      ]
     },
     "metadata": {
      "needs_background": "light"
     },
     "output_type": "display_data"
    }
   ],
   "source": [
    "sns.regplot('totalprice','area',df)\n",
    "plt.grid()"
   ]
  },
  {
   "cell_type": "code",
   "execution_count": 163,
   "metadata": {},
   "outputs": [
    {
     "data": {
      "text/html": [
       "<div>\n",
       "<style scoped>\n",
       "    .dataframe tbody tr th:only-of-type {\n",
       "        vertical-align: middle;\n",
       "    }\n",
       "\n",
       "    .dataframe tbody tr th {\n",
       "        vertical-align: top;\n",
       "    }\n",
       "\n",
       "    .dataframe thead th {\n",
       "        text-align: right;\n",
       "    }\n",
       "</style>\n",
       "<table border=\"1\" class=\"dataframe\">\n",
       "  <thead>\n",
       "    <tr style=\"text-align: right;\">\n",
       "      <th></th>\n",
       "      <th>totalprice</th>\n",
       "      <th>area</th>\n",
       "      <th>zone</th>\n",
       "      <th>category</th>\n",
       "      <th>age</th>\n",
       "      <th>floor</th>\n",
       "      <th>rooms</th>\n",
       "      <th>out</th>\n",
       "      <th>conservation</th>\n",
       "      <th>toilets</th>\n",
       "      <th>garage</th>\n",
       "      <th>elevator</th>\n",
       "      <th>streetcategory</th>\n",
       "      <th>heating</th>\n",
       "      <th>storage</th>\n",
       "    </tr>\n",
       "  </thead>\n",
       "  <tbody>\n",
       "    <tr>\n",
       "      <th>30</th>\n",
       "      <td>407000.0</td>\n",
       "      <td>187.910004</td>\n",
       "      <td>Z31</td>\n",
       "      <td>4A</td>\n",
       "      <td>38</td>\n",
       "      <td>3</td>\n",
       "      <td>6</td>\n",
       "      <td>E50</td>\n",
       "      <td>2B</td>\n",
       "      <td>1</td>\n",
       "      <td>0</td>\n",
       "      <td>1</td>\n",
       "      <td>S5</td>\n",
       "      <td>4A</td>\n",
       "      <td>1</td>\n",
       "    </tr>\n",
       "  </tbody>\n",
       "</table>\n",
       "</div>"
      ],
      "text/plain": [
       "    totalprice        area zone category  age  floor  rooms  out conservation  \\\n",
       "30    407000.0  187.910004  Z31       4A   38      3      6  E50           2B   \n",
       "\n",
       "    toilets  garage  elevator streetcategory heating  storage  \n",
       "30        1       0         1             S5      4A        1  "
      ]
     },
     "execution_count": 163,
     "metadata": {},
     "output_type": "execute_result"
    }
   ],
   "source": [
    "df[(df['area'] > 180)]"
   ]
  },
  {
   "cell_type": "code",
   "execution_count": 164,
   "metadata": {},
   "outputs": [],
   "source": [
    "# 1.e"
   ]
  },
  {
   "cell_type": "code",
   "execution_count": 185,
   "metadata": {},
   "outputs": [],
   "source": [
    "df2 = df['category'].str.replace('A','').str.replace('B','')"
   ]
  },
  {
   "cell_type": "code",
   "execution_count": 186,
   "metadata": {},
   "outputs": [
    {
     "data": {
      "text/plain": [
       "category\n",
       "2    345500.0\n",
       "3    279000.0\n",
       "4    224000.0\n",
       "5    183000.0\n",
       "Name: totalprice, dtype: float64"
      ]
     },
     "execution_count": 186,
     "metadata": {},
     "output_type": "execute_result"
    }
   ],
   "source": [
    "df.groupby(df2)['totalprice'].agg('median')"
   ]
  },
  {
   "cell_type": "code",
   "execution_count": null,
   "metadata": {},
   "outputs": [],
   "source": []
  }
 ],
 "metadata": {
  "kernelspec": {
   "display_name": "Python 3",
   "language": "python",
   "name": "python3"
  },
  "language_info": {
   "codemirror_mode": {
    "name": "ipython",
    "version": 3
   },
   "file_extension": ".py",
   "mimetype": "text/x-python",
   "name": "python",
   "nbconvert_exporter": "python",
   "pygments_lexer": "ipython3",
   "version": "3.7.3"
  }
 },
 "nbformat": 4,
 "nbformat_minor": 2
}
