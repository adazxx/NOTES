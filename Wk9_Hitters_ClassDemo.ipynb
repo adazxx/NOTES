{
 "cells": [
  {
   "cell_type": "code",
   "execution_count": 1,
   "metadata": {},
   "outputs": [],
   "source": [
    "import pandas as pd\n",
    "import numpy as np\n",
    "import matplotlib.pyplot as plt"
   ]
  },
  {
   "cell_type": "code",
   "execution_count": 5,
   "metadata": {},
   "outputs": [],
   "source": [
    "from sklearn.model_selection import train_test_split\n",
    "from sklearn.linear_model import Ridge, RidgeCV, Lasso, LassoCV\n",
    "from sklearn.metrics import mean_squared_error"
   ]
  },
  {
   "cell_type": "code",
   "execution_count": 6,
   "metadata": {},
   "outputs": [
    {
     "data": {
      "text/plain": [
       "(322, 20)"
      ]
     },
     "execution_count": 6,
     "metadata": {},
     "output_type": "execute_result"
    }
   ],
   "source": [
    "df = pd.read_csv('Hitters.csv')\n",
    "df.shape"
   ]
  },
  {
   "cell_type": "code",
   "execution_count": 8,
   "metadata": {},
   "outputs": [
    {
     "data": {
      "text/plain": [
       "(263, 20)"
      ]
     },
     "execution_count": 8,
     "metadata": {},
     "output_type": "execute_result"
    }
   ],
   "source": [
    "# drop NAs\n",
    "d0 = df.dropna()\n",
    "d0.shape"
   ]
  },
  {
   "cell_type": "code",
   "execution_count": 10,
   "metadata": {},
   "outputs": [],
   "source": [
    "# response\n",
    "y = d0.Salary\n",
    "\n",
    "# predictors\n",
    "x = d0.drop(['Salary'], axis = 1)\n",
    "\n",
    "## axis = 1: column; axis = 0: row"
   ]
  },
  {
   "cell_type": "code",
   "execution_count": 11,
   "metadata": {},
   "outputs": [
    {
     "data": {
      "text/html": [
       "<div>\n",
       "<style scoped>\n",
       "    .dataframe tbody tr th:only-of-type {\n",
       "        vertical-align: middle;\n",
       "    }\n",
       "\n",
       "    .dataframe tbody tr th {\n",
       "        vertical-align: top;\n",
       "    }\n",
       "\n",
       "    .dataframe thead th {\n",
       "        text-align: right;\n",
       "    }\n",
       "</style>\n",
       "<table border=\"1\" class=\"dataframe\">\n",
       "  <thead>\n",
       "    <tr style=\"text-align: right;\">\n",
       "      <th></th>\n",
       "      <th>League</th>\n",
       "      <th>Division</th>\n",
       "      <th>NewLeague</th>\n",
       "    </tr>\n",
       "  </thead>\n",
       "  <tbody>\n",
       "    <tr>\n",
       "      <th>1</th>\n",
       "      <td>N</td>\n",
       "      <td>W</td>\n",
       "      <td>N</td>\n",
       "    </tr>\n",
       "    <tr>\n",
       "      <th>2</th>\n",
       "      <td>A</td>\n",
       "      <td>W</td>\n",
       "      <td>A</td>\n",
       "    </tr>\n",
       "    <tr>\n",
       "      <th>3</th>\n",
       "      <td>N</td>\n",
       "      <td>E</td>\n",
       "      <td>N</td>\n",
       "    </tr>\n",
       "    <tr>\n",
       "      <th>4</th>\n",
       "      <td>N</td>\n",
       "      <td>E</td>\n",
       "      <td>N</td>\n",
       "    </tr>\n",
       "    <tr>\n",
       "      <th>5</th>\n",
       "      <td>A</td>\n",
       "      <td>W</td>\n",
       "      <td>A</td>\n",
       "    </tr>\n",
       "  </tbody>\n",
       "</table>\n",
       "</div>"
      ],
      "text/plain": [
       "  League Division NewLeague\n",
       "1      N        W         N\n",
       "2      A        W         A\n",
       "3      N        E         N\n",
       "4      N        E         N\n",
       "5      A        W         A"
      ]
     },
     "execution_count": 11,
     "metadata": {},
     "output_type": "execute_result"
    }
   ],
   "source": [
    "# substitute categorical columns 'League','Division','NewLeague' with dummy variables\n",
    "x[['League','Division','NewLeague']][:5]"
   ]
  },
  {
   "cell_type": "code",
   "execution_count": 15,
   "metadata": {},
   "outputs": [
    {
     "data": {
      "text/html": [
       "<div>\n",
       "<style scoped>\n",
       "    .dataframe tbody tr th:only-of-type {\n",
       "        vertical-align: middle;\n",
       "    }\n",
       "\n",
       "    .dataframe tbody tr th {\n",
       "        vertical-align: top;\n",
       "    }\n",
       "\n",
       "    .dataframe thead th {\n",
       "        text-align: right;\n",
       "    }\n",
       "</style>\n",
       "<table border=\"1\" class=\"dataframe\">\n",
       "  <thead>\n",
       "    <tr style=\"text-align: right;\">\n",
       "      <th></th>\n",
       "      <th>League</th>\n",
       "      <th>Division</th>\n",
       "      <th>NewLeague</th>\n",
       "    </tr>\n",
       "  </thead>\n",
       "  <tbody>\n",
       "    <tr>\n",
       "      <th>1</th>\n",
       "      <td>1</td>\n",
       "      <td>1</td>\n",
       "      <td>1</td>\n",
       "    </tr>\n",
       "    <tr>\n",
       "      <th>2</th>\n",
       "      <td>0</td>\n",
       "      <td>1</td>\n",
       "      <td>0</td>\n",
       "    </tr>\n",
       "    <tr>\n",
       "      <th>3</th>\n",
       "      <td>1</td>\n",
       "      <td>0</td>\n",
       "      <td>1</td>\n",
       "    </tr>\n",
       "    <tr>\n",
       "      <th>4</th>\n",
       "      <td>1</td>\n",
       "      <td>0</td>\n",
       "      <td>1</td>\n",
       "    </tr>\n",
       "    <tr>\n",
       "      <th>5</th>\n",
       "      <td>0</td>\n",
       "      <td>1</td>\n",
       "      <td>0</td>\n",
       "    </tr>\n",
       "  </tbody>\n",
       "</table>\n",
       "</div>"
      ],
      "text/plain": [
       "   League  Division  NewLeague\n",
       "1       1         1          1\n",
       "2       0         1          0\n",
       "3       1         0          1\n",
       "4       1         0          1\n",
       "5       0         1          0"
      ]
     },
     "execution_count": 15,
     "metadata": {},
     "output_type": "execute_result"
    }
   ],
   "source": [
    "x[['League','Division','NewLeague']] = pd.get_dummies(x[['League','Division','NewLeague']], drop_first = True)\n",
    "x[['League','Division','NewLeague']][:5]"
   ]
  },
  {
   "cell_type": "code",
   "execution_count": 19,
   "metadata": {},
   "outputs": [
    {
     "data": {
      "text/plain": [
       "AtBat        int64\n",
       "Hits         int64\n",
       "HmRun        int64\n",
       "Runs         int64\n",
       "RBI          int64\n",
       "Walks        int64\n",
       "Years        int64\n",
       "CAtBat       int64\n",
       "CHits        int64\n",
       "CHmRun       int64\n",
       "CRuns        int64\n",
       "CRBI         int64\n",
       "CWalks       int64\n",
       "League       uint8\n",
       "Division     uint8\n",
       "PutOuts      int64\n",
       "Assists      int64\n",
       "Errors       int64\n",
       "NewLeague    uint8\n",
       "dtype: object"
      ]
     },
     "execution_count": 19,
     "metadata": {},
     "output_type": "execute_result"
    }
   ],
   "source": [
    "x.dtypes"
   ]
  },
  {
   "cell_type": "code",
   "execution_count": 21,
   "metadata": {},
   "outputs": [
    {
     "data": {
      "text/plain": [
       "AtBat        float64\n",
       "Hits         float64\n",
       "HmRun        float64\n",
       "Runs         float64\n",
       "RBI          float64\n",
       "Walks        float64\n",
       "Years        float64\n",
       "CAtBat       float64\n",
       "CHits        float64\n",
       "CHmRun       float64\n",
       "CRuns        float64\n",
       "CRBI         float64\n",
       "CWalks       float64\n",
       "League       float64\n",
       "Division     float64\n",
       "PutOuts      float64\n",
       "Assists      float64\n",
       "Errors       float64\n",
       "NewLeague    float64\n",
       "dtype: object"
      ]
     },
     "execution_count": 21,
     "metadata": {},
     "output_type": "execute_result"
    }
   ],
   "source": [
    "x = x.astype('float64')\n",
    "x.dtypes"
   ]
  },
  {
   "cell_type": "markdown",
   "metadata": {},
   "source": [
    "# Ridge Regression"
   ]
  },
  {
   "cell_type": "code",
   "execution_count": 22,
   "metadata": {},
   "outputs": [],
   "source": [
    "# create an array of 100 alpha values from very small to very large\n",
    "aux = np.linspace(10,-2,100)\n",
    "alphas = 10**aux"
   ]
  },
  {
   "cell_type": "code",
   "execution_count": 24,
   "metadata": {},
   "outputs": [
    {
     "data": {
      "text/plain": [
       "0.01"
      ]
     },
     "execution_count": 24,
     "metadata": {},
     "output_type": "execute_result"
    }
   ],
   "source": [
    "alphas.min()"
   ]
  },
  {
   "cell_type": "code",
   "execution_count": 25,
   "metadata": {},
   "outputs": [
    {
     "data": {
      "text/plain": [
       "10000000000.0"
      ]
     },
     "execution_count": 25,
     "metadata": {},
     "output_type": "execute_result"
    }
   ],
   "source": [
    "alphas.max()"
   ]
  },
  {
   "cell_type": "code",
   "execution_count": 26,
   "metadata": {},
   "outputs": [],
   "source": [
    "# alpha contains 100 values from 10^-2 to 10^10"
   ]
  },
  {
   "cell_type": "code",
   "execution_count": 27,
   "metadata": {},
   "outputs": [],
   "source": [
    "# fit 100 Ridge regression models, one for each alpha"
   ]
  },
  {
   "cell_type": "code",
   "execution_count": 28,
   "metadata": {},
   "outputs": [],
   "source": [
    "model = Ridge(normalize = True)"
   ]
  },
  {
   "cell_type": "code",
   "execution_count": 31,
   "metadata": {},
   "outputs": [],
   "source": [
    "coefs = []\n",
    "for a in alphas:\n",
    "    model.set_params(alpha = a)\n",
    "    model.fit(x, y)\n",
    "    coefs.append(model.coef_)"
   ]
  },
  {
   "cell_type": "code",
   "execution_count": 32,
   "metadata": {},
   "outputs": [
    {
     "data": {
      "text/html": [
       "<div>\n",
       "<style scoped>\n",
       "    .dataframe tbody tr th:only-of-type {\n",
       "        vertical-align: middle;\n",
       "    }\n",
       "\n",
       "    .dataframe tbody tr th {\n",
       "        vertical-align: top;\n",
       "    }\n",
       "\n",
       "    .dataframe thead th {\n",
       "        text-align: right;\n",
       "    }\n",
       "</style>\n",
       "<table border=\"1\" class=\"dataframe\">\n",
       "  <thead>\n",
       "    <tr style=\"text-align: right;\">\n",
       "      <th></th>\n",
       "      <th>0</th>\n",
       "      <th>1</th>\n",
       "      <th>2</th>\n",
       "      <th>3</th>\n",
       "      <th>4</th>\n",
       "      <th>5</th>\n",
       "      <th>6</th>\n",
       "      <th>7</th>\n",
       "      <th>8</th>\n",
       "      <th>9</th>\n",
       "      <th>10</th>\n",
       "      <th>11</th>\n",
       "      <th>12</th>\n",
       "      <th>13</th>\n",
       "      <th>14</th>\n",
       "      <th>15</th>\n",
       "      <th>16</th>\n",
       "      <th>17</th>\n",
       "      <th>18</th>\n",
       "    </tr>\n",
       "  </thead>\n",
       "  <tbody>\n",
       "    <tr>\n",
       "      <th>0</th>\n",
       "      <td>1.208960e-10</td>\n",
       "      <td>4.385439e-10</td>\n",
       "      <td>1.767095e-09</td>\n",
       "      <td>7.416108e-10</td>\n",
       "      <td>7.833741e-10</td>\n",
       "      <td>9.219831e-10</td>\n",
       "      <td>3.770512e-09</td>\n",
       "      <td>1.038009e-11</td>\n",
       "      <td>3.820171e-11</td>\n",
       "      <td>2.880936e-10</td>\n",
       "      <td>7.664116e-11</td>\n",
       "      <td>7.909536e-11</td>\n",
       "      <td>8.368224e-11</td>\n",
       "      <td>-1.288205e-09</td>\n",
       "      <td>-1.733945e-08</td>\n",
       "      <td>4.842285e-11</td>\n",
       "      <td>7.909202e-12</td>\n",
       "      <td>-3.687777e-11</td>\n",
       "      <td>-2.559176e-10</td>\n",
       "    </tr>\n",
       "    <tr>\n",
       "      <th>1</th>\n",
       "      <td>1.598174e-10</td>\n",
       "      <td>5.797292e-10</td>\n",
       "      <td>2.335995e-09</td>\n",
       "      <td>9.803659e-10</td>\n",
       "      <td>1.035574e-09</td>\n",
       "      <td>1.218807e-09</td>\n",
       "      <td>4.984395e-09</td>\n",
       "      <td>1.372187e-11</td>\n",
       "      <td>5.050041e-11</td>\n",
       "      <td>3.808428e-10</td>\n",
       "      <td>1.013151e-10</td>\n",
       "      <td>1.045594e-10</td>\n",
       "      <td>1.106230e-10</td>\n",
       "      <td>-1.702931e-09</td>\n",
       "      <td>-2.292173e-08</td>\n",
       "      <td>6.401216e-11</td>\n",
       "      <td>1.045550e-11</td>\n",
       "      <td>-4.875024e-11</td>\n",
       "      <td>-3.383080e-10</td>\n",
       "    </tr>\n",
       "    <tr>\n",
       "      <th>2</th>\n",
       "      <td>2.112692e-10</td>\n",
       "      <td>7.663679e-10</td>\n",
       "      <td>3.088048e-09</td>\n",
       "      <td>1.295986e-09</td>\n",
       "      <td>1.368969e-09</td>\n",
       "      <td>1.611192e-09</td>\n",
       "      <td>6.589076e-09</td>\n",
       "      <td>1.813951e-11</td>\n",
       "      <td>6.675858e-11</td>\n",
       "      <td>5.034518e-10</td>\n",
       "      <td>1.339326e-10</td>\n",
       "      <td>1.382214e-10</td>\n",
       "      <td>1.462371e-10</td>\n",
       "      <td>-2.251174e-09</td>\n",
       "      <td>-3.030118e-08</td>\n",
       "      <td>8.462031e-11</td>\n",
       "      <td>1.382156e-11</td>\n",
       "      <td>-6.444495e-11</td>\n",
       "      <td>-4.472232e-10</td>\n",
       "    </tr>\n",
       "    <tr>\n",
       "      <th>3</th>\n",
       "      <td>2.792855e-10</td>\n",
       "      <td>1.013093e-09</td>\n",
       "      <td>4.082218e-09</td>\n",
       "      <td>1.713217e-09</td>\n",
       "      <td>1.809696e-09</td>\n",
       "      <td>2.129901e-09</td>\n",
       "      <td>8.710371e-09</td>\n",
       "      <td>2.397936e-11</td>\n",
       "      <td>8.825091e-11</td>\n",
       "      <td>6.655336e-10</td>\n",
       "      <td>1.770510e-10</td>\n",
       "      <td>1.827205e-10</td>\n",
       "      <td>1.933168e-10</td>\n",
       "      <td>-2.975920e-09</td>\n",
       "      <td>-4.005638e-08</td>\n",
       "      <td>1.118631e-10</td>\n",
       "      <td>1.827128e-11</td>\n",
       "      <td>-8.519243e-11</td>\n",
       "      <td>-5.912028e-10</td>\n",
       "    </tr>\n",
       "    <tr>\n",
       "      <th>4</th>\n",
       "      <td>3.691990e-10</td>\n",
       "      <td>1.339250e-09</td>\n",
       "      <td>5.396451e-09</td>\n",
       "      <td>2.264772e-09</td>\n",
       "      <td>2.392311e-09</td>\n",
       "      <td>2.815603e-09</td>\n",
       "      <td>1.151460e-08</td>\n",
       "      <td>3.169931e-11</td>\n",
       "      <td>1.166625e-10</td>\n",
       "      <td>8.797963e-10</td>\n",
       "      <td>2.340510e-10</td>\n",
       "      <td>2.415458e-10</td>\n",
       "      <td>2.555535e-10</td>\n",
       "      <td>-3.933991e-09</td>\n",
       "      <td>-5.295217e-08</td>\n",
       "      <td>1.478764e-10</td>\n",
       "      <td>2.415356e-11</td>\n",
       "      <td>-1.126194e-10</td>\n",
       "      <td>-7.815353e-10</td>\n",
       "    </tr>\n",
       "  </tbody>\n",
       "</table>\n",
       "</div>"
      ],
      "text/plain": [
       "             0             1             2             3             4   \\\n",
       "0  1.208960e-10  4.385439e-10  1.767095e-09  7.416108e-10  7.833741e-10   \n",
       "1  1.598174e-10  5.797292e-10  2.335995e-09  9.803659e-10  1.035574e-09   \n",
       "2  2.112692e-10  7.663679e-10  3.088048e-09  1.295986e-09  1.368969e-09   \n",
       "3  2.792855e-10  1.013093e-09  4.082218e-09  1.713217e-09  1.809696e-09   \n",
       "4  3.691990e-10  1.339250e-09  5.396451e-09  2.264772e-09  2.392311e-09   \n",
       "\n",
       "             5             6             7             8             9   \\\n",
       "0  9.219831e-10  3.770512e-09  1.038009e-11  3.820171e-11  2.880936e-10   \n",
       "1  1.218807e-09  4.984395e-09  1.372187e-11  5.050041e-11  3.808428e-10   \n",
       "2  1.611192e-09  6.589076e-09  1.813951e-11  6.675858e-11  5.034518e-10   \n",
       "3  2.129901e-09  8.710371e-09  2.397936e-11  8.825091e-11  6.655336e-10   \n",
       "4  2.815603e-09  1.151460e-08  3.169931e-11  1.166625e-10  8.797963e-10   \n",
       "\n",
       "             10            11            12            13            14  \\\n",
       "0  7.664116e-11  7.909536e-11  8.368224e-11 -1.288205e-09 -1.733945e-08   \n",
       "1  1.013151e-10  1.045594e-10  1.106230e-10 -1.702931e-09 -2.292173e-08   \n",
       "2  1.339326e-10  1.382214e-10  1.462371e-10 -2.251174e-09 -3.030118e-08   \n",
       "3  1.770510e-10  1.827205e-10  1.933168e-10 -2.975920e-09 -4.005638e-08   \n",
       "4  2.340510e-10  2.415458e-10  2.555535e-10 -3.933991e-09 -5.295217e-08   \n",
       "\n",
       "             15            16            17            18  \n",
       "0  4.842285e-11  7.909202e-12 -3.687777e-11 -2.559176e-10  \n",
       "1  6.401216e-11  1.045550e-11 -4.875024e-11 -3.383080e-10  \n",
       "2  8.462031e-11  1.382156e-11 -6.444495e-11 -4.472232e-10  \n",
       "3  1.118631e-10  1.827128e-11 -8.519243e-11 -5.912028e-10  \n",
       "4  1.478764e-10  2.415356e-11 -1.126194e-10 -7.815353e-10  "
      ]
     },
     "execution_count": 32,
     "metadata": {},
     "output_type": "execute_result"
    }
   ],
   "source": [
    "df = pd.DataFrame(coefs)\n",
    "df[:5]"
   ]
  },
  {
   "cell_type": "code",
   "execution_count": 36,
   "metadata": {},
   "outputs": [],
   "source": [
    "# add column name\n",
    "df.columns = x.columns"
   ]
  },
  {
   "cell_type": "code",
   "execution_count": 37,
   "metadata": {},
   "outputs": [
    {
     "data": {
      "text/html": [
       "<div>\n",
       "<style scoped>\n",
       "    .dataframe tbody tr th:only-of-type {\n",
       "        vertical-align: middle;\n",
       "    }\n",
       "\n",
       "    .dataframe tbody tr th {\n",
       "        vertical-align: top;\n",
       "    }\n",
       "\n",
       "    .dataframe thead th {\n",
       "        text-align: right;\n",
       "    }\n",
       "</style>\n",
       "<table border=\"1\" class=\"dataframe\">\n",
       "  <thead>\n",
       "    <tr style=\"text-align: right;\">\n",
       "      <th></th>\n",
       "      <th>AtBat</th>\n",
       "      <th>Hits</th>\n",
       "      <th>HmRun</th>\n",
       "      <th>Runs</th>\n",
       "      <th>RBI</th>\n",
       "      <th>Walks</th>\n",
       "      <th>Years</th>\n",
       "      <th>CAtBat</th>\n",
       "      <th>CHits</th>\n",
       "      <th>CHmRun</th>\n",
       "      <th>CRuns</th>\n",
       "      <th>CRBI</th>\n",
       "      <th>CWalks</th>\n",
       "      <th>League</th>\n",
       "      <th>Division</th>\n",
       "      <th>PutOuts</th>\n",
       "      <th>Assists</th>\n",
       "      <th>Errors</th>\n",
       "      <th>NewLeague</th>\n",
       "    </tr>\n",
       "  </thead>\n",
       "  <tbody>\n",
       "    <tr>\n",
       "      <th>95</th>\n",
       "      <td>-1.031</td>\n",
       "      <td>3.747</td>\n",
       "      <td>-0.920</td>\n",
       "      <td>0.695</td>\n",
       "      <td>0.535</td>\n",
       "      <td>4.064</td>\n",
       "      <td>-10.579</td>\n",
       "      <td>-0.014</td>\n",
       "      <td>0.160</td>\n",
       "      <td>0.720</td>\n",
       "      <td>0.403</td>\n",
       "      <td>0.301</td>\n",
       "      <td>-0.403</td>\n",
       "      <td>57.629</td>\n",
       "      <td>-124.203</td>\n",
       "      <td>0.272</td>\n",
       "      <td>0.215</td>\n",
       "      <td>-3.842</td>\n",
       "      <td>-23.693</td>\n",
       "    </tr>\n",
       "    <tr>\n",
       "      <th>96</th>\n",
       "      <td>-1.187</td>\n",
       "      <td>4.220</td>\n",
       "      <td>-0.596</td>\n",
       "      <td>0.488</td>\n",
       "      <td>0.430</td>\n",
       "      <td>4.371</td>\n",
       "      <td>-10.891</td>\n",
       "      <td>-0.022</td>\n",
       "      <td>0.170</td>\n",
       "      <td>0.725</td>\n",
       "      <td>0.463</td>\n",
       "      <td>0.318</td>\n",
       "      <td>-0.457</td>\n",
       "      <td>58.938</td>\n",
       "      <td>-124.215</td>\n",
       "      <td>0.274</td>\n",
       "      <td>0.235</td>\n",
       "      <td>-3.855</td>\n",
       "      <td>-25.357</td>\n",
       "    </tr>\n",
       "    <tr>\n",
       "      <th>97</th>\n",
       "      <td>-1.335</td>\n",
       "      <td>4.689</td>\n",
       "      <td>-0.216</td>\n",
       "      <td>0.250</td>\n",
       "      <td>0.313</td>\n",
       "      <td>4.662</td>\n",
       "      <td>-10.943</td>\n",
       "      <td>-0.031</td>\n",
       "      <td>0.179</td>\n",
       "      <td>0.722</td>\n",
       "      <td>0.531</td>\n",
       "      <td>0.336</td>\n",
       "      <td>-0.507</td>\n",
       "      <td>59.905</td>\n",
       "      <td>-123.955</td>\n",
       "      <td>0.276</td>\n",
       "      <td>0.253</td>\n",
       "      <td>-3.842</td>\n",
       "      <td>-26.519</td>\n",
       "    </tr>\n",
       "    <tr>\n",
       "      <th>98</th>\n",
       "      <td>-1.468</td>\n",
       "      <td>5.136</td>\n",
       "      <td>0.199</td>\n",
       "      <td>-0.010</td>\n",
       "      <td>0.190</td>\n",
       "      <td>4.928</td>\n",
       "      <td>-10.754</td>\n",
       "      <td>-0.042</td>\n",
       "      <td>0.186</td>\n",
       "      <td>0.707</td>\n",
       "      <td>0.606</td>\n",
       "      <td>0.357</td>\n",
       "      <td>-0.553</td>\n",
       "      <td>60.611</td>\n",
       "      <td>-123.493</td>\n",
       "      <td>0.278</td>\n",
       "      <td>0.270</td>\n",
       "      <td>-3.810</td>\n",
       "      <td>-27.252</td>\n",
       "    </tr>\n",
       "    <tr>\n",
       "      <th>99</th>\n",
       "      <td>-1.584</td>\n",
       "      <td>5.546</td>\n",
       "      <td>0.632</td>\n",
       "      <td>-0.280</td>\n",
       "      <td>0.064</td>\n",
       "      <td>5.165</td>\n",
       "      <td>-10.360</td>\n",
       "      <td>-0.053</td>\n",
       "      <td>0.192</td>\n",
       "      <td>0.678</td>\n",
       "      <td>0.685</td>\n",
       "      <td>0.381</td>\n",
       "      <td>-0.595</td>\n",
       "      <td>61.128</td>\n",
       "      <td>-122.894</td>\n",
       "      <td>0.279</td>\n",
       "      <td>0.286</td>\n",
       "      <td>-3.767</td>\n",
       "      <td>-27.641</td>\n",
       "    </tr>\n",
       "  </tbody>\n",
       "</table>\n",
       "</div>"
      ],
      "text/plain": [
       "    AtBat   Hits  HmRun   Runs    RBI  Walks   Years  CAtBat  CHits  CHmRun  \\\n",
       "95 -1.031  3.747 -0.920  0.695  0.535  4.064 -10.579  -0.014  0.160   0.720   \n",
       "96 -1.187  4.220 -0.596  0.488  0.430  4.371 -10.891  -0.022  0.170   0.725   \n",
       "97 -1.335  4.689 -0.216  0.250  0.313  4.662 -10.943  -0.031  0.179   0.722   \n",
       "98 -1.468  5.136  0.199 -0.010  0.190  4.928 -10.754  -0.042  0.186   0.707   \n",
       "99 -1.584  5.546  0.632 -0.280  0.064  5.165 -10.360  -0.053  0.192   0.678   \n",
       "\n",
       "    CRuns   CRBI  CWalks  League  Division  PutOuts  Assists  Errors  \\\n",
       "95  0.403  0.301  -0.403  57.629  -124.203    0.272    0.215  -3.842   \n",
       "96  0.463  0.318  -0.457  58.938  -124.215    0.274    0.235  -3.855   \n",
       "97  0.531  0.336  -0.507  59.905  -123.955    0.276    0.253  -3.842   \n",
       "98  0.606  0.357  -0.553  60.611  -123.493    0.278    0.270  -3.810   \n",
       "99  0.685  0.381  -0.595  61.128  -122.894    0.279    0.286  -3.767   \n",
       "\n",
       "    NewLeague  \n",
       "95    -23.693  \n",
       "96    -25.357  \n",
       "97    -26.519  \n",
       "98    -27.252  \n",
       "99    -27.641  "
      ]
     },
     "execution_count": 37,
     "metadata": {},
     "output_type": "execute_result"
    }
   ],
   "source": [
    "# round to 3 digits after the decimal point\n",
    "df.round(3)[-5:]"
   ]
  },
  {
   "cell_type": "code",
   "execution_count": 38,
   "metadata": {},
   "outputs": [],
   "source": [
    "# plot coefficients vs alphas\n",
    "# shows the change of coefs when changing alpha"
   ]
  },
  {
   "cell_type": "code",
   "execution_count": 42,
   "metadata": {},
   "outputs": [
    {
     "data": {
      "image/png": "[encoded data removed]",
      "text/plain": [
       "<Figure size 864x432 with 1 Axes>"
      ]
     },
     "metadata": {
      "needs_background": "light"
     },
     "output_type": "display_data"
    }
   ],
   "source": [
    "plt.figure(figsize = (12,6))\n",
    "ax = plt.gca()          # get current axis\n",
    "ax.plot(alphas, coefs)\n",
    "ax.set_xscale('log')\n",
    "plt.grid()"
   ]
  },
  {
   "cell_type": "code",
   "execution_count": 45,
   "metadata": {},
   "outputs": [
    {
     "data": {
      "image/png": "[encoded data removed]",
      "text/plain": [
       "<Figure size 864x432 with 1 Axes>"
      ]
     },
     "metadata": {
      "needs_background": "light"
     },
     "output_type": "display_data"
    }
   ],
   "source": [
    "plt.figure(figsize = (12,6))\n",
    "ax = plt.gca()          # get current axis\n",
    "\n",
    "for i in range(19):\n",
    "    aux = np.array(coefs)[:,i]\n",
    "    ax.plot(alphas,aux,label = x.columns.values[i])\n",
    "    ax.set_xscale('log')\n",
    "    \n",
    "plt.legend(loc = 4)\n",
    "plt.xlabel('alphas')\n",
    "plt.ylabel('coefficients')\n",
    "plt.ylim(-130,70)\n",
    "plt.grid()"
   ]
  },
  {
   "cell_type": "code",
   "execution_count": 46,
   "metadata": {},
   "outputs": [],
   "source": [
    "# coefficients shrink to zero as alpha increases"
   ]
  },
  {
   "cell_type": "markdown",
   "metadata": {},
   "source": [
    "# Validation Approach with Fixed Alpha"
   ]
  },
  {
   "cell_type": "code",
   "execution_count": 48,
   "metadata": {},
   "outputs": [],
   "source": [
    "X_train, X_test, y_train, y_test = train_test_split(x, y, test_size = 0.50, random_state = 1)"
   ]
  },
  {
   "cell_type": "code",
   "execution_count": 49,
   "metadata": {},
   "outputs": [
    {
     "data": {
      "text/plain": [
       "Ridge(alpha=4, copy_X=True, fit_intercept=True, max_iter=None, normalize=True,\n",
       "      random_state=None, solver='auto', tol=0.001)"
      ]
     },
     "execution_count": 49,
     "metadata": {},
     "output_type": "execute_result"
    }
   ],
   "source": [
    "# fit model with alpha = 4\n",
    "ridge2 = Ridge(alpha = 4, normalize = True)\n",
    "ridge2.fit(X_train, y_train)"
   ]
  },
  {
   "cell_type": "code",
   "execution_count": 50,
   "metadata": {},
   "outputs": [
    {
     "data": {
      "text/html": [
       "<div>\n",
       "<style scoped>\n",
       "    .dataframe tbody tr th:only-of-type {\n",
       "        vertical-align: middle;\n",
       "    }\n",
       "\n",
       "    .dataframe tbody tr th {\n",
       "        vertical-align: top;\n",
       "    }\n",
       "\n",
       "    .dataframe thead th {\n",
       "        text-align: right;\n",
       "    }\n",
       "</style>\n",
       "<table border=\"1\" class=\"dataframe\">\n",
       "  <thead>\n",
       "    <tr style=\"text-align: right;\">\n",
       "      <th></th>\n",
       "      <th>0</th>\n",
       "    </tr>\n",
       "  </thead>\n",
       "  <tbody>\n",
       "    <tr>\n",
       "      <th>AtBat</th>\n",
       "      <td>0.098658</td>\n",
       "    </tr>\n",
       "    <tr>\n",
       "      <th>Hits</th>\n",
       "      <td>0.446094</td>\n",
       "    </tr>\n",
       "    <tr>\n",
       "      <th>HmRun</th>\n",
       "      <td>1.412107</td>\n",
       "    </tr>\n",
       "    <tr>\n",
       "      <th>Runs</th>\n",
       "      <td>0.660773</td>\n",
       "    </tr>\n",
       "    <tr>\n",
       "      <th>RBI</th>\n",
       "      <td>0.843403</td>\n",
       "    </tr>\n",
       "    <tr>\n",
       "      <th>Walks</th>\n",
       "      <td>1.008473</td>\n",
       "    </tr>\n",
       "    <tr>\n",
       "      <th>Years</th>\n",
       "      <td>2.779882</td>\n",
       "    </tr>\n",
       "    <tr>\n",
       "      <th>CAtBat</th>\n",
       "      <td>0.008244</td>\n",
       "    </tr>\n",
       "    <tr>\n",
       "      <th>CHits</th>\n",
       "      <td>0.034149</td>\n",
       "    </tr>\n",
       "    <tr>\n",
       "      <th>CHmRun</th>\n",
       "      <td>0.268634</td>\n",
       "    </tr>\n",
       "    <tr>\n",
       "      <th>CRuns</th>\n",
       "      <td>0.070407</td>\n",
       "    </tr>\n",
       "    <tr>\n",
       "      <th>CRBI</th>\n",
       "      <td>0.070060</td>\n",
       "    </tr>\n",
       "    <tr>\n",
       "      <th>CWalks</th>\n",
       "      <td>0.082795</td>\n",
       "    </tr>\n",
       "    <tr>\n",
       "      <th>League</th>\n",
       "      <td>4.241051</td>\n",
       "    </tr>\n",
       "    <tr>\n",
       "      <th>Division</th>\n",
       "      <td>-30.768885</td>\n",
       "    </tr>\n",
       "    <tr>\n",
       "      <th>PutOuts</th>\n",
       "      <td>0.104747</td>\n",
       "    </tr>\n",
       "    <tr>\n",
       "      <th>Assists</th>\n",
       "      <td>-0.003739</td>\n",
       "    </tr>\n",
       "    <tr>\n",
       "      <th>Errors</th>\n",
       "      <td>0.268363</td>\n",
       "    </tr>\n",
       "    <tr>\n",
       "      <th>NewLeague</th>\n",
       "      <td>4.123474</td>\n",
       "    </tr>\n",
       "  </tbody>\n",
       "</table>\n",
       "</div>"
      ],
      "text/plain": [
       "                   0\n",
       "AtBat       0.098658\n",
       "Hits        0.446094\n",
       "HmRun       1.412107\n",
       "Runs        0.660773\n",
       "RBI         0.843403\n",
       "Walks       1.008473\n",
       "Years       2.779882\n",
       "CAtBat      0.008244\n",
       "CHits       0.034149\n",
       "CHmRun      0.268634\n",
       "CRuns       0.070407\n",
       "CRBI        0.070060\n",
       "CWalks      0.082795\n",
       "League      4.241051\n",
       "Division  -30.768885\n",
       "PutOuts     0.104747\n",
       "Assists    -0.003739\n",
       "Errors      0.268363\n",
       "NewLeague   4.123474"
      ]
     },
     "execution_count": 50,
     "metadata": {},
     "output_type": "execute_result"
    }
   ],
   "source": [
    "# model coefs\n",
    "pd.DataFrame(ridge2.coef_,index = x.columns)"
   ]
  },
  {
   "cell_type": "code",
   "execution_count": 52,
   "metadata": {},
   "outputs": [
    {
     "data": {
      "text/plain": [
       "106216.52238005563"
      ]
     },
     "execution_count": 52,
     "metadata": {},
     "output_type": "execute_result"
    }
   ],
   "source": [
    "# MSE of test set (for alpha = 4)\n",
    "# compare predictions vs test y\n",
    "pred2 = ridge2.predict(X_test)\n",
    "mean_squared_error(y_test,pred2)"
   ]
  },
  {
   "cell_type": "code",
   "execution_count": 53,
   "metadata": {},
   "outputs": [
    {
     "data": {
      "text/html": [
       "<div>\n",
       "<style scoped>\n",
       "    .dataframe tbody tr th:only-of-type {\n",
       "        vertical-align: middle;\n",
       "    }\n",
       "\n",
       "    .dataframe tbody tr th {\n",
       "        vertical-align: top;\n",
       "    }\n",
       "\n",
       "    .dataframe thead th {\n",
       "        text-align: right;\n",
       "    }\n",
       "</style>\n",
       "<table border=\"1\" class=\"dataframe\">\n",
       "  <thead>\n",
       "    <tr style=\"text-align: right;\">\n",
       "      <th></th>\n",
       "      <th>Salary</th>\n",
       "      <th>Predicted</th>\n",
       "    </tr>\n",
       "  </thead>\n",
       "  <tbody>\n",
       "    <tr>\n",
       "      <th>126</th>\n",
       "      <td>500.0</td>\n",
       "      <td>463.369745</td>\n",
       "    </tr>\n",
       "    <tr>\n",
       "      <th>13</th>\n",
       "      <td>700.0</td>\n",
       "      <td>349.309231</td>\n",
       "    </tr>\n",
       "    <tr>\n",
       "      <th>207</th>\n",
       "      <td>700.0</td>\n",
       "      <td>651.747055</td>\n",
       "    </tr>\n",
       "    <tr>\n",
       "      <th>221</th>\n",
       "      <td>210.0</td>\n",
       "      <td>533.997460</td>\n",
       "    </tr>\n",
       "    <tr>\n",
       "      <th>68</th>\n",
       "      <td>105.0</td>\n",
       "      <td>509.718624</td>\n",
       "    </tr>\n",
       "  </tbody>\n",
       "</table>\n",
       "</div>"
      ],
      "text/plain": [
       "     Salary   Predicted\n",
       "126   500.0  463.369745\n",
       "13    700.0  349.309231\n",
       "207   700.0  651.747055\n",
       "221   210.0  533.997460\n",
       "68    105.0  509.718624"
      ]
     },
     "execution_count": 53,
     "metadata": {},
     "output_type": "execute_result"
    }
   ],
   "source": [
    "df = pd.DataFrame()\n",
    "df['Salary'] = y_test\n",
    "df['Predicted'] = pred2\n",
    "df[:5]"
   ]
  },
  {
   "cell_type": "code",
   "execution_count": 54,
   "metadata": {},
   "outputs": [
    {
     "data": {
      "text/plain": [
       "Ridge(alpha=1000000000, copy_X=True, fit_intercept=True, max_iter=None,\n",
       "      normalize=True, random_state=None, solver='auto', tol=0.001)"
      ]
     },
     "execution_count": 54,
     "metadata": {},
     "output_type": "execute_result"
    }
   ],
   "source": [
    "# fit model with huge alpha = 10^9\n",
    "ridge3 = Ridge(alpha = 10**9, normalize = True)\n",
    "ridge3.fit(X_train, y_train)"
   ]
  },
  {
   "cell_type": "code",
   "execution_count": 55,
   "metadata": {},
   "outputs": [
    {
     "name": "stdout",
     "output_type": "stream",
     "text": [
      "AtBat        1.317464e-09\n",
      "Hits         4.647486e-09\n",
      "HmRun        2.079865e-08\n",
      "Runs         7.726175e-09\n",
      "RBI          9.390640e-09\n",
      "Walks        9.769219e-09\n",
      "Years        3.961442e-08\n",
      "CAtBat       1.060533e-10\n",
      "CHits        3.993605e-10\n",
      "CHmRun       2.959428e-09\n",
      "CRuns        8.245247e-10\n",
      "CRBI         7.795450e-10\n",
      "CWalks       9.894387e-10\n",
      "League      -2.501281e-08\n",
      "Division    -1.549951e-07\n",
      "PutOuts      7.268991e-10\n",
      "Assists     -2.615885e-11\n",
      "Errors       2.084514e-09\n",
      "NewLeague   -2.023196e-08\n",
      "dtype: float64\n"
     ]
    }
   ],
   "source": [
    "print(pd.Series(ridge3.coef_, index = x.columns))"
   ]
  },
  {
   "cell_type": "code",
   "execution_count": 56,
   "metadata": {},
   "outputs": [],
   "source": [
    "# all coefs very close to zero"
   ]
  },
  {
   "cell_type": "code",
   "execution_count": 57,
   "metadata": {},
   "outputs": [
    {
     "data": {
      "text/plain": [
       "172862.234750706"
      ]
     },
     "execution_count": 57,
     "metadata": {},
     "output_type": "execute_result"
    }
   ],
   "source": [
    "# MSE for test set (for alpha = 10^9)\n",
    "pred3 = ridge3.predict(X_test)\n",
    "mean_squared_error(y_test, pred3)"
   ]
  },
  {
   "cell_type": "code",
   "execution_count": 58,
   "metadata": {},
   "outputs": [],
   "source": [
    "# over shrinking results in a higher test MSE"
   ]
  },
  {
   "cell_type": "markdown",
   "metadata": {},
   "source": [
    "# Compare Ridge Regression with Linear Regression"
   ]
  },
  {
   "cell_type": "code",
   "execution_count": 59,
   "metadata": {},
   "outputs": [
    {
     "data": {
      "text/plain": [
       "Ridge(alpha=0, copy_X=True, fit_intercept=True, max_iter=None, normalize=True,\n",
       "      random_state=None, solver='auto', tol=0.001)"
      ]
     },
     "execution_count": 59,
     "metadata": {},
     "output_type": "execute_result"
    }
   ],
   "source": [
    "ridge0 = Ridge(alpha = 0, normalize = True)\n",
    "ridge0.fit(X_train, y_train)"
   ]
  },
  {
   "cell_type": "code",
   "execution_count": 60,
   "metadata": {},
   "outputs": [
    {
     "name": "stdout",
     "output_type": "stream",
     "text": [
      "AtBat         -1.821115\n",
      "Hits           4.259156\n",
      "HmRun         -4.773401\n",
      "Runs          -0.038760\n",
      "RBI            3.984578\n",
      "Walks          3.470126\n",
      "Years          9.498236\n",
      "CAtBat        -0.605129\n",
      "CHits          2.174979\n",
      "CHmRun         2.979306\n",
      "CRuns          0.266356\n",
      "CRBI          -0.598456\n",
      "CWalks         0.171383\n",
      "League       133.743163\n",
      "Division    -113.743875\n",
      "PutOuts        0.421063\n",
      "Assists        0.464379\n",
      "Errors        -6.024576\n",
      "NewLeague    -81.927763\n",
      "dtype: float64\n"
     ]
    }
   ],
   "source": [
    "print(pd.Series(ridge0.coef_, index = x.columns))"
   ]
  },
  {
   "cell_type": "code",
   "execution_count": 62,
   "metadata": {},
   "outputs": [
    {
     "data": {
      "text/plain": [
       "116690.46856660438"
      ]
     },
     "execution_count": 62,
     "metadata": {},
     "output_type": "execute_result"
    }
   ],
   "source": [
    "# MSE of linear regression\n",
    "pred = ridge0.predict(X_test)\n",
    "mean_squared_error(y_test, pred)"
   ]
  },
  {
   "cell_type": "code",
   "execution_count": 63,
   "metadata": {},
   "outputs": [],
   "source": [
    "# test MSE with alpha = 0 is larger than test MSE with alpha = 4"
   ]
  },
  {
   "cell_type": "markdown",
   "metadata": {},
   "source": [
    "# Ridge Regression Cross-Validation Seeking the Best Alpha"
   ]
  },
  {
   "cell_type": "code",
   "execution_count": 68,
   "metadata": {},
   "outputs": [
    {
     "data": {
      "text/plain": [
       "RidgeCV(alphas=array([1.00000000e+10, 7.56463328e+09, 5.72236766e+09, 4.32876128e+09,\n",
       "       3.27454916e+09, 2.47707636e+09, 1.87381742e+09, 1.41747416e+09,\n",
       "       1.07226722e+09, 8.11130831e+08, 6.13590727e+08, 4.64158883e+08,\n",
       "       3.51119173e+08, 2.65608778e+08, 2.00923300e+08, 1.51991108e+08,\n",
       "       1.14975700e+08, 8.69749003e+07, 6.57933225e+07, 4.97702356e+07,\n",
       "       3.76493581e+07, 2.84803587e+0...\n",
       "       6.57933225e-01, 4.97702356e-01, 3.76493581e-01, 2.84803587e-01,\n",
       "       2.15443469e-01, 1.62975083e-01, 1.23284674e-01, 9.32603347e-02,\n",
       "       7.05480231e-02, 5.33669923e-02, 4.03701726e-02, 3.05385551e-02,\n",
       "       2.31012970e-02, 1.74752840e-02, 1.32194115e-02, 1.00000000e-02]),\n",
       "        cv=None, fit_intercept=True, gcv_mode=None, normalize=True,\n",
       "        scoring='neg_mean_squared_error', store_cv_values=False)"
      ]
     },
     "execution_count": 68,
     "metadata": {},
     "output_type": "execute_result"
    }
   ],
   "source": [
    "# the first 'alpha' is the parameter, the second one is the list of alphas we created ealier\n",
    "ridgecv = RidgeCV(alphas = alphas, scoring = 'neg_mean_squared_error', normalize = True)\n",
    "ridgecv.fit(X_train, y_train)"
   ]
  },
  {
   "cell_type": "code",
   "execution_count": 69,
   "metadata": {},
   "outputs": [
    {
     "data": {
      "text/plain": [
       "0.49770235643321137"
      ]
     },
     "execution_count": 69,
     "metadata": {},
     "output_type": "execute_result"
    }
   ],
   "source": [
    "# best alpha\n",
    "ridgecv.alpha_"
   ]
  },
  {
   "cell_type": "code",
   "execution_count": 71,
   "metadata": {},
   "outputs": [
    {
     "data": {
      "text/plain": [
       "99997.35172902551"
      ]
     },
     "execution_count": 71,
     "metadata": {},
     "output_type": "execute_result"
    }
   ],
   "source": [
    "# best alpha test MSE\n",
    "ridge4 = Ridge(alpha = ridgecv.alpha_, normalize = True)\n",
    "ridge4.fit(X_train, y_train)\n",
    "mean_squared_error(y_test, ridge4.predict(X_test))"
   ]
  },
  {
   "cell_type": "code",
   "execution_count": 72,
   "metadata": {},
   "outputs": [],
   "source": [
    "# better than alpha = 4"
   ]
  },
  {
   "cell_type": "code",
   "execution_count": 73,
   "metadata": {},
   "outputs": [],
   "source": [
    "# coefficients for new prediction - use full dataset"
   ]
  },
  {
   "cell_type": "code",
   "execution_count": 74,
   "metadata": {},
   "outputs": [
    {
     "data": {
      "text/plain": [
       "Ridge(alpha=0.49770235643321137, copy_X=True, fit_intercept=True, max_iter=None,\n",
       "      normalize=True, random_state=None, solver='auto', tol=0.001)"
      ]
     },
     "execution_count": 74,
     "metadata": {},
     "output_type": "execute_result"
    }
   ],
   "source": [
    "ridge4.fit(x, y)"
   ]
  },
  {
   "cell_type": "code",
   "execution_count": 75,
   "metadata": {},
   "outputs": [
    {
     "data": {
      "text/plain": [
       "AtBat         0.039089\n",
       "Hits          0.987271\n",
       "HmRun         0.210328\n",
       "Runs          1.108092\n",
       "RBI           0.875440\n",
       "Walks         1.778644\n",
       "Years         0.351680\n",
       "CAtBat        0.011224\n",
       "CHits         0.063656\n",
       "CHmRun        0.443470\n",
       "CRuns         0.126382\n",
       "CRBI          0.135001\n",
       "CWalks        0.033335\n",
       "League       26.494555\n",
       "Division    -90.056030\n",
       "PutOuts       0.188256\n",
       "Assists       0.040423\n",
       "Errors       -1.751570\n",
       "NewLeague     7.580892\n",
       "dtype: float64"
      ]
     },
     "execution_count": 75,
     "metadata": {},
     "output_type": "execute_result"
    }
   ],
   "source": [
    "pd.Series(ridge4.coef_, index = x.columns)"
   ]
  },
  {
   "cell_type": "markdown",
   "metadata": {},
   "source": [
    "# Lasso Regression"
   ]
  },
  {
   "cell_type": "code",
   "execution_count": 77,
   "metadata": {},
   "outputs": [],
   "source": [
    "# lasso may not converge (fail!) unless a large number of iterations are carried out"
   ]
  },
  {
   "cell_type": "code",
   "execution_count": 78,
   "metadata": {},
   "outputs": [],
   "source": [
    "lasso_model = Lasso(max_iter = 10000, normalize = True)"
   ]
  },
  {
   "cell_type": "code",
   "execution_count": 79,
   "metadata": {},
   "outputs": [],
   "source": [
    "# scale the data\n",
    "from sklearn.preprocessing import scale"
   ]
  },
  {
   "cell_type": "code",
   "execution_count": 81,
   "metadata": {},
   "outputs": [],
   "source": [
    "coefs = []\n",
    "for a in alphas:\n",
    "    lasso_model.set_params(alpha = a)\n",
    "    lasso_model.fit(scale(X_train),y_train)\n",
    "    coefs.append(lasso_model.coef_)"
   ]
  },
  {
   "cell_type": "code",
   "execution_count": 87,
   "metadata": {},
   "outputs": [
    {
     "data": {
      "image/png": "[encoded data removed]",
      "text/plain": [
       "<Figure size 864x432 with 1 Axes>"
      ]
     },
     "metadata": {
      "needs_background": "light"
     },
     "output_type": "display_data"
    }
   ],
   "source": [
    "plt.figure(figsize = (12,6))\n",
    "ax = plt.gca()\n",
    "\n",
    "for i in range(19):\n",
    "    aux = np.array(coefs)[:,i]\n",
    "    ax.plot(alphas,aux,label = x.columns.values[i])\n",
    "    ax.set_xscale('log')\n",
    "    \n",
    "plt.legend(loc = 4)\n",
    "plt.xlabel('alphas')\n",
    "plt.ylabel('coefficients')\n",
    "plt.grid()"
   ]
  },
  {
   "cell_type": "markdown",
   "metadata": {},
   "source": [
    "# Lasso Cross-Validations Seeking the Best Alpha"
   ]
  },
  {
   "cell_type": "code",
   "execution_count": 88,
   "metadata": {},
   "outputs": [
    {
     "data": {
      "text/plain": [
       "LassoCV(alphas=array([1.00000000e+10, 7.56463328e+09, 5.72236766e+09, 4.32876128e+09,\n",
       "       3.27454916e+09, 2.47707636e+09, 1.87381742e+09, 1.41747416e+09,\n",
       "       1.07226722e+09, 8.11130831e+08, 6.13590727e+08, 4.64158883e+08,\n",
       "       3.51119173e+08, 2.65608778e+08, 2.00923300e+08, 1.51991108e+08,\n",
       "       1.14975700e+08, 8.69749003e+07, 6.57933225e+07, 4.97702356e+07,\n",
       "       3.76493581e+07, 2.84803587e+0...\n",
       "       2.15443469e-01, 1.62975083e-01, 1.23284674e-01, 9.32603347e-02,\n",
       "       7.05480231e-02, 5.33669923e-02, 4.03701726e-02, 3.05385551e-02,\n",
       "       2.31012970e-02, 1.74752840e-02, 1.32194115e-02, 1.00000000e-02]),\n",
       "        copy_X=True, cv=10, eps=0.001, fit_intercept=True, max_iter=10000,\n",
       "        n_alphas=100, n_jobs=None, normalize=True, positive=False,\n",
       "        precompute='auto', random_state=None, selection='cyclic', tol=0.0001,\n",
       "        verbose=False)"
      ]
     },
     "execution_count": 88,
     "metadata": {},
     "output_type": "execute_result"
    }
   ],
   "source": [
    "lassocv = LassoCV(alphas = alphas, cv = 10, max_iter = 10000, normalize = True)\n",
    "lassocv.fit(X_train, y_train)"
   ]
  },
  {
   "cell_type": "code",
   "execution_count": 89,
   "metadata": {},
   "outputs": [
    {
     "data": {
      "text/plain": [
       "2.656087782946684"
      ]
     },
     "execution_count": 89,
     "metadata": {},
     "output_type": "execute_result"
    }
   ],
   "source": [
    "# best alpha\n",
    "lassocv.alpha_"
   ]
  },
  {
   "cell_type": "code",
   "execution_count": 90,
   "metadata": {},
   "outputs": [],
   "source": [
    "# best alpha test MSE"
   ]
  },
  {
   "cell_type": "code",
   "execution_count": 91,
   "metadata": {},
   "outputs": [
    {
     "data": {
      "text/plain": [
       "Lasso(alpha=2.656087782946684, copy_X=True, fit_intercept=True, max_iter=10000,\n",
       "      normalize=True, positive=False, precompute=False, random_state=None,\n",
       "      selection='cyclic', tol=0.0001, warm_start=False)"
      ]
     },
     "execution_count": 91,
     "metadata": {},
     "output_type": "execute_result"
    }
   ],
   "source": [
    "lasso_model.set_params(alpha = lassocv.alpha_)"
   ]
  },
  {
   "cell_type": "code",
   "execution_count": 94,
   "metadata": {},
   "outputs": [
    {
     "data": {
      "text/plain": [
       "105162.1584888249"
      ]
     },
     "execution_count": 94,
     "metadata": {},
     "output_type": "execute_result"
    }
   ],
   "source": [
    "lasso_model.fit(X_train, y_train)\n",
    "mean_squared_error(y_test, lasso_model.predict(X_test))"
   ]
  },
  {
   "cell_type": "code",
   "execution_count": 95,
   "metadata": {},
   "outputs": [],
   "source": [
    "# not as good"
   ]
  },
  {
   "cell_type": "code",
   "execution_count": 96,
   "metadata": {},
   "outputs": [
    {
     "data": {
      "text/plain": [
       "AtBat         0.000000\n",
       "Hits          1.060003\n",
       "HmRun         0.000000\n",
       "Runs          0.000000\n",
       "RBI           0.000000\n",
       "Walks         2.859441\n",
       "Years         0.000000\n",
       "CAtBat        0.000000\n",
       "CHits         0.000000\n",
       "CHmRun        0.206718\n",
       "CRuns         0.000000\n",
       "CRBI          0.510666\n",
       "CWalks        0.000000\n",
       "League        0.000000\n",
       "Division    -83.473926\n",
       "PutOuts       0.363681\n",
       "Assists      -0.000000\n",
       "Errors       -0.000000\n",
       "NewLeague     0.000000\n",
       "dtype: float64"
      ]
     },
     "execution_count": 96,
     "metadata": {},
     "output_type": "execute_result"
    }
   ],
   "source": [
    "pd.Series(lasso_model.coef_, index = x.columns)"
   ]
  },
  {
   "cell_type": "code",
   "execution_count": 97,
   "metadata": {},
   "outputs": [],
   "source": [
    "# dimentional reduction\n",
    "# 13 regression coefficients equal to zero using the best alpha found by cv"
   ]
  },
  {
   "cell_type": "code",
   "execution_count": 99,
   "metadata": {},
   "outputs": [
    {
     "data": {
      "text/plain": [
       "AtBat         0.000000\n",
       "Hits          1.645595\n",
       "HmRun         0.000000\n",
       "Runs          0.000000\n",
       "RBI           0.000000\n",
       "Walks         1.903195\n",
       "Years         0.000000\n",
       "CAtBat        0.000000\n",
       "CHits         0.000000\n",
       "CHmRun        0.000000\n",
       "CRuns         0.181064\n",
       "CRBI          0.377327\n",
       "CWalks        0.000000\n",
       "League        0.000000\n",
       "Division    -55.866160\n",
       "PutOuts       0.152331\n",
       "Assists       0.000000\n",
       "Errors       -0.000000\n",
       "NewLeague     0.000000\n",
       "dtype: float64"
      ]
     },
     "execution_count": 99,
     "metadata": {},
     "output_type": "execute_result"
    }
   ],
   "source": [
    "# coefs for new prediction - using full dataset\n",
    "lasso_model.fit(x,y)\n",
    "pd.Series(lasso_model.coef_, index = x.columns)"
   ]
  }
 ],
 "metadata": {
  "kernelspec": {
   "display_name": "Python 3",
   "language": "python",
   "name": "python3"
  },
  "language_info": {
   "codemirror_mode": {
    "name": "ipython",
    "version": 3
   },
   "file_extension": ".py",
   "mimetype": "text/x-python",
   "name": "python",
   "nbconvert_exporter": "python",
   "pygments_lexer": "ipython3",
   "version": "3.7.3"
  }
 },
 "nbformat": 4,
 "nbformat_minor": 2
}
